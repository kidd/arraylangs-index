{
 "cells": [
  {
   "cell_type": "markdown",
   "id": "624a2b33-d4de-4821-ab95-9ab9f4c6117d",
   "metadata": {
    "tags": []
   },
   "source": [
    "# Prime numbers"
   ]
  },
  {
   "cell_type": "markdown",
   "id": "4df5294c-8af0-464a-8db3-16b94256fe43",
   "metadata": {},
   "source": [
    "The canonical way to look for prime numbers in array programming languages is quite expensive, and it's not useful for bigger numbers, but the same way as with the old CS exercise of factorial as a recursive function, it teaches some principles that are worth learning.\n",
    "\n",
    "In k, the usual prime number listing is the following"
   ]
  },
  {
   "cell_type": "code",
   "execution_count": 9,
   "id": "d491c01f-737e-4a76-ae5b-0a13f79c7966",
   "metadata": {},
   "outputs": [
    {
     "name": "stdout",
     "output_type": "stream",
     "text": [
      "2 3 5 7 11 13 17 19 23 29 31 37 41 43 47 53 59 61 67 71 73 79 83 89 97\n"
     ]
    }
   ],
   "source": [
    "&2=+/~x!/:\\:x:!100"
   ]
  },
  {
   "cell_type": "markdown",
   "id": "dc80d45a-f485-4135-8ec7-13313b5613cd",
   "metadata": {},
   "source": [
    "As with many array oriented solutions, the code calculates more than needed, and later it filters only the results we want.\n",
    "\n",
    "In this case, we start by using `int` to create our range of the first `n` integers. We'll build up the command with 10"
   ]
  },
  {
   "cell_type": "code",
   "execution_count": 11,
   "id": "7096d15f-6569-4d29-8bd8-ef69fed8eeda",
   "metadata": {},
   "outputs": [
    {
     "name": "stdout",
     "output_type": "stream",
     "text": [
      "0 1 2 3 4 5 6 7 8 9\n"
     ]
    }
   ],
   "source": [
    "!10"
   ]
  },
  {
   "cell_type": "markdown",
   "id": "db166720-eff4-4e6f-a848-ff29161ad622",
   "metadata": {},
   "source": [
    "We assign it to `x`, as we'll need for the future cross-module"
   ]
  },
  {
   "cell_type": "code",
   "execution_count": 14,
   "id": "6666d08a-e7d6-4e9c-9135-8b07c9da91ff",
   "metadata": {},
   "outputs": [],
   "source": [
    "x:!10"
   ]
  },
  {
   "cell_type": "markdown",
   "id": "1443d1fb-d5e4-4125-81fd-cc60a9ebf815",
   "metadata": {},
   "source": [
    "We use a each-right-each-left, to run a function from each one of the values on the left against each one of the values on the right.\n",
    "We use `x` as both left and right. \n",
    "\n",
    "Let's try with `,`"
   ]
  },
  {
   "cell_type": "code",
   "execution_count": 17,
   "id": "a00cf324-4dce-4b76-add4-7c2f447df638",
   "metadata": {},
   "outputs": [
    {
     "name": "stdout",
     "output_type": "stream",
     "text": [
      "((0 0;0 1;0 2;0 3;0 4;0 5;0 6;0 7;0 8;0 9)\n",
      " (1 0;1 1;1 2;1 3;1 4;1 5;1 6;1 7;1 8;1 9)\n",
      " (2 0;2 1;2 2;2 3;2 4;2 5;2 6;2 7;2 8;2 9)\n",
      " (3 0;3 1;3 2;3 3;3 4;3 5;3 6;3 7;3 8;3 9)\n",
      " (4 0;4 1;4 2;4 3;4 4;4 5;4 6;4 7;4 8;4 9)\n",
      " (5 0;5 1;5 2;5 3;5 4;5 5;5 6;5 7;5 8;5 9)\n",
      " (6 0;6 1;6 2;6 3;6 4;6 5;6 6;6 7;6 8;6 9)\n",
      " (7 0;7 1;7 2;7 3;7 4;7 5;7 6;7 7;7 8;7 9)\n",
      " (8 0;8 1;8 2;8 3;8 4;8 5;8 6;8 7;8 8;8 9)\n",
      " (9 0;9 1;9 2;9 3;9 4;9 5;9 6;9 7;9 8;9 9))\n"
     ]
    }
   ],
   "source": [
    "x,/:\\:x:!10"
   ]
  },
  {
   "cell_type": "markdown",
   "id": "b9775d2b-224f-4abf-8b74-784ddc7f940e",
   "metadata": {},
   "source": [
    "So now that we know the pairs, we run `!` to get the modulus"
   ]
  },
  {
   "cell_type": "code",
   "execution_count": 18,
   "id": "c7104a0f-0c22-4613-a842-17e4e1e4d6d7",
   "metadata": {},
   "outputs": [
    {
     "name": "stdout",
     "output_type": "stream",
     "text": [
      "(0 1 2 3 4 5 6 7 8 9\n",
      " 0 0 0 0 0 0 0 0 0 0\n",
      " 0 1 0 1 0 1 0 1 0 1\n",
      " 0 1 2 0 1 2 0 1 2 0\n",
      " 0 1 2 3 0 1 2 3 0 1\n",
      " 0 1 2 3 4 0 1 2 3 4\n",
      " 0 1 2 3 4 5 0 1 2 3\n",
      " 0 1 2 3 4 5 6 0 1 2\n",
      " 0 1 2 3 4 5 6 7 0 1\n",
      " 0 1 2 3 4 5 6 7 8 0)\n"
     ]
    }
   ],
   "source": [
    "x!/:\\:x:!10"
   ]
  },
  {
   "cell_type": "markdown",
   "id": "df9829d0-e20d-4a0f-83bc-a26b61801f05",
   "metadata": {},
   "source": [
    "negate everything, so we get `0` for anything non 0, and `1` for every 0"
   ]
  },
  {
   "cell_type": "code",
   "execution_count": 19,
   "id": "30d8f5a6-400b-452b-a448-e802791afac9",
   "metadata": {},
   "outputs": [
    {
     "name": "stdout",
     "output_type": "stream",
     "text": [
      "(1 0 0 0 0 0 0 0 0 0\n",
      " 1 1 1 1 1 1 1 1 1 1\n",
      " 1 0 1 0 1 0 1 0 1 0\n",
      " 1 0 0 1 0 0 1 0 0 1\n",
      " 1 0 0 0 1 0 0 0 1 0\n",
      " 1 0 0 0 0 1 0 0 0 0\n",
      " 1 0 0 0 0 0 1 0 0 0\n",
      " 1 0 0 0 0 0 0 1 0 0\n",
      " 1 0 0 0 0 0 0 0 1 0\n",
      " 1 0 0 0 0 0 0 0 0 1)\n"
     ]
    }
   ],
   "source": [
    "~x!/:\\:x:!10"
   ]
  },
  {
   "cell_type": "markdown",
   "id": "b34095de-dbed-4fde-abc1-f5395efab76d",
   "metadata": {},
   "source": [
    "And now, we do a sum-reduce to know how many divisors each column has"
   ]
  },
  {
   "cell_type": "code",
   "execution_count": 21,
   "id": "43daac35-2622-4711-8324-92b6fe0e738e",
   "metadata": {},
   "outputs": [
    {
     "name": "stdout",
     "output_type": "stream",
     "text": [
      "10 1 2 2 3 2 4 2 4 3\n"
     ]
    }
   ],
   "source": [
    "+/~x!/:\\:x:!10"
   ]
  },
  {
   "cell_type": "markdown",
   "id": "cdc3aca4-065d-44f5-8e68-536ff4f96e61",
   "metadata": {},
   "source": [
    "Once here, we know that prime numbers are the ones who have exactly 2 divisors (1 and themselves), so we keep the ones that are =2.\n",
    "\n",
    "In the array language world, many functions return either a mask of 1s and 0s or sometimes return the indices of the interesting elements. In this case, `filter` returns a mask."
   ]
  },
  {
   "cell_type": "code",
   "execution_count": 22,
   "id": "c3c28852-7796-431f-ae43-fbdb8dc51bf5",
   "metadata": {},
   "outputs": [
    {
     "name": "stdout",
     "output_type": "stream",
     "text": [
      "0 0 1 1 0 1 0 1 0 0\n"
     ]
    }
   ],
   "source": [
    "2=+/~x!/:\\:x:!10"
   ]
  },
  {
   "cell_type": "markdown",
   "id": "55daf0d4-4a91-4bcb-9847-06510d05eb48",
   "metadata": {},
   "source": [
    "But we can convert from a mask to the indices very easily (with `where`). The indices are the prime numbers themselves"
   ]
  },
  {
   "cell_type": "code",
   "execution_count": 26,
   "id": "6c52d8ba-ea41-416f-bde1-fd7c9c5ea4cc",
   "metadata": {},
   "outputs": [
    {
     "name": "stdout",
     "output_type": "stream",
     "text": [
      "2 3 5 7\n"
     ]
    }
   ],
   "source": [
    "&2=+/~x!/:\\:x:!10"
   ]
  },
  {
   "cell_type": "markdown",
   "id": "dec8736c-154d-4141-b4ed-98d7505b811c",
   "metadata": {},
   "source": [
    "Tada!"
   ]
  }
 ],
 "metadata": {
  "kernelspec": {
   "display_name": "ngn/k",
   "language": "ngnk",
   "name": "ngnk"
  },
  "language_info": {
   "file_extension": ".k",
   "mimetype": "text/ngnk",
   "name": "ngnk"
  }
 },
 "nbformat": 4,
 "nbformat_minor": 5
}
