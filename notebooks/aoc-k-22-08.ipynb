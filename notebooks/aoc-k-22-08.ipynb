{
 "cells": [
  {
   "cell_type": "markdown",
   "id": "624a2b33-d4de-4821-ab95-9ab9f4c6117d",
   "metadata": {
    "tags": []
   },
   "source": [
    "# AOC 2022"
   ]
  },
  {
   "cell_type": "code",
   "execution_count": 220,
   "id": "ba89476b-e902-4dc7-8abf-e1e0ad2ee636",
   "metadata": {},
   "outputs": [
    {
     "name": "stdout",
     "output_type": "stream",
     "text": [
      "'io\n",
      "\n"
     ]
    }
   ],
   "source": [
    "\\cd notebooks"
   ]
  },
  {
   "cell_type": "markdown",
   "id": "453c2df9-abdd-4fe7-9c2d-267b1d8be0bc",
   "metadata": {
    "tags": []
   },
   "source": [
    "# Advent of Code 2022 - 08"
   ]
  },
  {
   "cell_type": "markdown",
   "id": "971a3646-689b-44ad-819f-1e213407554a",
   "metadata": {},
   "source": [
    "URL: https://adventofcode.com/2022/day/8"
   ]
  },
  {
   "cell_type": "markdown",
   "id": "2b81c797-26cf-4ce5-97c1-5706872068cf",
   "metadata": {},
   "source": [
    "We'll study ngn's [solution](https://codeberg.org/ngn/k/src/branch/master/aoc/22/08.k):"
   ]
  },
  {
   "cell_type": "markdown",
   "id": "24d5800f-732a-48bb-9e8e-88f3fafcbd7e",
   "metadata": {},
   "source": [
    "This was the program that started my appetite for learning k. I couldn't believe that such an interesting problem could be solved in such a short codebase.\n",
    "\n",
    "Tbh, at the start of writing this article, I still don't fully understand part2.\n",
    "The nicest part of this solution is that the solution makes a lot of sense from the intuition point of view."
   ]
  },
  {
   "cell_type": "code",
   "execution_count": 3,
   "id": "35008341-96b7-40e4-8f4d-501c557d8eeb",
   "metadata": {},
   "outputs": [
    {
     "name": "stdout",
     "output_type": "stream",
     "text": [
      "1849\n",
      "201600\n"
     ]
    }
   ],
   "source": [
    "/ideas from https://codeberg.org/ovs/aoc2022/src/branch/master/08.k\n",
    "/and https://github.com/chrispsn/aoc2022/blob/main/answers.ngnk\n",
    "x:0:\"i/08\"\n",
    "r:,/1|:\\'1+:\\x\n",
    "R:,/{+y}'\\{|y}\\'2 2#\n",
    "+//|/R@(-1>':|\\)'r                 /part1\n",
    "|//*/R@{x(+/1|':&\\>/:)'1_(1_)\\x}'r /part2"
   ]
  },
  {
   "cell_type": "markdown",
   "id": "a8e23d21-7b9d-4d7c-86c3-5fece29ff8cd",
   "metadata": {},
   "source": [
    "## Visibility of a row of trees"
   ]
  },
  {
   "cell_type": "markdown",
   "id": "859623b5-d665-4b89-ac73-5b45c52f995d",
   "metadata": {},
   "source": [
    "Let's start with a minimal example, and create a 1d forest, of 1 line of trees"
   ]
  },
  {
   "cell_type": "code",
   "execution_count": 156,
   "id": "0833322d-b0fb-430d-b9dc-cd8cb1a4ff82",
   "metadata": {},
   "outputs": [
    {
     "name": "stdout",
     "output_type": "stream",
     "text": [
      "1 1 1 2 9 8 4 4 4 5\n"
     ]
    }
   ],
   "source": [
    ":t:10?10"
   ]
  },
  {
   "cell_type": "markdown",
   "id": "592847d6-b6b4-4946-ab3d-9e7e2b99852f",
   "metadata": {},
   "source": [
    "To find which trees are visible from the left, what we do is a max-scan, and compare each value with the max-so-far. If the current tree is higher, max-so-far is the value of the current tree, and we increase \"visibles\" by 1. \n",
    "\n",
    "Well. that, but in array mode :)"
   ]
  },
  {
   "cell_type": "code",
   "execution_count": 196,
   "id": "3003ee05-f7fc-4735-b710-2f8a84e3ca22",
   "metadata": {},
   "outputs": [
    {
     "name": "stdout",
     "output_type": "stream",
     "text": [
      "1 0 0 1 1 0 0 0 0 0\n"
     ]
    }
   ],
   "source": [
    "1_>':|\\-1,t "
   ]
  },
  {
   "cell_type": "markdown",
   "id": "81c4a9fd-e270-42a3-a717-a259302eb2dc",
   "metadata": {},
   "source": [
    "A nicer way than prepending -1 and then cutting the first value, is to use the default value for `':` itself"
   ]
  },
  {
   "cell_type": "code",
   "execution_count": 197,
   "id": "531bda24-d1cd-4128-b329-b2941b643575",
   "metadata": {},
   "outputs": [
    {
     "name": "stdout",
     "output_type": "stream",
     "text": [
      "1 0 0 1 1 0 0 0 0 0\n"
     ]
    }
   ],
   "source": [
    "-1>':|\\t"
   ]
  },
  {
   "cell_type": "markdown",
   "id": "f6ecd31b-d69f-4caa-b3b9-c706e2bf2ff6",
   "metadata": {},
   "source": [
    "Now, let's try the same in a little forest"
   ]
  },
  {
   "cell_type": "code",
   "execution_count": 124,
   "id": "4b62edc0-cf46-4dc3-97f0-16720d11cc6d",
   "metadata": {},
   "outputs": [
    {
     "name": "stdout",
     "output_type": "stream",
     "text": [
      "(7 13 16 5\n",
      " 9 14 5 12\n",
      " 4 18 7 13\n",
      " 16 5 9 14)\n"
     ]
    }
   ],
   "source": [
    ":x:4 4#10?20"
   ]
  },
  {
   "cell_type": "code",
   "execution_count": 151,
   "id": "5d609afe-0a06-4f6a-af7c-72319b7b5a87",
   "metadata": {},
   "outputs": [
    {
     "name": "stdout",
     "output_type": "stream",
     "text": [
      "(1 1 1 1\n",
      " 1 1 0 1\n",
      " 0 1 0 1\n",
      " 1 0 0 1)\n"
     ]
    }
   ],
   "source": [
    "(-1>':|\\)x  /add parenthesis to make it a train ("
   ]
  },
  {
   "cell_type": "markdown",
   "id": "435a31f3-a879-43a7-b058-1748daca253a",
   "metadata": {},
   "source": [
    "Little detail worth noting: We use the full forest as a parameter to the train, so that means that all adverbs apply at the row level. We are doing the maxes of one row against the next, against the next... Giving the cumulative max \"vertically\".\n",
    "\n",
    "If we'd add a `'`, we would be doing the operations withing each row, so the \"max\" would be columnwise."
   ]
  },
  {
   "cell_type": "code",
   "execution_count": null,
   "id": "e9bc5e06-3d97-4e05-a286-c7ea6e34a1bd",
   "metadata": {},
   "outputs": [
    {
     "name": "stdout",
     "output_type": "stream",
     "text": [
      "(7 13 16 5\n",
      " 9 14 16 12\n",
      " 9 18 16 13\n",
      " 16 18 16 14)\n",
      "(7 13 16 16\n",
      " 9 14 14 14\n",
      " 4 18 18 18\n",
      " 16 16 16 16)\n"
     ]
    }
   ],
   "source": [
    "|\\x\n",
    "|\\'x"
   ]
  },
  {
   "cell_type": "markdown",
   "id": "b4c87676-526a-4634-90fb-ae38290ea97d",
   "metadata": {},
   "source": [
    "## Rotate and repeat"
   ]
  },
  {
   "cell_type": "markdown",
   "id": "8091bc57-c240-4dee-99c1-5debabeea02d",
   "metadata": {},
   "source": [
    "The approach to solve this exercise is to solve the visibility problem for each one of the trees in the forest, and then, replicate the solution for each side of the forest.\n",
    "\n",
    "The smart thing arraywise is to rotate the forest, and repeat the function, for each of the 4 orientations that result from rotating 90degrees."
   ]
  },
  {
   "cell_type": "markdown",
   "id": "884e761b-c3c0-4305-bc1f-cc8d8feb7ecb",
   "metadata": {},
   "source": [
    "Rotation of a table is quite easy in k. It's just a train of flip and reverse. The order of the operations dictates the way rotation."
   ]
  },
  {
   "cell_type": "code",
   "execution_count": 41,
   "id": "b9c35da7-682b-4e0b-95b6-b72905996916",
   "metadata": {},
   "outputs": [
    {
     "name": "stdout",
     "output_type": "stream",
     "text": [
      "(0 1 2\n",
      " 3 4 5\n",
      " 6 7 8)\n",
      "(0 3 6\n",
      " 1 4 7\n",
      " 2 5 8)\n",
      "(2 5 8\n",
      " 1 4 7\n",
      " 0 3 6)\n",
      "(6 3 0\n",
      " 7 4 1\n",
      " 8 5 2)\n"
     ]
    }
   ],
   "source": [
    ":t:3 3#!9\n",
    "+t /flip\n",
    "|+t /flip+reverse = rotate\n",
    "+|t /reverse+flip = rotate"
   ]
  },
  {
   "cell_type": "code",
   "execution_count": 43,
   "id": "dcd94c97-fa78-46bc-ae75-c1089a27de42",
   "metadata": {},
   "outputs": [
    {
     "name": "stdout",
     "output_type": "stream",
     "text": [
      "(((,\"0\";,\"1\";,\"2\");(,\"2\";,\"5\";,\"8\");(,\"8\";,\"7\";,\"6\");(,\"6\";,\"3\";,\"0\"))\n",
      " ((,\"3\";,\"4\";,\"5\");(,\"1\";,\"4\";,\"7\");(,\"5\";,\"4\";,\"3\");(,\"7\";,\"4\";,\"1\"))\n",
      " ((,\"6\";,\"7\";,\"8\");(,\"0\";,\"3\";,\"6\");(,\"2\";,\"1\";,\"0\");(,\"8\";,\"5\";,\"2\")))\n"
     ]
    }
   ],
   "source": [
    "+$(|+:)\\t"
   ]
  },
  {
   "cell_type": "markdown",
   "id": "70009c3e-1694-48d5-9863-e8168b9dd610",
   "metadata": {},
   "source": [
    "Now, here's a bit of a different solution from ngn's.\n",
    "\n",
    "First we scan-rotate 3 times (keeping the original)\n",
    "\n",
    "```\n",
    "mv:(-1>':|\\)'(+|:)\\x\n",
    "+//|/((!4) (|+:)/'mv)\n",
    "```"
   ]
  },
  {
   "cell_type": "code",
   "execution_count": 202,
   "id": "7acb2667-dceb-47bf-a77a-69b463dd8b42",
   "metadata": {},
   "outputs": [],
   "source": [
    "mv:(-1>':|\\)'(+|:)\\x"
   ]
  },
  {
   "cell_type": "markdown",
   "id": "9257255a-1021-411d-b10f-15497503202b",
   "metadata": {},
   "source": [
    "We scan rotate `(+|:)` `x`. Remember that `monad scan` without an explicit number of iterations will stop when one iteration result is either the equal to the previous one, or equal to the initial argument. In this case, we know we'll end up with 4 iterations. After the 3rd iteration, the result would be the same as the original one.\n",
    "\n",
    "A nice trick is `flip` the result to get a visual of how they look like in 2D. Also, `$` will pad the numbers with comma (on the single digit ones), so we can see them aligned.\n"
   ]
  },
  {
   "cell_type": "code",
   "execution_count": 203,
   "id": "a0fae40a-8c13-49be-af73-5bb93f3606bf",
   "metadata": {},
   "outputs": [
    {
     "name": "stdout",
     "output_type": "stream",
     "text": [
      "((\"18\";,\"4\";,\"6\";,\"1\")\n",
      " (,\"0\";\"19\";,\"9\";\"18\")\n",
      " (\"17\";\"10\";\"18\";,\"4\")\n",
      " (,\"6\";,\"1\";,\"0\";\"19\"))\n"
     ]
    }
   ],
   "source": [
    "$x"
   ]
  },
  {
   "cell_type": "code",
   "execution_count": 204,
   "id": "ada49614-37cd-4b74-9342-60b8368c2cdd",
   "metadata": {},
   "outputs": [
    {
     "name": "stdout",
     "output_type": "stream",
     "text": [
      "(((\"18\";,\"4\";,\"6\";,\"1\");(,\"6\";\"17\";,\"0\";\"18\");(\"19\";,\"0\";,\"1\";,\"6\");(,\"1\";\"18\";,\"4\";\"19\"))\n",
      " ((,\"0\";\"19\";,\"9\";\"18\");(,\"1\";\"10\";\"19\";,\"4\");(,\"4\";\"18\";\"10\";\"17\");(,\"6\";,\"9\";\"18\";,\"0\"))\n",
      " ((\"17\";\"10\";\"18\";,\"4\");(,\"0\";\"18\";,\"9\";,\"6\");(\"18\";,\"9\";\"19\";,\"0\");(,\"4\";\"19\";\"10\";,\"1\"))\n",
      " ((,\"6\";,\"1\";,\"0\";\"19\");(\"19\";,\"4\";\"18\";,\"1\");(,\"1\";,\"6\";,\"4\";\"18\");(\"18\";,\"0\";\"17\";,\"6\")))\n",
      "`\n",
      "(((,\"1\";,\"1\";,\"1\";,\"1\");(,\"1\";,\"1\";,\"1\";,\"1\");(,\"1\";,\"1\";,\"1\";,\"1\");(,\"1\";,\"1\";,\"1\";,\"1\"))\n",
      " ((,\"0\";,\"1\";,\"1\";,\"1\");(,\"0\";,\"0\";,\"1\";,\"0\");(,\"0\";,\"1\";,\"1\";,\"1\");(,\"1\";,\"0\";,\"1\";,\"0\"))\n",
      " ((,\"0\";,\"0\";,\"1\";,\"0\");(,\"0\";,\"1\";,\"0\";,\"0\");(,\"0\";,\"0\";,\"1\";,\"0\");(,\"0\";,\"1\";,\"0\";,\"0\"))\n",
      " ((,\"0\";,\"0\";,\"0\";,\"1\");(,\"1\";,\"0\";,\"0\";,\"0\");(,\"0\";,\"0\";,\"0\";,\"1\");(,\"1\";,\"0\";,\"0\";,\"0\")))\n"
     ]
    }
   ],
   "source": [
    "$+(+|:)\\x\n",
    "`\n",
    "$+mv"
   ]
  },
  {
   "cell_type": "markdown",
   "id": "542013b2-4aad-459d-9607-91063ec05e69",
   "metadata": {},
   "source": [
    "This shows the different rotations and the trees that can be seen from the \"north\".\n",
    "\n",
    "Next step is to add those numbers up. The intuitive operation is a max reduce over all the forest, but the problem here is that we can't just add the different rotated forests. That would confuse which tree is which. For example, the highest tree in the forest will be visible from all directions, but that doesn't mean we have to count if 4 times but only one.\n",
    "\n",
    "The nice trick here is to rotate each one of the visibility matrices, a different number of times in reverse direction.\n",
    "\n",
    "When we created the different rotations, we used +|:, to rotate clockwise. Now we want to rotate counterclockwise `|+:`.\n",
    "\n",
    "We want to take the 4 matrices and rotate one of them once counterclockwise, the next one, twice counterclockwise, and a third, 3 times. One of them can be left as is (which is the same as rotating 4 times).\n",
    "\n",
    "So it's a way to unroll the rotations so the same positions refer to the same tree, before we can do the big aggregation."
   ]
  },
  {
   "cell_type": "code",
   "execution_count": 205,
   "id": "7c0e0d72-e783-40b8-ba23-5029466f16ca",
   "metadata": {},
   "outputs": [
    {
     "name": "stdout",
     "output_type": "stream",
     "text": [
      "((1 1 1 1;0 1 1 1;0 0 1 0;0 0 0 1)\n",
      " (1 0 0 0;1 1 0 0;1 0 1 0;1 0 0 1)\n",
      " (1 0 0 0;0 1 0 0;1 1 1 0;1 1 1 1)\n",
      " (1 0 1 1;0 1 0 1;0 0 1 1;0 0 0 1))\n"
     ]
    }
   ],
   "source": [
    "(!4)(|+:)/'mv"
   ]
  },
  {
   "cell_type": "markdown",
   "id": "e320c484-547c-473a-ba58-bab856483370",
   "metadata": {},
   "source": [
    "This is pretty neat: We're nesting an `each` with an `over monad`.\n",
    "\n",
    "`l m'l`  where `m` is `(|+:)/`. \n",
    "\n",
    "For a simplified version of `each+over monad`, look at the following."
   ]
  },
  {
   "cell_type": "markdown",
   "id": "4be387f7-64c6-4bc5-8fd0-2b11f65b0453",
   "metadata": {
    "tags": []
   },
   "source": [
    "## Each+ Monad"
   ]
  },
  {
   "cell_type": "code",
   "execution_count": 75,
   "id": "5bc8a976-7aca-4224-8fe7-cc5abd6eccb9",
   "metadata": {},
   "outputs": [
    {
     "name": "stdout",
     "output_type": "stream",
     "text": [
      "105 408\n"
     ]
    }
   ],
   "source": [
    "1 4 (100+)/'5 8"
   ]
  },
  {
   "cell_type": "markdown",
   "id": "2a47c7c6-3e2f-42f6-b4bc-96a348edb249",
   "metadata": {},
   "source": [
    "1 4 is the left `y` arguments. `5 8` is the right argument `x`. And the operation is a monad `(100+)`, so the `y` argument falls into being the number of repetitions for the monad.\n",
    "\n",
    "If it would be a dyad, 1 and 4 would be part the `y`s for the dyad:\n",
    "\n",
    "`1 4 +/'5 8`\n",
    "\n"
   ]
  },
  {
   "cell_type": "code",
   "execution_count": 34,
   "id": "5b8ecec0-25e4-4fde-84a0-340525db38e0",
   "metadata": {},
   "outputs": [
    {
     "name": "stdout",
     "output_type": "stream",
     "text": [
      "6 12\n"
     ]
    }
   ],
   "source": [
    "1 4+/'5 8"
   ]
  },
  {
   "cell_type": "code",
   "execution_count": 78,
   "id": "b8a714ad-7231-4804-a9e7-0a300f21e44c",
   "metadata": {},
   "outputs": [
    {
     "name": "stdout",
     "output_type": "stream",
     "text": [
      "25 40\n"
     ]
    }
   ],
   "source": [
    "1 4/'5 8 / and this?? wtf is this one?"
   ]
  },
  {
   "cell_type": "markdown",
   "id": "203db67f-5b38-4a70-9f20-c9166d146054",
   "metadata": {},
   "source": [
    "## The `dyad//` pattern"
   ]
  },
  {
   "cell_type": "markdown",
   "id": "5ce9c04d-cf13-41ab-8bc7-cd95bc32c274",
   "metadata": {},
   "source": [
    "Last cool idiom for this part 1 is `+//`.  In K, some verbs or adverbs have surprising applications when applied repeatedly.\n",
    "\n",
    "over(`/`) applied to a monad will repeat the application of the monad until it reaches a fixed point. The computation is a monad itsef. Well, there's this pattern where the monad is another `over` application. \n",
    "\n",
    "Let's see an example with `,//`. `,/` flattens one list one level.  But if we keep applying flattening until the result doesn't change anymore, we can have a powerful flattening trick that will drill down and flatten all the elements to 1 level, no matter the depth of our list."
   ]
  },
  {
   "cell_type": "code",
   "execution_count": 77,
   "id": "dac241c5-66f3-49c2-ac38-c903921d4e41",
   "metadata": {},
   "outputs": [
    {
     "name": "stdout",
     "output_type": "stream",
     "text": [
      "0 1 2 3 4 5 6 7 8 9 10 11 12 13 14 15\n"
     ]
    }
   ],
   "source": [
    ",//2 2 2 2#!100"
   ]
  },
  {
   "cell_type": "markdown",
   "id": "0ae90538-fafe-4d8a-bd74-4f131b66773c",
   "metadata": {},
   "source": [
    "In fact, we can use `scan` instead, to see the intermediate steps"
   ]
  },
  {
   "cell_type": "code",
   "execution_count": 73,
   "id": "037d4dee-0288-45dc-be99-85c23f88ec49",
   "metadata": {},
   "outputs": [
    {
     "name": "stdout",
     "output_type": "stream",
     "text": [
      "((((0 1;2 3);(4 5;6 7));((8 9;10 11);(12 13;14 15)))\n",
      " ((0 1;2 3);(4 5;6 7);(8 9;10 11);(12 13;14 15))\n",
      " (0 1;2 3;4 5;6 7;8 9;10 11;12 13;14 15)\n",
      " 0 1 2 3 4 5 6 7 8 9 10 11 12 13 14 15)\n"
     ]
    }
   ],
   "source": [
    ",/\\2 2 2 2#!100"
   ]
  },
  {
   "cell_type": "markdown",
   "id": "49baf883-48cb-4f98-966d-c5d0488668d5",
   "metadata": {},
   "source": [
    "## Back to the challenge"
   ]
  },
  {
   "cell_type": "markdown",
   "id": "9884560e-8c3b-41d9-89f5-5a24845f9c33",
   "metadata": {},
   "source": [
    "So part 1, in the end, looks like the sum max (`|/`) per tree (meaning, is this tree visible from at least one direction) and summing all those trees that are visible somehow `+//`"
   ]
  },
  {
   "cell_type": "code",
   "execution_count": 79,
   "id": "633076b8-1e0f-48cd-8456-9f78eb5fb3c0",
   "metadata": {},
   "outputs": [
    {
     "name": "stdout",
     "output_type": "stream",
     "text": [
      "14\n"
     ]
    }
   ],
   "source": [
    "+//|/(!4)(|+:)/'mv"
   ]
  },
  {
   "cell_type": "markdown",
   "id": "01b59d0d-c9de-456a-b13c-aac0cb5d4a4a",
   "metadata": {},
   "source": [
    "## Part 2"
   ]
  },
  {
   "cell_type": "markdown",
   "id": "08fb2cbf-fdbd-400c-ac5a-90431d1d0f9b",
   "metadata": {},
   "source": [
    "Part 2 is even crazier. We have to look at the tree visibility not from the outside, but from the inside of the forest, and for each one of the trees.\n",
    "\n",
    "Intuition here is also \"ovbious\", once you're in \"K mode\" (only half joking):\n",
    "For each rotation, We crack open the forest, and do the visibility function for each one of the trees, then we reassemble the rotations again.\n",
    "\n",
    "Note that the visibility function here is a bit different than in part 1. For a given tree `t`, we're looking for trees that are shorter than `t`, and that are not behind one that is equal or taller than `t`. Note the difference with part1.\n",
    "\n",
    "In part1, \n",
    "- in a tree sequence like `1 4 3 4`, for `1`, we would see the first `4`, but not the second. \n",
    "- in a tree sequence like `1 5 3 4`, for `1` we would see the first `5`, but not the `4`\n",
    "\n",
    "In part2,\n",
    "- in a tree sequence like `4 3 2 3`, for `4`, we would see both`3`s (also the `2`)\n",
    "- in a tree sequence like `4 2 1 3`, for `4`, we would see all `2 1 3`\n",
    "- in a tree sequence like `4 3 2 1`, for `4`, we would see all `3 2 1`\n",
    "- in a tree sequence like `4 1 2 3`, for `4`, we would see all `1 2 3`\n",
    "- in a tree sequence like `4 3 1 2`, for `4`, we would see all `3 1 2`\n",
    "\n",
    "So valleys count differently here. That's why, in the filtering, there's a kind of cross product comparison (capped by an `over-min`), instead of just a single cumulative `over`.  "
   ]
  },
  {
   "cell_type": "code",
   "execution_count": 40,
   "id": "45d3adea-a2d0-4b41-b8ac-16dea2c1ff81",
   "metadata": {},
   "outputs": [
    {
     "name": "stdout",
     "output_type": "stream",
     "text": [
      "201600\n"
     ]
    }
   ],
   "source": [
    "|//*/R@{x(+/1|':&\\>/:)'1_(1_)\\x}'r /part2"
   ]
  },
  {
   "cell_type": "markdown",
   "id": "216b6422-cda3-4866-b320-482e4c3df91f",
   "metadata": {},
   "source": [
    "We use `(_1)\\` to \"peel off\" the rows of trees one by one. By the challenge statement, the trees on the boundaries are disqualified, so that's why the leading `1_`."
   ]
  },
  {
   "cell_type": "markdown",
   "id": "b82b70cd-930d-448e-9162-0f8afc2adfe0",
   "metadata": {},
   "source": [
    "We only see the trees \"downwards\", but that's going to be solved by the rotation/unrotation pattern."
   ]
  },
  {
   "cell_type": "markdown",
   "id": "322d545e-4e51-4e0d-b954-1676c914dad5",
   "metadata": {},
   "source": [
    "Now, each one of the rows is \"the top row\" in some of the peeled intermediate result.\n",
    "\n",
    "For each one of the \"virtual peeled forests\", evaluate the train `(+/1|':&\\>/:)`, passing as the left parameter, the full forest.\n",
    "That means that for you compare each one of the trees with each one in the same column in rows below itself. \n",
    "\n",
    "- each right (that means, the result has the same size as the number of columns)\n",
    "- "
   ]
  },
  {
   "cell_type": "code",
   "execution_count": 43,
   "id": "fc0415d1-fd19-4de8-88ee-b7880b92697f",
   "metadata": {},
   "outputs": [
    {
     "name": "stdout",
     "output_type": "stream",
     "text": [
      "(2 2 2 4\n",
      " 19 17 9 9\n",
      " 8 11 5 17\n",
      " 10 13 19 1)\n"
     ]
    }
   ],
   "source": [
    ":foo:4 4#20?20"
   ]
  },
  {
   "cell_type": "code",
   "execution_count": 196,
   "id": "ef72973f-ee8a-4169-9601-cd1790984017",
   "metadata": {},
   "outputs": [
    {
     "name": "stdout",
     "output_type": "stream",
     "text": [
      "((19 17 9 9;8 11 5 17;10 13 19 1)\n",
      " (8 11 5 17;10 13 19 1)\n",
      " ,10 13 19 1\n",
      " 0#,0N 0N 0N 0N)\n",
      "((2 2 2 4 19 17 9 9;2 2 2 4 8 11 5 17;2 2 2 4 10 13 19 1)\n",
      " (19 17 9 9 8 11 5 17;19 17 9 9 10 13 19 1)\n",
      " ,8 11 5 17 10 13 19 1\n",
      " ())\n",
      "((0 0 0 0;0 0 0 0;0 0 0 1)\n",
      " (1 1 1 0;1 1 0 1)\n",
      " ,0 0 0 1\n",
      " 0#,0#,0N 0N 0N 0N)\n",
      "((0 0 0 0;0 0 0 0;0 0 0 0)\n",
      " (1 1 1 0;1 1 0 0)\n",
      " ,0 0 0 1\n",
      " 0#,0#,0N 0N 0N 0N)\n",
      "((1 1 1 1;0 0 0 0;0 0 0 0)\n",
      " (1 1 1 1;1 1 1 0)\n",
      " ,1 1 1 1\n",
      " 0#,0#,0N 0N 0N 0N)\n",
      "(1 1 1 1\n",
      " 2 2 2 1\n",
      " 1 1 1 1\n",
      " 0)\n"
     ]
    }
   ],
   "source": [
    "{1_(1_)\\x}foo                       /peeling the forest\n",
    "{x(,/:)'1_(1_)\\x}foo                /concat the operands to see what are we comparing against what\n",
    "{x(>/:)'1_(1_)\\x}foo                /is the tree in the intermediate row smaller than the tree in `x`?\n",
    "{x(&\\>/:)'1_(1_)\\x}foo              /are all the intermediate ones so far smaller?\n",
    "{x(1|':&\\>/:)'1_(1_)\\x}foo          /': no idea\n",
    "{x(+/1|':&\\>/:)'1_(1_)\\x}foo        / I thought it was to accomodate the first row, but the rotations should do it     "
   ]
  },
  {
   "cell_type": "code",
   "execution_count": 121,
   "id": "6e2e3952-b2d0-48ec-bc74-594894ab82eb",
   "metadata": {},
   "outputs": [
    {
     "name": "stdout",
     "output_type": "stream",
     "text": [
      "((0 0 0 0;1 0 1 0;0 0 0 0;0 1 1 0)\n",
      " (1 1 1 1;1 0 1 0;1 1 0 1;0 1 1 0)\n",
      " (1 1 1 1;0 0 0 0;0 0 0 0;0 1 1 0))\n"
     ]
    }
   ],
   "source": [
    "foo>/:1_foo"
   ]
  },
  {
   "cell_type": "code",
   "execution_count": 109,
   "id": "ba64abeb-4aa5-4fd4-a2ae-40bddad11708",
   "metadata": {},
   "outputs": [
    {
     "name": "stdout",
     "output_type": "stream",
     "text": [
      "(1 1 1 1\n",
      " 0 0 0 1\n",
      " 1 1 1 1\n",
      " 1 0 0 1)\n"
     ]
    }
   ],
   "source": [
    "foo< 18 12 19 10"
   ]
  },
  {
   "cell_type": "code",
   "execution_count": 210,
   "id": "6e508c46-82ef-4c3a-857e-0bd5d2a767bd",
   "metadata": {},
   "outputs": [
    {
     "name": "stdout",
     "output_type": "stream",
     "text": [
      "((15 10 4 0;4 4 2 17;1 1 5 15;1 10 14 11)\n",
      " (8 15 17 3;15 10 4 0;4 4 2 17;1 1 5 15)\n",
      " (1 10 14 11;8 15 17 3;15 10 4 0;4 4 2 17)\n",
      " (1 1 5 15;1 10 14 11;8 15 17 3;15 10 4 0))\n"
     ]
    }
   ],
   "source": [
    ":x:4 4 4#20?20"
   ]
  },
  {
   "cell_type": "code",
   "execution_count": 211,
   "id": "31a58cea-4d34-43e3-ae05-8d3197e211bc",
   "metadata": {},
   "outputs": [
    {
     "name": "stdout",
     "output_type": "stream",
     "text": [
      "((15 10 4 0;4 4 2 17;1 1 5 15;1 10 14 11)\n",
      " (8 15 17 3;15 10 4 0;4 4 2 17;1 1 5 15))\n",
      "`s\n",
      "((15 10 4 0;4 4 2 17;1 1 5 15;1 10 14 11)\n",
      " (1 1 5 15;4 4 2 17;15 10 4 0;8 15 17 3))\n",
      "`s\n",
      "(((15 10 4 0;4 4 2 17;1 1 5 15;1 10 14 11);(1 1 5 15;4 4 2 17;15 10 4 0;8 15 17 3))\n",
      " ((1 10 14 11;8 15 17 3;15 10 4 0;4 4 2 17);(15 10 4 0;8 15 17 3;1 10 14 11;1 1 5 15)))\n"
     ]
    }
   ],
   "source": [
    "*2 2#x\n",
    "`s\n",
    "{|y}\\*2 2#x\n",
    "`s\n",
    "{|y}\\'2 2#x"
   ]
  },
  {
   "cell_type": "code",
   "execution_count": 2,
   "id": "0cb52df9-e7a6-40bd-85c7-4219da76be82",
   "metadata": {},
   "outputs": [
    {
     "name": "stdout",
     "output_type": "stream",
     "text": [
      "0#,(\"\";\"\";\"\";\"\")\n",
      "(()\n",
      " ()\n",
      " ()\n",
      " ())\n",
      "((();())\n",
      " (();()))\n"
     ]
    }
   ],
   "source": [
    "r:,/1|:\\'1+:\\x\n",
    "+$r\n",
    "R:{+y}'\\{|y}\\'2 2#\n",
    "(-1>':|\\)'r \n",
    "R@(-1>':|\\)'r"
   ]
  }
 ],
 "metadata": {
  "kernelspec": {
   "display_name": "ngn/k",
   "language": "ngnk",
   "name": "ngnk"
  },
  "language_info": {
   "file_extension": ".k",
   "mimetype": "text/ngnk",
   "name": "ngnk"
  }
 },
 "nbformat": 4,
 "nbformat_minor": 5
}
