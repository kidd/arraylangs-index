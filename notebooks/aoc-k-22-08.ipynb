{
 "cells": [
  {
   "cell_type": "markdown",
   "id": "624a2b33-d4de-4821-ab95-9ab9f4c6117d",
   "metadata": {
    "tags": []
   },
   "source": [
    "# AOC 2022"
   ]
  },
  {
   "cell_type": "code",
   "execution_count": 220,
   "id": "ba89476b-e902-4dc7-8abf-e1e0ad2ee636",
   "metadata": {},
   "outputs": [
    {
     "name": "stdout",
     "output_type": "stream",
     "text": [
      "'io\n",
      "\n"
     ]
    }
   ],
   "source": [
    "\\cd notebooks"
   ]
  },
  {
   "cell_type": "markdown",
   "id": "453c2df9-abdd-4fe7-9c2d-267b1d8be0bc",
   "metadata": {
    "tags": []
   },
   "source": [
    "# Advent of Code 2022 - 08"
   ]
  },
  {
   "cell_type": "markdown",
   "id": "971a3646-689b-44ad-819f-1e213407554a",
   "metadata": {},
   "source": [
    "URL: https://adventofcode.com/2022/day/8"
   ]
  },
  {
   "cell_type": "markdown",
   "id": "2b81c797-26cf-4ce5-97c1-5706872068cf",
   "metadata": {},
   "source": [
    "We'll study ngn's [solution](https://codeberg.org/ngn/k/src/branch/master/aoc/22/08.k):"
   ]
  },
  {
   "cell_type": "markdown",
   "id": "24d5800f-732a-48bb-9e8e-88f3fafcbd7e",
   "metadata": {},
   "source": [
    "This was the program that started my appetite for learning k. I couldn't believe that such an interesting problem could be solved in such a short codebase.\n",
    "\n",
    "Tbh, at the start of writing this article, I still don't fully understand part2.\n",
    "The nicest part of this solution is that the solution makes a lot of sense from the intuition point of view."
   ]
  },
  {
   "cell_type": "code",
   "execution_count": 5,
   "id": "35008341-96b7-40e4-8f4d-501c557d8eeb",
   "metadata": {},
   "outputs": [
    {
     "name": "stdout",
     "output_type": "stream",
     "text": [
      "1849\n",
      "201600\n"
     ]
    }
   ],
   "source": [
    "/ideas from https://codeberg.org/ovs/aoc2022/src/branch/master/08.k\n",
    "/and https://github.com/chrispsn/aoc2022/blob/main/answers.ngnk\n",
    "x:0:\"i/08\"\n",
    "r:,/1|:\\'1+:\\x\n",
    "R:,/{+y}'\\{|y}\\'2 2#\n",
    "+//|/R@(-1>':|\\)'r                 /part1\n",
    "|//*/R@{x(+/1|':&\\>/:)'1_(1_)\\x}'r /part2"
   ]
  },
  {
   "cell_type": "markdown",
   "id": "a8e23d21-7b9d-4d7c-86c3-5fece29ff8cd",
   "metadata": {},
   "source": [
    "## Visibility of a row of trees"
   ]
  },
  {
   "cell_type": "markdown",
   "id": "859623b5-d665-4b89-ac73-5b45c52f995d",
   "metadata": {},
   "source": [
    "Let's start with a minimal example, and create a 1d forest, of 1 line of trees"
   ]
  },
  {
   "cell_type": "code",
   "execution_count": 2,
   "id": "0833322d-b0fb-430d-b9dc-cd8cb1a4ff82",
   "metadata": {},
   "outputs": [
    {
     "name": "stdout",
     "output_type": "stream",
     "text": [
      "3 2 5 6 5 1 4 9 2 8\n"
     ]
    }
   ],
   "source": [
    ":t:10?10"
   ]
  },
  {
   "cell_type": "markdown",
   "id": "592847d6-b6b4-4946-ab3d-9e7e2b99852f",
   "metadata": {},
   "source": [
    "To find which trees are visible from the left, what we do is a max-scan, and compare each value with the max-so-far. If the current tree is higher, max-so-far is the value of the current tree, and we increase \"visibles\" by 1. \n",
    "\n",
    "Well. that, but in array mode :)"
   ]
  },
  {
   "cell_type": "code",
   "execution_count": 63,
   "id": "8f428038-8719-42e7-b877-0c8208b00f12",
   "metadata": {},
   "outputs": [
    {
     "name": "stdout",
     "output_type": "stream",
     "text": [
      "(-1 0 1 2\n",
      " -1 3 4 5\n",
      " -1 6 7 8)\n"
     ]
    }
   ],
   "source": [
    "-1,'3 3#!10"
   ]
  },
  {
   "cell_type": "code",
   "execution_count": 67,
   "id": "5d609afe-0a06-4f6a-af7c-72319b7b5a87",
   "metadata": {},
   "outputs": [
    {
     "name": "stdout",
     "output_type": "stream",
     "text": [
      "(0 0 0 0\n",
      " 0 1 1 1\n",
      " 0 1 1 1)\n"
     ]
    }
   ],
   "source": [
    ">':|\\-1,'3 3#!10"
   ]
  },
  {
   "cell_type": "code",
   "execution_count": 4,
   "id": "3003ee05-f7fc-4735-b710-2f8a84e3ca22",
   "metadata": {},
   "outputs": [
    {
     "name": "stdout",
     "output_type": "stream",
     "text": [
      "1 0 1 1 0 0 0 1 0 0\n"
     ]
    }
   ],
   "source": [
    "1_>':|\\-1,t "
   ]
  },
  {
   "cell_type": "markdown",
   "id": "81c4a9fd-e270-42a3-a717-a259302eb2dc",
   "metadata": {},
   "source": [
    "A nicer way than prepending -1 and then cutting the first value, is to use the default value for `':` itself"
   ]
  },
  {
   "cell_type": "code",
   "execution_count": 3,
   "id": "531bda24-d1cd-4128-b329-b2941b643575",
   "metadata": {},
   "outputs": [
    {
     "name": "stdout",
     "output_type": "stream",
     "text": [
      "1 0 1 1 0 0 0 1 0 0\n"
     ]
    }
   ],
   "source": [
    "-1>':|\\t"
   ]
  },
  {
   "cell_type": "markdown",
   "id": "594b809c-dfe8-488c-93e6-83e6461c74c5",
   "metadata": {},
   "source": []
  },
  {
   "cell_type": "code",
   "execution_count": 10,
   "id": "4b62edc0-cf46-4dc3-97f0-16720d11cc6d",
   "metadata": {},
   "outputs": [
    {
     "name": "stdout",
     "output_type": "stream",
     "text": [
      "(0 5 3 6\n",
      " 15 3 11 16\n",
      " 2 17 0 5\n",
      " 3 6 15 3)\n"
     ]
    }
   ],
   "source": [
    ":x:4 4#10?20"
   ]
  },
  {
   "cell_type": "markdown",
   "id": "b4c87676-526a-4634-90fb-ae38290ea97d",
   "metadata": {},
   "source": [
    "## Rotate and repeat"
   ]
  },
  {
   "cell_type": "markdown",
   "id": "8091bc57-c240-4dee-99c1-5debabeea02d",
   "metadata": {},
   "source": [
    "The approach to solve this exercise is to solve the visibility problem for each one of the trees in the forest, and then, replicate the solution for each side of the forest.\n",
    "\n",
    "The smart thing arraywise is to rotate the forest, and repeat the function, for each of the 4 orientations that result from rotating 90degrees."
   ]
  },
  {
   "cell_type": "markdown",
   "id": "884e761b-c3c0-4305-bc1f-cc8d8feb7ecb",
   "metadata": {},
   "source": [
    "Rotation of a table is quite easy in k. It's just a train of flip and reverse. The order of the operations dictates the way rotation."
   ]
  },
  {
   "cell_type": "code",
   "execution_count": 5,
   "id": "b9c35da7-682b-4e0b-95b6-b72905996916",
   "metadata": {},
   "outputs": [
    {
     "name": "stdout",
     "output_type": "stream",
     "text": [
      "(0 1 2\n",
      " 3 4 5\n",
      " 6 7 8)\n",
      "(0 3 6\n",
      " 1 4 7\n",
      " 2 5 8)\n",
      "(2 5 8\n",
      " 1 4 7\n",
      " 0 3 6)\n",
      "(6 3 0\n",
      " 7 4 1\n",
      " 8 5 2)\n"
     ]
    }
   ],
   "source": [
    ":t:3 3#!9\n",
    "+t /flip\n",
    "|+t /flip+reverse = rotate\n",
    "+|t /reverse+flip = rotate"
   ]
  },
  {
   "cell_type": "code",
   "execution_count": 7,
   "id": "dcd94c97-fa78-46bc-ae75-c1089a27de42",
   "metadata": {},
   "outputs": [
    {
     "name": "stdout",
     "output_type": "stream",
     "text": [
      "(((,\"0\";,\"1\";,\"2\");(,\"2\";,\"5\";,\"8\");(,\"8\";,\"7\";,\"6\");(,\"6\";,\"3\";,\"0\"))\n",
      " ((,\"3\";,\"4\";,\"5\");(,\"1\";,\"4\";,\"7\");(,\"5\";,\"4\";,\"3\");(,\"7\";,\"4\";,\"1\"))\n",
      " ((,\"6\";,\"7\";,\"8\");(,\"0\";,\"3\";,\"6\");(,\"2\";,\"1\";,\"0\");(,\"8\";,\"5\";,\"2\")))\n"
     ]
    }
   ],
   "source": [
    "+$(|+:)\\t"
   ]
  },
  {
   "cell_type": "markdown",
   "id": "70009c3e-1694-48d5-9863-e8168b9dd610",
   "metadata": {},
   "source": [
    "Now, here's a bit of a different solution from ngn's.\n",
    "\n",
    "First we scan-rotate 3 times (keeping the original)\n",
    "\n",
    "mv:(-1>':|\\)'(+|:)\\x\n",
    "\n",
    "+//|/((!4) (|+:)/'mv)"
   ]
  },
  {
   "cell_type": "code",
   "execution_count": 12,
   "id": "7acb2667-dceb-47bf-a77a-69b463dd8b42",
   "metadata": {},
   "outputs": [
    {
     "name": "stdout",
     "output_type": "stream",
     "text": [
      "((1 1 1 1;1 0 1 1;0 1 0 0;0 0 1 0)\n",
      " (1 1 1 1;1 1 0 1;1 0 0 0;0 0 1 1)\n",
      " (1 1 1 1;1 0 1 0;1 0 0 1;0 0 0 0)\n",
      " (1 1 1 1;0 0 0 1;0 0 1 0;0 0 0 0))\n"
     ]
    }
   ],
   "source": [
    ":mv:(-1>':|\\)'(+|:)\\x"
   ]
  },
  {
   "cell_type": "markdown",
   "id": "9257255a-1021-411d-b10f-15497503202b",
   "metadata": {},
   "source": [
    "We scan rotate `(+|:)` `x`. Remember that `monad scan` without an explicit number of iterations will stop when one iteration result is either the equal to the previous one, or equal to the initial argument. In this case, we know we'll end up with 4 iterations. After the 3rd iteration, the result would be the same as the original one.\n",
    "\n",
    "A nice trick when we have 1 digit numbers in the matrices is to `flip` the result, to get a visual of how they look like in 2D.\n"
   ]
  },
  {
   "cell_type": "code",
   "execution_count": 15,
   "id": "a0fae40a-8c13-49be-af73-5bb93f3606bf",
   "metadata": {},
   "outputs": [
    {
     "name": "stdout",
     "output_type": "stream",
     "text": [
      "((,\"0\";,\"5\";,\"3\";,\"6\")\n",
      " (\"15\";,\"3\";\"11\";\"16\")\n",
      " (,\"2\";\"17\";,\"0\";,\"5\")\n",
      " (,\"3\";,\"6\";\"15\";,\"3\"))\n"
     ]
    }
   ],
   "source": [
    "$x"
   ]
  },
  {
   "cell_type": "code",
   "execution_count": 22,
   "id": "ada49614-37cd-4b74-9342-60b8368c2cdd",
   "metadata": {},
   "outputs": [
    {
     "name": "stdout",
     "output_type": "stream",
     "text": [
      "(((,\"0\";,\"5\";,\"3\";,\"6\");(,\"3\";,\"2\";\"15\";,\"0\");(,\"3\";\"15\";,\"6\";,\"3\");(,\"6\";\"16\";,\"5\";,\"3\"))\n",
      " ((\"15\";,\"3\";\"11\";\"16\");(,\"6\";\"17\";,\"3\";,\"5\");(,\"5\";,\"0\";\"17\";,\"2\");(,\"3\";\"11\";,\"0\";\"15\"))\n",
      " ((,\"2\";\"17\";,\"0\";,\"5\");(\"15\";,\"0\";\"11\";,\"3\");(\"16\";\"11\";,\"3\";\"15\");(,\"5\";,\"3\";\"17\";,\"6\"))\n",
      " ((,\"3\";,\"6\";\"15\";,\"3\");(,\"3\";,\"5\";\"16\";,\"6\");(,\"6\";,\"3\";,\"5\";,\"0\");(,\"0\";\"15\";,\"2\";,\"3\")))\n",
      "`\n",
      "(((,\"1\";,\"1\";,\"1\";,\"1\");(,\"1\";,\"1\";,\"1\";,\"1\");(,\"1\";,\"1\";,\"1\";,\"1\");(,\"1\";,\"1\";,\"1\";,\"1\"))\n",
      " ((,\"1\";,\"0\";,\"1\";,\"1\");(,\"1\";,\"1\";,\"0\";,\"1\");(,\"1\";,\"0\";,\"1\";,\"0\");(,\"0\";,\"0\";,\"0\";,\"1\"))\n",
      " ((,\"0\";,\"1\";,\"0\";,\"0\");(,\"1\";,\"0\";,\"0\";,\"0\");(,\"1\";,\"0\";,\"0\";,\"1\");(,\"0\";,\"0\";,\"1\";,\"0\"))\n",
      " ((,\"0\";,\"0\";,\"1\";,\"0\");(,\"0\";,\"0\";,\"1\";,\"1\");(,\"0\";,\"0\";,\"0\";,\"0\");(,\"0\";,\"0\";,\"0\";,\"0\")))\n"
     ]
    }
   ],
   "source": [
    "$+(+|:)\\x\n",
    "`\n",
    "$+mv"
   ]
  },
  {
   "cell_type": "markdown",
   "id": "542013b2-4aad-459d-9607-91063ec05e69",
   "metadata": {},
   "source": [
    "This shows the different rotations and the trees that can be seen from the \"north\".\n",
    "\n",
    "Next step is to add those numbers up. The intuitive operation is a max reduce over all the forest.\n",
    "\n",
    "The problem here is that we can't just add the different rotated forests, because we would be doing the maxes of different trees.\n",
    "\n",
    "For that, we have to \"undo\" the rotations, to make the trees align again."
   ]
  },
  {
   "cell_type": "code",
   "execution_count": 33,
   "id": "7c0e0d72-e783-40b8-ba23-5029466f16ca",
   "metadata": {},
   "outputs": [
    {
     "name": "stdout",
     "output_type": "stream",
     "text": [
      "((1 1 1 1;1 0 1 1;0 1 0 0;0 0 1 0)\n",
      " (1 1 0 1;1 0 0 1;1 1 0 0;1 1 1 0)\n",
      " (0 0 0 0;1 0 0 1;0 1 0 1;1 1 1 1)\n",
      " (0 0 0 1;0 0 0 1;0 1 0 1;0 0 1 1))\n"
     ]
    }
   ],
   "source": [
    "(!4)(|+:)/'mv"
   ]
  },
  {
   "cell_type": "markdown",
   "id": "e320c484-547c-473a-ba58-bab856483370",
   "metadata": {},
   "source": [
    "This is pretty neat: We're nesting an `each` with an `over monad`.\n",
    "\n",
    "`l m'l`  where `m` is `(|+:)/`. \n",
    "\n",
    "For a simplified version, look at the following:"
   ]
  },
  {
   "cell_type": "code",
   "execution_count": 36,
   "id": "5bc8a976-7aca-4224-8fe7-cc5abd6eccb9",
   "metadata": {},
   "outputs": [
    {
     "name": "stdout",
     "output_type": "stream",
     "text": [
      "105 408\n"
     ]
    }
   ],
   "source": [
    "1 4 (100+)/'5 8"
   ]
  },
  {
   "cell_type": "markdown",
   "id": "2a47c7c6-3e2f-42f6-b4bc-96a348edb249",
   "metadata": {},
   "source": [
    "1 4 is the left `y` arguments. `5 8` is the right argument `x`. And the operation is a monad "
   ]
  }
 ],
 "metadata": {
  "kernelspec": {
   "display_name": "ngn/k",
   "language": "ngnk",
   "name": "ngnk"
  },
  "language_info": {
   "file_extension": ".k",
   "mimetype": "text/ngnk",
   "name": "ngnk"
  }
 },
 "nbformat": 4,
 "nbformat_minor": 5
}
