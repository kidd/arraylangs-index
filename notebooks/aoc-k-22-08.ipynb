{
 "cells": [
  {
   "cell_type": "markdown",
   "id": "624a2b33-d4de-4821-ab95-9ab9f4c6117d",
   "metadata": {
    "tags": []
   },
   "source": [
    "# AOC 2022"
   ]
  },
  {
   "cell_type": "code",
   "execution_count": 220,
   "id": "ba89476b-e902-4dc7-8abf-e1e0ad2ee636",
   "metadata": {},
   "outputs": [
    {
     "name": "stdout",
     "output_type": "stream",
     "text": [
      "'io\n",
      "\n"
     ]
    }
   ],
   "source": [
    "\\cd notebooks"
   ]
  },
  {
   "cell_type": "markdown",
   "id": "453c2df9-abdd-4fe7-9c2d-267b1d8be0bc",
   "metadata": {
    "tags": []
   },
   "source": [
    "# Advent of Code 2022 - 08"
   ]
  },
  {
   "cell_type": "markdown",
   "id": "971a3646-689b-44ad-819f-1e213407554a",
   "metadata": {},
   "source": [
    "URL: https://adventofcode.com/2022/day/8"
   ]
  },
  {
   "cell_type": "markdown",
   "id": "2b81c797-26cf-4ce5-97c1-5706872068cf",
   "metadata": {},
   "source": [
    "We'll study ngn's [solution](https://codeberg.org/ngn/k/src/branch/master/aoc/22/08.k):"
   ]
  },
  {
   "cell_type": "markdown",
   "id": "24d5800f-732a-48bb-9e8e-88f3fafcbd7e",
   "metadata": {},
   "source": [
    "This was the program that started my appetite for learning k. I couldn't believe that such an interesting problem could be solved in such a short codebase.\n",
    "\n",
    "Tbh, at the start of writing this article, I still don't fully understand part2.\n",
    "The nicest part of this solution is that the solution makes a lot of sense from the intuition point of view."
   ]
  },
  {
   "cell_type": "code",
   "execution_count": 5,
   "id": "35008341-96b7-40e4-8f4d-501c557d8eeb",
   "metadata": {},
   "outputs": [
    {
     "name": "stdout",
     "output_type": "stream",
     "text": [
      "1849\n",
      "201600\n"
     ]
    }
   ],
   "source": [
    "/ideas from https://codeberg.org/ovs/aoc2022/src/branch/master/08.k\n",
    "/and https://github.com/chrispsn/aoc2022/blob/main/answers.ngnk\n",
    "x:0:\"i/08\"\n",
    "r:,/1|:\\'1+:\\x\n",
    "R:,/{+y}'\\{|y}\\'2 2#\n",
    "+//|/R@(-1>':|\\)'r                 /part1\n",
    "|//*/R@{x(+/1|':&\\>/:)'1_(1_)\\x}'r /part2"
   ]
  },
  {
   "cell_type": "markdown",
   "id": "859623b5-d665-4b89-ac73-5b45c52f995d",
   "metadata": {},
   "source": [
    "Let's start with a minimal example, and create a 1d forest, of 1 line of trees"
   ]
  },
  {
   "cell_type": "code",
   "execution_count": 33,
   "id": "0833322d-b0fb-430d-b9dc-cd8cb1a4ff82",
   "metadata": {},
   "outputs": [
    {
     "name": "stdout",
     "output_type": "stream",
     "text": [
      "3 6 4 0 3 7 1 3 8 3\n"
     ]
    }
   ],
   "source": [
    ":t:10?10"
   ]
  },
  {
   "cell_type": "markdown",
   "id": "592847d6-b6b4-4946-ab3d-9e7e2b99852f",
   "metadata": {},
   "source": [
    "To find which trees are visible from the left, what we do is a max-scan, and compare each value with the max-so-far. If the current tree is higher, max-so-far is the value of the current tree, and we increase \"visibles\" by 1. \n",
    "\n",
    "Well. that, but in array mode :)"
   ]
  },
  {
   "cell_type": "code",
   "execution_count": 63,
   "id": "8f428038-8719-42e7-b877-0c8208b00f12",
   "metadata": {},
   "outputs": [
    {
     "name": "stdout",
     "output_type": "stream",
     "text": [
      "(-1 0 1 2\n",
      " -1 3 4 5\n",
      " -1 6 7 8)\n"
     ]
    }
   ],
   "source": [
    "-1,'3 3#!10"
   ]
  },
  {
   "cell_type": "code",
   "execution_count": 67,
   "id": "5d609afe-0a06-4f6a-af7c-72319b7b5a87",
   "metadata": {},
   "outputs": [
    {
     "name": "stdout",
     "output_type": "stream",
     "text": [
      "(0 0 0 0\n",
      " 0 1 1 1\n",
      " 0 1 1 1)\n"
     ]
    }
   ],
   "source": [
    ">':|\\-1,'3 3#!10"
   ]
  },
  {
   "cell_type": "code",
   "execution_count": 64,
   "id": "3003ee05-f7fc-4735-b710-2f8a84e3ca22",
   "metadata": {},
   "outputs": [
    {
     "name": "stdout",
     "output_type": "stream",
     "text": [
      "1 1 0 0 0 1 0 0 1 0\n"
     ]
    }
   ],
   "source": [
    "1_>':|\\-1,t "
   ]
  },
  {
   "cell_type": "code",
   "execution_count": 14,
   "id": "4b62edc0-cf46-4dc3-97f0-16720d11cc6d",
   "metadata": {},
   "outputs": [
    {
     "name": "stdout",
     "output_type": "stream",
     "text": [
      "(19 9 9 6\n",
      " 18 6 6 4\n",
      " 4 13 19 9\n",
      " 9 6 18 6)\n"
     ]
    }
   ],
   "source": [
    ":x:4 4#10?20"
   ]
  },
  {
   "cell_type": "markdown",
   "id": "8091bc57-c240-4dee-99c1-5debabeea02d",
   "metadata": {},
   "source": [
    "The approach to solve this exercise is to solve the visibility problem for each one of the trees in the forest, and then, replicate the solution for each side of the forest.\n",
    "\n",
    "The smart think arraywise is to rotate the forest, and repeat the function, for each of the 4 orientations that result from rotating 90degrees."
   ]
  },
  {
   "cell_type": "markdown",
   "id": "884e761b-c3c0-4305-bc1f-cc8d8feb7ecb",
   "metadata": {},
   "source": [
    "Rotation of a table is quite easy in k. It's just a train of flip and reverse. The order of the operations dictates the way rotation."
   ]
  },
  {
   "cell_type": "code",
   "execution_count": 23,
   "id": "b9c35da7-682b-4e0b-95b6-b72905996916",
   "metadata": {},
   "outputs": [
    {
     "name": "stdout",
     "output_type": "stream",
     "text": [
      "(0 1 2\n",
      " 3 4 5\n",
      " 6 7 8)\n",
      "(0 3 6\n",
      " 1 4 7\n",
      " 2 5 8)\n",
      "(2 5 8\n",
      " 1 4 7\n",
      " 0 3 6)\n",
      "(6 3 0\n",
      " 7 4 1\n",
      " 8 5 2)\n"
     ]
    }
   ],
   "source": [
    ":t:3 3#!9\n",
    "+t /flip\n",
    "|+t /flip+reverse = rotate\n",
    "+|t /reverse+flip = rotate"
   ]
  },
  {
   "cell_type": "code",
   "execution_count": 15,
   "id": "dcd94c97-fa78-46bc-ae75-c1089a27de42",
   "metadata": {},
   "outputs": [
    {
     "name": "stdout",
     "output_type": "stream",
     "text": [
      "(((\"19\";,\"9\";,\"9\";,\"6\");(,\"6\";,\"4\";,\"9\";,\"6\");(,\"6\";\"18\";,\"6\";,\"9\");(,\"9\";,\"4\";\"18\";\"19\"))\n",
      " ((\"18\";,\"6\";,\"6\";,\"4\");(,\"9\";,\"6\";\"19\";\"18\");(,\"9\";\"19\";\"13\";,\"4\");(,\"6\";\"13\";,\"6\";,\"9\"))\n",
      " ((,\"4\";\"13\";\"19\";,\"9\");(,\"9\";,\"6\";\"13\";,\"6\");(,\"4\";,\"6\";,\"6\";\"18\");(\"18\";\"19\";,\"6\";,\"9\"))\n",
      " ((,\"9\";,\"6\";\"18\";,\"6\");(\"19\";\"18\";,\"4\";,\"9\");(,\"6\";,\"9\";,\"9\";\"19\");(,\"6\";,\"9\";,\"4\";,\"6\")))\n"
     ]
    }
   ],
   "source": [
    "+$(|+:)\\x"
   ]
  }
 ],
 "metadata": {
  "kernelspec": {
   "display_name": "ngn/k",
   "language": "ngnk",
   "name": "ngnk"
  },
  "language_info": {
   "file_extension": ".k",
   "mimetype": "text/ngnk",
   "name": "ngnk"
  }
 },
 "nbformat": 4,
 "nbformat_minor": 5
}
