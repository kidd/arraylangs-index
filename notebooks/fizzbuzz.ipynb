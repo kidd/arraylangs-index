{
 "cells": [
  {
   "cell_type": "markdown",
   "id": "624a2b33-d4de-4821-ab95-9ab9f4c6117d",
   "metadata": {
    "tags": []
   },
   "source": [
    "# FizzBuzz"
   ]
  },
  {
   "cell_type": "code",
   "execution_count": 20,
   "id": "ba89476b-e902-4dc7-8abf-e1e0ad2ee636",
   "metadata": {},
   "outputs": [
    {
     "name": "stdout",
     "output_type": "stream",
     "text": [
      "'io\n",
      "\n"
     ]
    }
   ],
   "source": [
    "\\cd notebooks"
   ]
  },
  {
   "cell_type": "markdown",
   "id": "453c2df9-abdd-4fe7-9c2d-267b1d8be0bc",
   "metadata": {
    "tags": []
   },
   "source": [
    "# Interleave"
   ]
  },
  {
   "cell_type": "markdown",
   "id": "897557fc-34d3-4d9f-b5ae-91451e172ad8",
   "metadata": {},
   "source": [
    "FizzBuzz"
   ]
  },
  {
   "cell_type": "code",
   "execution_count": 50,
   "id": "bc4d5892-234f-4a15-9326-14a90e00ac3c",
   "metadata": {},
   "outputs": [
    {
     "name": "stdout",
     "output_type": "stream",
     "text": [
      "\"1 2 fizz 4 buzz fizz 7 8 fizz buzz 11 fizz 13 14 fizzbuzz 16 17 fizz 19 buzz fizz 22 23 fizz buzz 26 fizz 28 29 fizzbuzz 31 32 fizz 34 buzz fizz 37 38 fizz buzz 41 fizz 43 44 fizzbuzz 46 47 fizz 49 buzz\"\n"
     ]
    }
   ],
   "source": [
    "\" \"/$x^'``fizz`buzz`fizzbuzz@2/~|3 5!\\:x:1+!50 "
   ]
  },
  {
   "cell_type": "markdown",
   "id": "2f714875-ca04-426a-a1f1-615fb938b6d6",
   "metadata": {},
   "source": [
    "Classic FizzBuzz. You know the drill.\n",
    "\n",
    "I've seen a few `k` implementations of fizzbuzz, but the one I like the most is this one."
   ]
  },
  {
   "cell_type": "code",
   "execution_count": 44,
   "id": "5590eb05-65fb-4ffa-940a-ce19b8bf653d",
   "metadata": {},
   "outputs": [
    {
     "name": "stdout",
     "output_type": "stream",
     "text": [
      "1 2 3 4 5 6 7 8 9 10 11 12 13 14 15 16 17 18 19 20 21 22 23 24 25 26 27 28 29 30 31 32 33 34 35 36 37 38 39 40 41 42 43 44 45 46 47 48 49 50\n"
     ]
    }
   ],
   "source": [
    "1+!50   / int"
   ]
  },
  {
   "cell_type": "code",
   "execution_count": 27,
   "id": "0a2ac299-68d6-47bc-8524-10e0415c40fd",
   "metadata": {},
   "outputs": [
    {
     "name": "stdout",
     "output_type": "stream",
     "text": [
      "(1 2 0 1 2 0 1 2 0 1 2 0 1 2 0 1 2 0 1 2 0 1 2 0 1 2 0 1 2 0 1 2 0 1 2 0 1 2 0 1 2 0 1 2 0 1 2 0 1 2\n",
      " 1 2 3 4 0 1 2 3 4 0 1 2 3 4 0 1 2 3 4 0 1 2 3 4 0 1 2 3 4 0 1 2 3 4 0 1 2 3 4 0 1 2 3 4 0 1 2 3 4 0)\n"
     ]
    }
   ],
   "source": [
    "3 5!\\:1+!50 / x mod 3 , x mod 5 for each x"
   ]
  },
  {
   "cell_type": "code",
   "execution_count": 30,
   "id": "c8ced602-434b-42e3-86db-f802de3a687a",
   "metadata": {},
   "outputs": [
    {
     "name": "stdout",
     "output_type": "stream",
     "text": [
      "(0 0 1 0 0 1 0 0 1 0 0 1 0 0 1 0 0 1 0 0 1 0 0 1 0 0 1 0 0 1 0 0 1 0 0 1 0 0 1 0 0 1 0 0 1 0 0 1 0 0\n",
      " 0 0 0 0 1 0 0 0 0 1 0 0 0 0 1 0 0 0 0 1 0 0 0 0 1 0 0 0 0 1 0 0 0 0 1 0 0 0 0 1 0 0 0 0 1 0 0 0 0 1)\n"
     ]
    }
   ],
   "source": [
    "~3 5!\\:1+!50 / negate (0->1 , X->0) "
   ]
  },
  {
   "cell_type": "code",
   "execution_count": 33,
   "id": "237eb60c-2f10-416e-b2e5-d842048d684c",
   "metadata": {},
   "outputs": [
    {
     "name": "stdout",
     "output_type": "stream",
     "text": [
      "0 0 2 0 1 2 0 0 2 1 0 2 0 0 3 0 0 2 0 1 2 0 0 2 1 0 2 0 0 3 0 0 2 0 1 2 0 0 2 1 0 2 0 0 3 0 0 2 0 1\n"
     ]
    }
   ],
   "source": [
    "2/~3 5!\\:1+!50 / encode from base 2"
   ]
  },
  {
   "cell_type": "code",
   "execution_count": 46,
   "id": "0d6b5437-e0ba-47b5-b53a-d4bef5dae3a7",
   "metadata": {},
   "outputs": [
    {
     "name": "stdout",
     "output_type": "stream",
     "text": [
      "```buzz``fizz`buzz```buzz`fizz``buzz```fizzbuzz```buzz``fizz`buzz```buzz`fizz``buzz```fizzbuzz```buzz``fizz`buzz```buzz`fizz``buzz```fizzbuzz```buzz``fizz\n"
     ]
    }
   ],
   "source": [
    "``fizz`buzz`fizzbuzz@2/~3 5!\\:x:1+!50 / pick from a list of 4 elements, 0 is an empty symbol, 1 is `fizz, 2 is `buzz, 3 is `fizzbuzz"
   ]
  },
  {
   "cell_type": "code",
   "execution_count": 54,
   "id": "a1396bf4-4b65-4d93-b498-535cf2083bea",
   "metadata": {},
   "outputs": [
    {
     "name": "stdout",
     "output_type": "stream",
     "text": [
      "(1\n",
      " 2\n",
      " `buzz\n",
      " 4\n",
      " `fizz\n",
      " `buzz\n",
      " 7\n",
      " 8\n",
      " `buzz\n",
      " `fizz\n",
      " 11\n",
      " `buzz\n",
      " 13\n",
      " 14\n",
      " `fizzbuzz\n",
      " 16\n",
      " 17\n",
      " `buzz\n",
      " 19\n",
      " `fizz\n",
      " `buzz\n",
      " 22\n",
      " 23\n",
      " `buzz\n",
      " `fizz\n",
      " 26\n",
      " `buzz\n",
      " 28\n",
      " 29\n",
      " `fizzbuzz\n",
      " 31\n",
      " 32\n",
      " `buzz\n",
      " 34\n",
      " `fizz\n",
      " `buzz\n",
      " 37\n",
      " 38\n",
      " `buzz\n",
      " `fizz\n",
      " 41\n",
      " `buzz\n",
      " 43\n",
      " 44\n",
      " `fizzbuzz\n",
      " 46\n",
      " 47\n",
      " `buzz\n",
      " 49\n",
      " `fizz)\n"
     ]
    }
   ],
   "source": [
    "x^'``fizz`buzz`fizzbuzz@2/~3 5!\\:x:1+!50 / replace nils by the original number. `'` each works by calling `^` with each integer paired with the (maybe null) symbol "
   ]
  },
  {
   "cell_type": "code",
   "execution_count": 49,
   "id": "7e61363e-0b56-4dbf-8fff-1c8c4cc93488",
   "metadata": {},
   "outputs": [
    {
     "name": "stdout",
     "output_type": "stream",
     "text": [
      "\"1 2 buzz 4 fizz buzz 7 8 buzz fizz 11 buzz 13 14 fizzbuzz 16 17 buzz 19 fizz buzz 22 23 buzz fizz 26 buzz 28 29 fizzbuzz 31 32 buzz 34 fizz buzz 37 38 buzz fizz 41 buzz 43 44 fizzbuzz 46 47 buzz 49 fizz\"\n"
     ]
    }
   ],
   "source": [
    "\" \"/$x^'``fizz`buzz`fizzbuzz@2/~3 5!\\:x:1+!50 / stringify the result by converting everything to strings, and joining by spaces"
   ]
  },
  {
   "cell_type": "markdown",
   "id": "1fa48e7f-a17b-4941-ae09-5c0695bc68fd",
   "metadata": {},
   "source": [
    "Wait, are fizzes and buzzes mixed?, let's reverse (could be done swapping 3 and 5 themeslves, or ``` `fizz`buzz```, but well..."
   ]
  },
  {
   "cell_type": "code",
   "execution_count": 55,
   "id": "420b57d6-e000-4662-9844-19b564074517",
   "metadata": {},
   "outputs": [
    {
     "name": "stdout",
     "output_type": "stream",
     "text": [
      "\"1 2 fizz 4 buzz fizz 7 8 fizz buzz 11 fizz 13 14 fizzbuzz 16 17 fizz 19 buzz fizz 22 23 fizz buzz 26 fizz 28 29 fizzbuzz 31 32 fizz 34 buzz fizz 37 38 fizz buzz 41 fizz 43 44 fizzbuzz 46 47 fizz 49 buzz\"\n"
     ]
    }
   ],
   "source": [
    "\" \"/$x^'``fizz`buzz`fizzbuzz@2/~|3 5!\\:x:1+!50 "
   ]
  },
  {
   "cell_type": "markdown",
   "id": "77cb8523-ac4d-4292-aea4-434e0cd6bbe4",
   "metadata": {},
   "source": [
    "solved!"
   ]
  }
 ],
 "metadata": {
  "kernelspec": {
   "display_name": "ngn/k",
   "language": "ngnk",
   "name": "ngnk"
  },
  "language_info": {
   "file_extension": ".k",
   "mimetype": "text/ngnk",
   "name": "ngnk"
  }
 },
 "nbformat": 4,
 "nbformat_minor": 5
}
