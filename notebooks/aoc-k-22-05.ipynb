{
 "cells": [
  {
   "cell_type": "markdown",
   "id": "624a2b33-d4de-4821-ab95-9ab9f4c6117d",
   "metadata": {
    "tags": []
   },
   "source": [
    "# AOC 2022"
   ]
  },
  {
   "cell_type": "code",
   "execution_count": 220,
   "id": "ba89476b-e902-4dc7-8abf-e1e0ad2ee636",
   "metadata": {},
   "outputs": [
    {
     "name": "stdout",
     "output_type": "stream",
     "text": [
      "'io\n",
      "\n"
     ]
    }
   ],
   "source": [
    "\\cd notebooks"
   ]
  },
  {
   "cell_type": "markdown",
   "id": "453c2df9-abdd-4fe7-9c2d-267b1d8be0bc",
   "metadata": {
    "tags": []
   },
   "source": [
    "# Advent of Code 2022 - 05"
   ]
  },
  {
   "cell_type": "markdown",
   "id": "971a3646-689b-44ad-819f-1e213407554a",
   "metadata": {},
   "source": [
    "URL: https://adventofcode.com/2022/day/5"
   ]
  },
  {
   "cell_type": "markdown",
   "id": "2b81c797-26cf-4ce5-97c1-5706872068cf",
   "metadata": {},
   "source": [
    "We'll study ngn's [solution](https://codeberg.org/ngn/k/src/branch/master/aoc/22/05.k):\n",
    "\n",
    "[discord discussion](https://discord.com/channels/821509511977762827/821511172305846322/1049371710710894692)\n",
    "\n",
    "And this one is going to be tough."
   ]
  },
  {
   "cell_type": "code",
   "execution_count": 476,
   "id": "35008341-96b7-40e4-8f4d-501c557d8eeb",
   "metadata": {},
   "outputs": [
    {
     "name": "stdout",
     "output_type": "stream",
     "text": [
      "TLNGFGMFN\n",
      "FGLQJCMBD\n"
     ]
    }
   ],
   "source": [
    "x:0:\"i/05\"\n",
    "e:x?\"\" /index of empty line\n",
    "c:(^:)_'(+e#x)1+4*!9 /crates stacks as top-to-bottom strings (including digits)\n",
    "(m;f;t):0 -1 -1+`I$(+\" \"\\'1_e_x)1 3 5 /(move;from;to)\n",
    "h:{(x_y;(x#y),z)} /move x items from the beginning of list y to the beginning of list z\n",
    "g:`0:*'c{[c;m;f;t]@[c;f,t;:;h[m;c f;c t]]}/\n",
    "g[1;{m}#f;{m}#t] /part1\n",
    "g[m;f;t]         /part2"
   ]
  },
  {
   "cell_type": "markdown",
   "id": "47c71451-f682-4317-8d34-9637125c8057",
   "metadata": {},
   "source": [
    "First line is pretty clear"
   ]
  },
  {
   "cell_type": "code",
   "execution_count": 3,
   "id": "344ccb9c-ffef-4150-a26f-36e45028a6e6",
   "metadata": {},
   "outputs": [
    {
     "name": "stdout",
     "output_type": "stream",
     "text": [
      "9\n"
     ]
    }
   ],
   "source": [
    "x?\"\" /index of the empty line"
   ]
  },
  {
   "cell_type": "markdown",
   "id": "e5fa9443-7ff6-4ba5-8572-8efb27208bd0",
   "metadata": {},
   "source": [
    "To take the different stacks, the phrase is the folowing:\n",
    "- From the lines that contain the stacks. (`e#x`)\n",
    "- Transpose it (`+`)\n",
    "- We have 9 stacks, so take 9 (`!9`) lines\n",
    "- We want one every 4 lines (`4*`)\n",
    "- Starting at 1. 1,5,9,... (`1+`)\n",
    "- For each of those, (`'`)\n",
    "- remove whitespace (`(^:)_`)"
   ]
  },
  {
   "cell_type": "code",
   "execution_count": 4,
   "id": "007085f1-f5df-4fda-8993-212369fbea68",
   "metadata": {},
   "outputs": [
    {
     "name": "stdout",
     "output_type": "stream",
     "text": [
      "(\"GBDCPR1\"\n",
      " \"GVH2\"\n",
      " \"MPJDQSN3\"\n",
      " \"MNCDGLSP4\"\n",
      " \"SLFPCNBJ5\"\n",
      " \"STGVZDBQ6\"\n",
      " \"QTFHMZB7\"\n",
      " \"FBDMC8\"\n",
      " \"GQCF9\")\n"
     ]
    }
   ],
   "source": [
    "(^:)_'(+e#x)1+4*!9"
   ]
  },
  {
   "cell_type": "code",
   "execution_count": 5,
   "id": "1b64f74f-1d32-48f1-af29-161d7fa495cf",
   "metadata": {},
   "outputs": [
    {
     "name": "stdout",
     "output_type": "stream",
     "text": [
      "\"move 1 from 7 to 4\"\n"
     ]
    }
   ],
   "source": [
    "*1_e_x"
   ]
  },
  {
   "cell_type": "markdown",
   "id": "641584c3-431d-402e-9732-e18f6dc58a5c",
   "metadata": {},
   "source": [
    "Now, for each command line, we want to get the relevant information of `move`, `from`, and `to`:"
   ]
  },
  {
   "cell_type": "code",
   "execution_count": 7,
   "id": "a7d2556d-b32e-4d4c-9b80-2c506d5c0ff8",
   "metadata": {},
   "outputs": [
    {
     "name": "stdout",
     "output_type": "stream",
     "text": [
      "1 6 3\n"
     ]
    }
   ],
   "source": [
    "(m;f;t):0 -1 -1+`I$(+\" \"\\'1_e_x)1 3 5 /(move;from;to)\n",
    "(*m; *f; *t)"
   ]
  },
  {
   "cell_type": "markdown",
   "id": "097951f0-55dd-4470-b90c-963a5edf24c7",
   "metadata": {},
   "source": [
    "Explanation:\n",
    "\n",
    "- Take the lines that have move commands (`1_e_x`)\n",
    "- Split each line by spaces (`\" \"\\'`)\n",
    "- Transpose (`flip`) the full list, to be able to select the desired fields `1, 3, and 5` by leading axis ([citation needed] https://aplwiki.com/wiki/Leading_axis_theory)\n",
    "- Select rows 1,3,5\n",
    "- convert everything to ints ``` `I$```\n",
    "- subtract 1 from `from` and `to`, so the numbers map to our 0-index nature"
   ]
  },
  {
   "cell_type": "code",
   "execution_count": 23,
   "id": "984a98b3-9f6f-40a6-9bbe-8a38ccf00b20",
   "metadata": {},
   "outputs": [
    {
     "name": "stdout",
     "output_type": "stream",
     "text": [
      "((\"move\";,\"1\";\"from\";,\"7\";\"to\";,\"4\")\n",
      " (\"move\";,\"3\";\"from\";,\"4\";\"to\";,\"7\")\n",
      " (\"move\";,\"4\";\"from\";,\"3\";\"to\";,\"4\")\n",
      " (\"move\";,\"5\";\"from\";,\"6\";\"to\";,\"9\")\n",
      " (\"move\";,\"1\";\"from\";,\"8\";\"to\";,\"1\"))\n",
      "((\"move\";\"move\";\"move\";\"move\";\"move\")\n",
      " (,\"1\";,\"3\";,\"4\";,\"5\";,\"1\")\n",
      " (\"from\";\"from\";\"from\";\"from\";\"from\")\n",
      " (,\"7\";,\"4\";,\"3\";,\"6\";,\"8\")\n",
      " (\"to\";\"to\";\"to\";\"to\";\"to\")\n",
      " (,\"4\";,\"7\";,\"4\";,\"9\";,\"1\"))\n"
     ]
    }
   ],
   "source": [
    "/ why the `flip`\n",
    "(\" \"\\'5#1_e_x)\n",
    "(+\" \"\\'5#1_e_x)"
   ]
  },
  {
   "cell_type": "markdown",
   "id": "548cd669-adc6-484b-ac91-e5d6a1ea852c",
   "metadata": {},
   "source": [
    "`h` is a simple function to shift `x` number of elements elements from `y` to `z`, preserving the order. "
   ]
  },
  {
   "cell_type": "code",
   "execution_count": 478,
   "id": "9d59bbbf-740c-46b4-9f4f-2274deb7ccb5",
   "metadata": {},
   "outputs": [],
   "source": [
    "h:{(x_y;(x#y),z)}"
   ]
  },
  {
   "cell_type": "code",
   "execution_count": 145,
   "id": "034f4c6f-4659-466a-b261-ca5af0a6fce7",
   "metadata": {},
   "outputs": [
    {
     "name": "stdout",
     "output_type": "stream",
     "text": [
      "(2 3\n",
      " 0 1 4 5 6)\n"
     ]
    }
   ],
   "source": [
    "h[2;0 1 2 3; 4 5 6]"
   ]
  },
  {
   "cell_type": "markdown",
   "id": "786ed2b7-aeaf-4fbc-8779-e91bd482e57f",
   "metadata": {},
   "source": [
    "Now this starts to be fun again:"
   ]
  },
  {
   "cell_type": "code",
   "execution_count": 156,
   "id": "9cfa4b22-8c81-4530-9a92-61e8cf534372",
   "metadata": {},
   "outputs": [],
   "source": [
    "g:`0:*'c{[c;m;f;t]@[c;f,t;:;h[m;c f;c t]]}/"
   ]
  },
  {
   "cell_type": "markdown",
   "id": "f02fc769-2deb-4d95-91d2-4f281c293646",
   "metadata": {},
   "source": [
    "This line defines a function `g`. If we split it into meaningful parts, we get:\n",
    "- Define function `g:`\n",
    "- print the first of each ``` `0:*'```\n",
    "- over  (`c f /`)\n",
    "- `f` being a tetradic function\n",
    "- And what `f` does is to `Amend` `c`, in the indices `f,t`, setting as values (`:`), the result of `h` `@[c;f,t;:;h[m;c f;c t]]`\n",
    "\n",
    "A function definition that ends with `/` tells us that the full body will be applied to the parameters it'll get when called. It's kind of a literal, that could be inlined."
   ]
  },
  {
   "cell_type": "code",
   "execution_count": 36,
   "id": "fd1a5d77-726f-4ce6-83e7-b91dfd85d635",
   "metadata": {},
   "outputs": [
    {
     "name": "stdout",
     "output_type": "stream",
     "text": [
      "GGMMSSQFG\n"
     ]
    }
   ],
   "source": [
    "ff:`0:*'c{[c;m;f;t]@[c;f,t;:;h[m;c f;c t]]}/\n",
    "ff[1; (1 2 3); (1 2 3)]"
   ]
  },
  {
   "cell_type": "markdown",
   "id": "914a1f3c-6333-4aaa-b344-0210b354da08",
   "metadata": {
    "tags": []
   },
   "source": [
    "## Detour #1, `over`"
   ]
  },
  {
   "cell_type": "markdown",
   "id": "5a18ce8f-c9ca-4dfc-a038-f472ddf9ae18",
   "metadata": {},
   "source": [
    "We'll digress a bit, and write a few tests on `over` with a simple triadic function, to see how it behaves depending on the shapes of the arguments"
   ]
  },
  {
   "cell_type": "markdown",
   "id": "a1110d6a-20a4-4163-b8b1-fe7dd29f1eb2",
   "metadata": {},
   "source": [
    "Reading the holy [kreflite.pdf](http://www.nsl.com/k/k2/k295/kreflite.pdf) doc on `over`:\n",
    "\n",
    "[...]each argument other than the first can be an atom or list,\n",
    "but if two or more of those are lists then all those lists must conform. The first\n",
    "argument x is any valid first argument of f.\n",
    "\n",
    "The general case of Over for functions with valence at least two is a direct exten-\n",
    "sion of the dyadic case. The first argument x serves the same role as the left argu-\n",
    "ment of the dyadic case, and all other arguments have the same role as the right\n",
    "argument. That is, if all of y, z,... are atoms then f/[x;y;z;...] is identical to\n",
    "f[x;y;z;...] , and otherwise f/[x;y;z;...] is evaluated as follows:\n",
    "```\n",
    "x: f[x;y0;z0;...]\n",
    "x: f[x;y1;z1;...]\n",
    ".\n",
    ".\n",
    ".\n",
    "x: f[x;yn;zn;...]\n",
    "```\n",
    "where y0 is y[0] if y is a list or y itself if y is an atom, and similarly for y1...yn,\n",
    "z0...zn. The name yn stands for the last item of y if y is a list or y itself if y is an\n",
    "atom, and similarly for zn, ... . The result is the last value of x.\n",
    "\n",
    "And, as usual in K, this description holds a lot of non-trivial behaviors that you can exploit when needed. Let's see a few examples with a triadic sum `{x+y+z}`:"
   ]
  },
  {
   "cell_type": "code",
   "execution_count": 466,
   "id": "84b311de-3a34-403d-89da-a6e21989bbc2",
   "metadata": {},
   "outputs": [
    {
     "name": "stdout",
     "output_type": "stream",
     "text": [
      "`simple\n",
      "3\n",
      "3 2\n",
      "3 2 1\n",
      "`iterate\n",
      "12\n",
      "`conform\n",
      "9 8 7\n",
      "6 5 4\n",
      "'length\n",
      " {x+y+z}/[2 1 0;1 0;3 0 0] / `1 0` and `3 0 0` do not conform. 'lenght error\n",
      "                         ^\n",
      "\n",
      "`LeftfirstArg\n",
      "'rank\n",
      " 3{y}/[0;1;3]\n",
      "  ^\n",
      "\n",
      "`recurrence\n",
      "2 1 3 6 10 19 35 64 118 217 399 734 1350\n",
      "1 1 2 3 5 8 13 21 34 55 89 144\n",
      "1 1 2 3 5 8 13 21 34 55 89 144\n"
     ]
    }
   ],
   "source": [
    "`simple\n",
    "{x+y+z}/[2;1;0]       / same as {x+y+z}[2;1;0] (2+1+0)\n",
    "{x+y+z}/[2 1;1;0]     / same as {x+y+z}[2 1;1;0]  (2 1 + 1 + 0)\n",
    "{x+y+z}/[2 1 0;1;0]   / same as {x+y+z}[2 1 0;1;0]  (2 1 0 + 1 + 0)\n",
    "/so far, no iterations have happened on over. Everything happened in one call of the function, and as `+` is atomic, everything just works.\n",
    "\n",
    "`iterate\n",
    "{x+y+z}/[0;2 1 0;3]   / 0+2+3  + 1+3  + 0+3. scalar, because first arg is scalar\n",
    "\n",
    "`conform\n",
    "{x+y+z}/[2 1 0;1 0;3] / `1 0` and `3` conform.\n",
    "{x+y+z}/[2 1 0;1 0;3 0] / `1 0` and `3 0` conform.\n",
    "{x+y+z}/[2 1 0;1 0;3 0 0] / `1 0` and `3 0 0` do not conform. 'lenght error\n",
    "\n",
    "`LeftfirstArg \n",
    "p:1\n",
    "3{y}/[0;1;3]\n",
    "\n",
    "`recurrence\n",
    "{x+y+z}\\[10;2;1;3]    / recurrence\n",
    "{x+y}\\[10;1;1] / fib \n",
    "+\\[10;1;1] / also fib"
   ]
  },
  {
   "cell_type": "code",
   "execution_count": 234,
   "id": "5262d3fe-2db9-48cb-bc27-b4c4bd5e18a9",
   "metadata": {},
   "outputs": [
    {
     "name": "stdout",
     "output_type": "stream",
     "text": [
      "'rank\n",
      "  3{y+x+z}\\[2 3;4 3]\n",
      "   ^\n",
      "\n"
     ]
    }
   ],
   "source": [
    "p:1\n",
    " 3{y+x+z}\\[2 3;4 3]"
   ]
  },
  {
   "cell_type": "markdown",
   "id": "c5817bb5-f3bc-43da-a66c-496f6241f7a0",
   "metadata": {},
   "source": [
    "The last section (recurrence) is an undocumented extension to ngn/k:\n",
    "\n",
    "ngn: [...]I made a small undocumented extension to k6 in my implementation: dyad\\[nIterations;seed1;seed2] computes the first n terms of a recurrence relation, e.g. +\\[10;1;1] is the fibonacci sequence. [discord link](https://discord.com/channels/821509511977762827/821511172305846322/1065755527734370346).\n",
    "\n",
    "If you're wondering about the behaviors on the valence of `f` vs number of args given to `f/`, [that's your link](https://ngn.codeberg.page/txt/slash.html)"
   ]
  },
  {
   "cell_type": "markdown",
   "id": "062cc9d2-bc97-4876-8a56-cc7810bf724d",
   "metadata": {},
   "source": [
    "## Detour #2: Tables indexing tables"
   ]
  },
  {
   "cell_type": "code",
   "execution_count": 481,
   "id": "55175029-21c8-4038-8419-d8a8bc5a087a",
   "metadata": {},
   "outputs": [
    {
     "name": "stdout",
     "output_type": "stream",
     "text": [
      "'limit\n",
      " {(x_y;(x#y),z)}\n",
      "         ^\n",
      " h[m;c f;c t]\n",
      "            ^\n",
      "\n"
     ]
    }
   ],
   "source": [
    "h[m;c f;c t]\n"
   ]
  },
  {
   "cell_type": "code",
   "execution_count": 474,
   "id": "20036e71-56e2-4702-8bf7-43a73dcf1019",
   "metadata": {},
   "outputs": [
    {
     "name": "stdout",
     "output_type": "stream",
     "text": [
      "'rank\n",
      " {[c;m;f;t] @[c;f,t;:;h[m;c f;c t]]}\n",
      "                                ^\n",
      " pp[1; 1 2; 1 2]\n",
      "               ^\n",
      "\n",
      "42\n"
     ]
    }
   ],
   "source": [
    "pp:c{[c;m;f;t] @[c;f,t;:;h[m;c f;c t]]}/\n",
    "pp[1; 1 2; 1 2]\n",
    "\n",
    "/c{[c;m;f;t] @[c;f,t;:;h[m;c f;c t]]}/[1; 1 2; 1 2]   / fails\n",
    "\n",
    "c:42\n",
    "pp:c{[c;m;f] c}/\n",
    "pp[1;1]\n"
   ]
  },
  {
   "cell_type": "code",
   "execution_count": 127,
   "id": "72ae3606-3eb2-4c15-96ca-649cafa39c44",
   "metadata": {},
   "outputs": [
    {
     "name": "stdout",
     "output_type": "stream",
     "text": [
      "1 3 4 5 1 2 3 1 9 1\n",
      "6 3 2 5 7 2 3 2 6 1\n",
      "3 5 4 2 1 4 5 4 3 3\n",
      "6 3 3 3 2 2 2 2 5 5\n"
     ]
    }
   ],
   "source": [
    "10#m\n",
    "10#f\n",
    "10#m f\n",
    "10#{m}#f"
   ]
  },
  {
   "cell_type": "markdown",
   "id": "cdd3057a-2cda-4aec-b40b-ee6e889a6e69",
   "metadata": {},
   "source": [
    "Function `g` looks dauntingly big, right? Well, it's not that bad, it's just a user defined tetradic function, meaning we had to define the parameter list instead of relying on `x,y,z`.\n",
    "\n",
    "This is a case of `over`, not `over monad` nor `over dyad`. "
   ]
  },
  {
   "cell_type": "code",
   "execution_count": 318,
   "id": "719f5e8d-2892-48fd-ac12-2e7ee2fa352f",
   "metadata": {},
   "outputs": [
    {
     "name": "stdout",
     "output_type": "stream",
     "text": [
      "2383\n",
      "2383\n"
     ]
    }
   ],
   "source": [
    " /{a:1; {[a;x] a+x}[a]@2} 1\n",
    " / gg:`0:*'c{[c;m;f;t] c}/[1 2; 3 4; 5 6]\n",
    "#{m}#t\n",
    "#{m}#f\n",
    " /ff:[1;{m}#f;{m}#t] "
   ]
  },
  {
   "cell_type": "code",
   "execution_count": 484,
   "id": "32d65dc8-663c-44e7-9c65-289ba6ee98fc",
   "metadata": {},
   "outputs": [
    {
     "name": "stdout",
     "output_type": "stream",
     "text": [
      "(,\"0\"\n",
      " ,\"1\"\n",
      " \"\"\n",
      " \"23\"\n",
      " ,\"4\"\n",
      " ,\"5\"\n",
      " ,\"6\"\n",
      " ,\"7\"\n",
      " ,\"8\"\n",
      " ,\"9\")\n",
      "TLNGFGMFN\n"
     ]
    }
   ],
   "source": [
    "g:`0:*'c{[c;m;f;t]@[c;f,t;:;h[m;c f;c t]]}/\n",
    "ff:($!10){[c;m;f;t]@[c;f,t;:;h[m;c f;c t]]}/\n",
    "ff[1;2;3]\n",
    " /g[2;1;2]\n",
    "\n",
    " /*{[c;m;f;t]@[c;f,t;:;h[m;c f;c t]]}/[1;{m}#f;{m}#t]\n",
    " g[1;{m}#f;{m}#t] /part1"
   ]
  }
 ],
 "metadata": {
  "kernelspec": {
   "display_name": "ngn/k",
   "language": "ngnk",
   "name": "ngnk"
  },
  "language_info": {
   "file_extension": ".k",
   "mimetype": "text/ngnk",
   "name": "ngnk"
  }
 },
 "nbformat": 4,
 "nbformat_minor": 5
}
