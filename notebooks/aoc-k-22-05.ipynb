{
 "cells": [
  {
   "cell_type": "markdown",
   "id": "624a2b33-d4de-4821-ab95-9ab9f4c6117d",
   "metadata": {
    "tags": []
   },
   "source": [
    "# AOC 2022"
   ]
  },
  {
   "cell_type": "code",
   "execution_count": 220,
   "id": "ba89476b-e902-4dc7-8abf-e1e0ad2ee636",
   "metadata": {},
   "outputs": [
    {
     "name": "stdout",
     "output_type": "stream",
     "text": [
      "'io\n",
      "\n"
     ]
    }
   ],
   "source": [
    "\\cd notebooks"
   ]
  },
  {
   "cell_type": "markdown",
   "id": "453c2df9-abdd-4fe7-9c2d-267b1d8be0bc",
   "metadata": {
    "tags": []
   },
   "source": [
    "# Advent of Code 2022 - 05"
   ]
  },
  {
   "cell_type": "markdown",
   "id": "971a3646-689b-44ad-819f-1e213407554a",
   "metadata": {},
   "source": [
    "URL: https://adventofcode.com/2022/day/5"
   ]
  },
  {
   "cell_type": "markdown",
   "id": "2b81c797-26cf-4ce5-97c1-5706872068cf",
   "metadata": {},
   "source": [
    "We'll study ngn's [solution](https://codeberg.org/ngn/k/src/branch/master/aoc/22/05.k):"
   ]
  },
  {
   "cell_type": "code",
   "execution_count": 223,
   "id": "35008341-96b7-40e4-8f4d-501c557d8eeb",
   "metadata": {},
   "outputs": [
    {
     "name": "stdout",
     "output_type": "stream",
     "text": [
      "CNSZFDVLJ\n",
      "QNDWLMGNS\n"
     ]
    }
   ],
   "source": [
    "x:0:\"i/05\"\n",
    "e:x?\"\" /index of empty line\n",
    "c:(^:)_'(+e#x)1+4*!9 /crates stacks as top-to-bottom strings (including digits)\n",
    "(m;f;t):0 -1 -1+`I$(+\" \"\\'1_e_x)1 3 5 /(move;from;to)\n",
    "h:{(x_y;(x#y),z)} /move x items from the beginning of list y to the beginning of list z\n",
    "g:`0:*'c{[c;m;f;t]@[c;f,t;:;h[m;c f;c t]]}/\n",
    "g[1;{m}#f;{m}#t] /part1\n",
    "g[m;f;t]         /part2"
   ]
  },
  {
   "cell_type": "markdown",
   "id": "47c71451-f682-4317-8d34-9637125c8057",
   "metadata": {},
   "source": [
    "First one is pretty clear"
   ]
  },
  {
   "cell_type": "code",
   "execution_count": 222,
   "id": "344ccb9c-ffef-4150-a26f-36e45028a6e6",
   "metadata": {},
   "outputs": [
    {
     "name": "stdout",
     "output_type": "stream",
     "text": [
      "9\n"
     ]
    }
   ],
   "source": [
    "x?\"\" /index of empty lne"
   ]
  },
  {
   "cell_type": "markdown",
   "id": "e5fa9443-7ff6-4ba5-8572-8efb27208bd0",
   "metadata": {},
   "source": [
    "To take the different stacks, the phrase is the folowing:\n",
    "- From the lines that contain the stacks. (`e#x`)\n",
    "- Transpose it (`+`)\n",
    "- We have 9 stacks, so take 9 (`!9`) lines\n",
    "- We want one every 4 lines (`4*`)\n",
    "- Starting at 1. 1,5,9,... (`1+`)\n",
    "- For each of those, (`'`)\n",
    "- remove whitespace (`(^:)_`)"
   ]
  },
  {
   "cell_type": "code",
   "execution_count": 27,
   "id": "007085f1-f5df-4fda-8993-212369fbea68",
   "metadata": {},
   "outputs": [
    {
     "name": "stdout",
     "output_type": "stream",
     "text": [
      "(\"GBDCPR1\"\n",
      " \"GVH2\"\n",
      " \"MPJDQSN3\"\n",
      " \"MNCDGLSP4\"\n",
      " \"SLFPCNBJ5\"\n",
      " \"STGVZDBQ6\"\n",
      " \"QTFHMZB7\"\n",
      " \"FBDMC8\"\n",
      " \"GQCF9\")\n"
     ]
    }
   ],
   "source": [
    "(^:)_'(+e#x)1+4*!9"
   ]
  },
  {
   "cell_type": "code",
   "execution_count": 33,
   "id": "1b64f74f-1d32-48f1-af29-161d7fa495cf",
   "metadata": {},
   "outputs": [
    {
     "name": "stdout",
     "output_type": "stream",
     "text": [
      "\"move 1 from 7 to 4\"\n"
     ]
    }
   ],
   "source": [
    "*1_e_x"
   ]
  },
  {
   "cell_type": "markdown",
   "id": "eec51806-358e-43ab-8042-a4f11782788a",
   "metadata": {},
   "source": [
    "For each command line, get the relevant information:\n",
    "- Take the lines that have move commands (`1_e_x`)\n",
    "- Split each line by spaces (`\" \"\\'`)\n",
    "- Transpose the line into "
   ]
  },
  {
   "cell_type": "code",
   "execution_count": 35,
   "id": "a7d2556d-b32e-4d4c-9b80-2c506d5c0ff8",
   "metadata": {},
   "outputs": [
    {
     "name": "stdout",
     "output_type": "stream",
     "text": [
      "1 6 3\n"
     ]
    }
   ],
   "source": [
    "(m;f;t):0 -1 -1+`I$(+\" \"\\'1_e_x)1 3 5 /(move;from;to)\n",
    "(*m; *f; *t)"
   ]
  },
  {
   "cell_type": "code",
   "execution_count": 153,
   "id": "d7952310-f6db-4c62-99b7-ff47b177bef9",
   "metadata": {},
   "outputs": [
    {
     "name": "stdout",
     "output_type": "stream",
     "text": [
      "(1 3 4 5 1 2 3 1 9 1 3 4 6 1 1 11 1 7 5 2 2 1 3 2 1 2 7 6 1 1 12 1 2 20 1 5 1 2 2 1 18 1 1 1 1 8 1 19 5 2 20 1 8 5 27 34 1 2 1 1 2 1 1 2 1 5 5 4 4 2 1 25 1 17 14 1 1 10 2 12 18 1 5 1 3 1 2 9 16 6 2 1 16 1 2 1 7 7 9 1 2 1 11 1 1 2 3 2 5 3 1 3 1 1 2 20 1 11 17 1 7 1 2 2 4 2 2 1 4 2 3 25 23 1 6 6 3 10 1 2 2 2 1 14 2 14 1 17 1 2 1 1 9 17 3 1 4 1 1 14 2 3 1 1 4 2 3 4 17 1 8 1 19 9 5 3 6 1 3 25 1 2 6 1 2 1 2 2 5 3 7 2 1 1 6 1 1 2 2 11 2 3 1 5 1 7 12 10 1 3 1 10 8 1 2 14 1 3 3 3 5 8 6 1 6 4 4 3 1 1 2 1 3 3 5 4 1 8 2 11 9 2 1 1 5 3 2 2 12 2 5 4 1 7 7 1 1 5 4 5 1 12 2 2 3 2 4 1 4 15 1 3 2 5 3 4 4 1 4 2 2 2 3 2 2 2 8 2 2 3 2 2 1 1 2 18 1 2 18 1 22 6 3 3 3 3 14 10 27 1 1 2 2 18 6 10 1 4 3 1 1 2 2 3 6 4 11 2 3 5 2 2 1 1 1 2 4 11 1 8 1 4 21 2 1 1 7 12 1 10 15 2 13 9 12 1 1 9 3 1 6 2 6 9 7 1 9 13 4 2 3 3 3 1 1 1 3 12 10 5 1 11 8 1 8 1 4 4 3 2 1 1 2 4 11 10 1 1 4 6 1 4 12 12 1 10 2 8 4 8 2 2 13 3 8 7 1 1 2 3 1 4 3 1 1 1 2 1 13 7 4 1 5 3 10 3 1 2 3 4 2 2 4 8 3 1 5 1 3 3 7 3 1 3 1 3 6 3 2 2 16 4 4 1 1 3 6 1 3 2 1 6 2 2 7 1 3 3 3 11 12 5 9 7 7 5 2 2 1 7 1 14 9 11 22 2 16 1 3 3 1 1\n",
      " 6 3 2 5 7 2 3 2 6 1 3 8 7 7 3 0 3 1 5 3 4 7 0 5 3 1 4 2 1 2 6 0 0 8 0 4 7 7 5 5 2 3 6 0 5 4 0 4 1 8 1 8 5 0 1 0 1 2 3 1 0 5 8 5 5 2 3 0 0 2 5 6 5 4 6 6 8 1 1 2 4 3 1 4 1 1 1 5 7 6 7 0 1 7 0 8 3 2 6 4 8 8 5 2 3 7 4 0 0 3 2 1 8 1 3 7 8 5 0 7 4 3 0 7 6 5 0 0 7 0 7 4 1 6 8 7 5 0 5 2 2 5 3 0 2 1 5 3 7 6 3 4 1 2 3 7 4 2 3 6 0 1 1 2 0 5 8 1 8 1 8 7 6 3 6 4 1 8 1 8 2 4 5 2 2 7 1 7 6 6 4 2 2 5 8 8 5 4 8 7 4 5 3 4 3 6 4 0 8 7 0 1 7 8 2 4 2 7 7 1 5 6 7 4 1 3 3 8 7 4 6 2 3 3 5 2 5 2 7 8 0 6 5 5 8 8 8 2 6 7 3 8 0 0 4 8 4 6 5 0 3 7 1 7 7 5 6 5 2 6 6 2 2 1 0 4 4 4 8 1 4 1 3 8 7 4 1 0 2 5 5 0 1 4 1 3 4 6 7 6 3 1 5 5 3 6 1 2 7 6 2 1 8 0 0 3 2 6 8 5 1 4 5 4 0 4 1 0 3 6 5 0 7 0 5 3 4 2 2 5 2 3 8 8 8 1 7 5 7 5 6 6 5 4 4 1 8 2 3 6 3 4 0 7 2 1 5 0 7 6 5 4 1 4 2 8 7 1 6 7 7 3 8 5 1 4 0 8 0 7 6 1 2 3 5 6 2 5 4 6 7 5 3 7 7 0 3 7 0 6 5 4 8 1 2 5 8 8 5 3 0 3 7 1 4 1 3 6 2 3 4 3 5 8 6 3 4 2 6 7 8 3 3 7 5 1 6 3 6 7 6 6 8 3 4 6 7 8 5 0 2 4 2 8 5 2 0 4 4 6 1 7 3 1 7 3 5 3 5 7 4 5 2 5 6 7 2 7 6 2 8 0 1 2 3 2 7 8 5 8 1 4\n",
      " 3 6 3 8 0 1 5 5 0 3 8 7 1 5 0 6 6 4 2 2 8 5 4 8 7 0 8 5 4 7 2 7 8 4 6 2 6 2 4 3 1 1 8 8 0 1 5 1 5 6 0 3 1 2 0 6 5 0 8 5 6 6 2 2 3 3 1 3 3 5 8 4 3 1 5 2 2 2 8 4 7 1 0 2 0 6 5 6 1 2 8 7 5 2 1 2 0 6 7 5 6 4 7 0 1 4 7 8 3 0 1 0 0 4 6 4 6 0 4 1 7 4 1 3 5 7 1 3 8 8 0 1 0 0 7 2 1 1 2 5 1 7 5 8 3 3 8 2 5 1 1 8 3 6 1 2 6 5 4 8 8 0 4 6 1 6 7 3 6 7 5 1 8 1 2 8 4 3 8 4 5 7 6 3 3 1 8 2 5 8 7 4 4 1 4 1 8 5 7 0 8 4 6 6 7 1 1 7 5 0 5 2 6 7 4 7 1 0 3 3 3 8 6 6 8 5 8 2 5 5 1 3 0 2 3 7 3 1 4 6 8 2 7 4 7 6 0 6 0 8 4 3 2 2 5 0 0 7 6 7 2 6 3 8 1 6 7 7 1 7 5 4 3 4 4 5 8 6 3 8 1 0 8 3 4 1 3 2 4 8 0 3 3 6 6 1 8 8 3 7 7 5 7 3 6 0 2 1 0 5 6 7 7 3 4 6 6 1 6 4 6 5 4 0 2 8 8 5 5 2 0 4 1 7 3 4 8 5 5 4 4 7 5 4 2 5 5 4 1 6 1 2 7 0 2 2 6 3 5 5 0 1 7 5 1 8 0 6 4 0 3 7 5 2 3 7 6 8 3 3 4 6 6 1 5 7 4 5 2 3 5 6 6 8 8 7 3 3 6 3 6 6 7 0 1 6 0 2 5 5 4 1 2 4 3 6 1 0 3 7 6 5 6 8 1 4 4 1 3 2 8 6 2 6 7 7 3 0 3 5 2 4 2 2 7 5 8 2 4 3 4 7 7 0 7 0 2 4 4 5 7 7 7 4 4 6 5 3 1 3 7 0 4 2 6 5 3 8 2 5 3 0 1 0 7 2 5 0 1 7 0 2 7 3 0 0 3 1 8 4 5 6)\n"
     ]
    }
   ],
   "source": [
    "0 -1 -1 + `I$(+\" \"\\'1_e_x)1 3 5"
   ]
  },
  {
   "cell_type": "code",
   "execution_count": 61,
   "id": "9d59bbbf-740c-46b4-9f4f-2274deb7ccb5",
   "metadata": {},
   "outputs": [],
   "source": [
    "h:{(x_y;(|x#y),z)}"
   ]
  },
  {
   "cell_type": "code",
   "execution_count": 62,
   "id": "034f4c6f-4659-466a-b261-ca5af0a6fce7",
   "metadata": {},
   "outputs": [
    {
     "name": "stdout",
     "output_type": "stream",
     "text": [
      "(2 3\n",
      " 1 0 4 5 6)\n"
     ]
    }
   ],
   "source": [
    "h[2;0 1 2 3; 4 5 6]"
   ]
  },
  {
   "cell_type": "code",
   "execution_count": 57,
   "id": "9cfa4b22-8c81-4530-9a92-61e8cf534372",
   "metadata": {},
   "outputs": [],
   "source": [
    "g:`0:*'c{[c;m;f;t]@[c;f,t;:;h[m;c f;c t]]}/"
   ]
  },
  {
   "cell_type": "code",
   "execution_count": 90,
   "id": "fd1a5d77-726f-4ce6-83e7-b91dfd85d635",
   "metadata": {},
   "outputs": [
    {
     "name": "stdout",
     "output_type": "stream",
     "text": [
      "GGMMSSQFG\n"
     ]
    }
   ],
   "source": [
    "ff:`0:*'c{[c;m;f;t]@[c;f,t;:;h[m;c f;c t]]}/\n",
    "ff[1; (1 2 3); (1 2 3)]"
   ]
  },
  {
   "cell_type": "code",
   "execution_count": 152,
   "id": "9d2eeb11-5c08-45db-882f-ded71abf522b",
   "metadata": {},
   "outputs": [
    {
     "name": "stdout",
     "output_type": "stream",
     "text": [
      "6\n",
      "{[a;b;c] a+b+c}/[1 2;(1 2 3;4 5 6;7 8 9)]\n",
      "(4 8\n",
      " 4 8)\n"
     ]
    }
   ],
   "source": [
    "gg:{[a;b;c] a+b+c}\\\n",
    "{[a;b;c] a+b+c}[1;2;3]\n",
    "1 2 {[a;b;c] a+b+c}/(1 2 3; 4 5 6; 7 8 9)\n",
    "gg[1 5;2 0;1 0]\n",
    " / gg 1 5;2 5;3 5"
   ]
  },
  {
   "cell_type": "code",
   "execution_count": 210,
   "id": "72ae3606-3eb2-4c15-96ca-649cafa39c44",
   "metadata": {},
   "outputs": [
    {
     "name": "stdout",
     "output_type": "stream",
     "text": [
      "1 3 4 5 1 2 3 1 9 1\n",
      "6 3 2 5 7 2 3 2 6 1\n",
      "3 5 4 2 1 4 5 4 3 3\n",
      "6 3 3 3 2 2 2 2 5 5\n"
     ]
    }
   ],
   "source": [
    "10#m\n",
    "10#f\n",
    "10#m f\n",
    "10#{m}#f"
   ]
  },
  {
   "cell_type": "code",
   "execution_count": 219,
   "id": "32d65dc8-663c-44e7-9c65-289ba6ee98fc",
   "metadata": {},
   "outputs": [
    {
     "name": "stdout",
     "output_type": "stream",
     "text": [
      "(\"GBDCPR1\"\n",
      " \"GVH2\"\n",
      " \"MPJDQSN3\"\n",
      " \"MNCDGLSP4\"\n",
      " \"SLFPCNBJ5\"\n",
      " \"STGVZDBQ6\"\n",
      " \"QTFHMZB7\"\n",
      " \"FBDMC8\"\n",
      " \"GQCF9\")\n",
      "GHGMSSQFG\n"
     ]
    }
   ],
   "source": [
    "g:`0:*'c{[c;m;f;t]@[c;f,t;:;h[m;c f;c t]]}/\n",
    "c\n",
    "g[2;1;2]\n",
    "/g[1;{m}#f;{m}#t] /part1"
   ]
  }
 ],
 "metadata": {
  "kernelspec": {
   "display_name": "ngn/k",
   "language": "ngnk",
   "name": "ngnk"
  },
  "language_info": {
   "file_extension": ".k",
   "mimetype": "text/ngnk",
   "name": "ngnk"
  }
 },
 "nbformat": 4,
 "nbformat_minor": 5
}
