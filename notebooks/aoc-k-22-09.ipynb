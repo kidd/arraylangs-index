{
 "cells": [
  {
   "cell_type": "markdown",
   "id": "624a2b33-d4de-4821-ab95-9ab9f4c6117d",
   "metadata": {
    "tags": []
   },
   "source": [
    "# AOC 2022"
   ]
  },
  {
   "cell_type": "code",
   "execution_count": 220,
   "id": "ba89476b-e902-4dc7-8abf-e1e0ad2ee636",
   "metadata": {},
   "outputs": [
    {
     "name": "stdout",
     "output_type": "stream",
     "text": [
      "'io\n",
      "\n"
     ]
    }
   ],
   "source": [
    "\\cd notebooks"
   ]
  },
  {
   "cell_type": "markdown",
   "id": "453c2df9-abdd-4fe7-9c2d-267b1d8be0bc",
   "metadata": {
    "tags": []
   },
   "source": [
    "# Advent of Code 2022 - 09"
   ]
  },
  {
   "cell_type": "markdown",
   "id": "971a3646-689b-44ad-819f-1e213407554a",
   "metadata": {},
   "source": [
    "URL: https://adventofcode.com/2022/day/9"
   ]
  },
  {
   "cell_type": "markdown",
   "id": "2b81c797-26cf-4ce5-97c1-5706872068cf",
   "metadata": {},
   "source": [
    "We'll study ngn's [solution](https://codeberg.org/ngn/k/src/branch/master/aoc/22/09.k):"
   ]
  },
  {
   "cell_type": "markdown",
   "id": "24d5800f-732a-48bb-9e8e-88f3fafcbd7e",
   "metadata": {},
   "source": [
    "For this problem, there's a sort of simulation to do."
   ]
  },
  {
   "cell_type": "code",
   "execution_count": 157,
   "id": "7766759e-7c5b-49c5-89c7-a9006db4cc97",
   "metadata": {},
   "outputs": [
    {
     "name": "stdout",
     "output_type": "stream",
     "text": [
      "6642\n",
      "2765\n"
     ]
    }
   ],
   "source": [
    "x:+\\'0,'(+,/-:\\=2)@\\:\"DRUL\"?*'(`I$2_')#0:\"i/09\"\n",
    "f:{x+s*~y~s:-1|1&y-:x}\\ /follow\n",
    "`0:$(#?f/[;+x]@)'1 9 /both parts"
   ]
  },
  {
   "cell_type": "markdown",
   "id": "d0e0b203-ca32-4a8a-ad00-4a1590c70c55",
   "metadata": {},
   "source": [
    "First part of transforming the input uses `filter` with a monad. As we learned previously, `filter` can get a predicate function. Remember that the predicate gets the full list, and it returns the repetitions that we filter, so we not just return true/false but 0,1,2.. to get replications. For example: "
   ]
  },
  {
   "cell_type": "code",
   "execution_count": 66,
   "id": "d579b61c-db75-4db4-a489-c7c91c435bad",
   "metadata": {},
   "outputs": [
    {
     "name": "stdout",
     "output_type": "stream",
     "text": [
      "1 2 2 3 3 3 4 4 4 4\n"
     ]
    }
   ],
   "source": [
    "{x}#!5"
   ]
  },
  {
   "cell_type": "markdown",
   "id": "f6cbb6fb-4824-4fcd-8a6b-961d5661ef06",
   "metadata": {},
   "source": [
    "In this case, the filter is ```(`I$2_')```, which takes the number, and replicates the line that many times.  After that, we get only the initial letter."
   ]
  },
  {
   "cell_type": "code",
   "execution_count": 125,
   "id": "5aed232d-489f-42ea-8542-fd893e690542",
   "metadata": {},
   "outputs": [
    {
     "name": "stdout",
     "output_type": "stream",
     "text": [
      "\"RUURLLDDURRULLUDDRDLUUDDLLDUUDDLULLDDUULUULRRU\"\n",
      "1 2 2 1 3 3 0 0 2 1 1 2 3 3 2 0 0 1 0 3 2 2 0 0 3 3 0 2 2 0 0 3 2 3 3 0 0 2 2 3 2 2 3 1 1 2\n"
     ]
    }
   ],
   "source": [
    ":i2:*'(`I$2_')#30#0:\"i/09\"\n",
    "\"DRUL\"?i2"
   ]
  },
  {
   "cell_type": "markdown",
   "id": "920643dc-5f06-482f-af15-ae9673c1080d",
   "metadata": {},
   "source": [
    "From the movement list, we convert them to coordinates.\n",
    "\n",
    "`each-left` of `at` from \n",
    "\n",
    "`(+,/-:\\=2)@\\`."
   ]
  },
  {
   "cell_type": "code",
   "execution_count": 285,
   "id": "8fad9366-3baa-48f3-8acf-ace7e04f9c35",
   "metadata": {},
   "outputs": [
    {
     "name": "stdout",
     "output_type": "stream",
     "text": [
      "(1 0\n",
      " 0 1)\n",
      "((1 0;0 1)\n",
      " (-1 0;0 -1))\n",
      "(1 0\n",
      " 0 1\n",
      " -1 0\n",
      " 0 -1)\n",
      "(1 0 -1 0\n",
      " 0 1 0 -1)\n"
     ]
    }
   ],
   "source": [
    "=2\n",
    "-:\\=2\n",
    ",/-:\\=2\n",
    "(+,/-:\\=2)"
   ]
  },
  {
   "cell_type": "code",
   "execution_count": 54,
   "id": "4ea0f4b3-99d1-4be9-a91b-bf456c28657a",
   "metadata": {},
   "outputs": [
    {
     "name": "stdout",
     "output_type": "stream",
     "text": [
      "(0 -1 -1 0 0 0 1 1 -1 0 0 -1 0 0 -1 1 1 0 1 0 -1 -1 1 1 0 0 1 -1 -1 1 1 0 -1 0 0 1 1 -1 -1 0 -1 -1 0 0 0 -1\n",
      " 1 0 0 1 -1 -1 0 0 0 1 1 0 -1 -1 0 0 0 1 0 -1 0 0 0 0 -1 -1 0 0 0 0 0 -1 0 -1 -1 0 0 0 0 -1 0 0 -1 1 1 0)\n"
     ]
    }
   ],
   "source": [
    "(+,/-:\\=2)@\\:\"DRUL\"?*'(`I$2_')#30#0:\"i/09\""
   ]
  },
  {
   "cell_type": "code",
   "execution_count": 287,
   "id": "22928a80-6ea8-457e-8107-b664fbbd88cd",
   "metadata": {},
   "outputs": [],
   "source": [
    "x:+\\'0,'(+,/-:\\=2)@\\:\"DRUL\"?*'(`I$2_')#0:\"i/09\""
   ]
  },
  {
   "cell_type": "markdown",
   "id": "85db81b8-e296-4f1b-ad62-62d8efd6e99d",
   "metadata": {},
   "source": [
    "Let's see the shape of it, to better understand what we did here:"
   ]
  },
  {
   "cell_type": "code",
   "execution_count": 288,
   "id": "560cdd13-9ceb-483b-8ebd-c34428bb898f",
   "metadata": {},
   "outputs": [
    {
     "name": "stdout",
     "output_type": "stream",
     "text": [
      "(0 0\n",
      " 0 1\n",
      " -1 1\n",
      " -2 1\n",
      " -2 2\n",
      " -2 1\n",
      " -2 0\n",
      " -1 0\n",
      " 0 0\n",
      " -1 0)\n"
     ]
    }
   ],
   "source": [
    "+y:10#'x"
   ]
  },
  {
   "cell_type": "markdown",
   "id": "28647767-ce4b-4007-841c-a4f942a92b71",
   "metadata": {},
   "source": [
    "These are the positions of the Head for each movement. We get to this with a sum over the discrete movements, applied to an initial `0,0` position.\n",
    "\n",
    "The `follow` function does calculate the difference between the head and the tail, then it bounds the diffs to +1 and -1, because at most, the tail can move one position.\n",
    "\n",
    "After applying the bounding box of -1,-1...1,1, we do a test to see if we have to apply any movement or not. We do this by multiplying the movements by 0 or 1, and summing that to the current position of the tail."
   ]
  },
  {
   "cell_type": "code",
   "execution_count": 201,
   "id": "ca351deb-da5b-48a4-8b2d-767c2cd2bd7d",
   "metadata": {},
   "outputs": [],
   "source": [
    "f:{x+s*~y~s:-1|1&y-:x}\\ /follow"
   ]
  },
  {
   "cell_type": "code",
   "execution_count": 284,
   "id": "1015f726-7db5-4aeb-a227-4a8b9de06918",
   "metadata": {},
   "outputs": [],
   "source": [
    "f:{x+s*~y~s:-1|1&y-:x}\\"
   ]
  },
  {
   "cell_type": "code",
   "execution_count": 283,
   "id": "8973a445-f12f-4721-8b18-ff30e94b5268",
   "metadata": {},
   "outputs": [
    {
     "name": "stdout",
     "output_type": "stream",
     "text": [
      "0 0\n"
     ]
    }
   ],
   "source": [
    "f:{x+s*~y~s:-1|1&y-:x} \n",
    "f[1 1; -1 -2]"
   ]
  },
  {
   "cell_type": "code",
   "execution_count": 203,
   "id": "7d42809a-7b09-479a-933b-c1c93bd456dc",
   "metadata": {},
   "outputs": [],
   "source": [
    "f:{x-y}"
   ]
  },
  {
   "cell_type": "code",
   "execution_count": 204,
   "id": "b2ffa169-0f0d-4315-ad1f-784d14f7cadb",
   "metadata": {},
   "outputs": [
    {
     "name": "stdout",
     "output_type": "stream",
     "text": [
      "-1\n",
      "-1\n"
     ]
    }
   ],
   "source": [
    "f[1;2]\n",
    "1 f/2"
   ]
  },
  {
   "cell_type": "code",
   "execution_count": 205,
   "id": "369dbbbb-9f7e-4fee-8dc3-734967edcf2a",
   "metadata": {},
   "outputs": [
    {
     "name": "stdout",
     "output_type": "stream",
     "text": [
      "-16 -17\n"
     ]
    }
   ],
   "source": [
    "f[3 2;19]"
   ]
  },
  {
   "cell_type": "code",
   "execution_count": 286,
   "id": "2b7a4cd5-d6cd-44cc-9733-913c0e22e5c4",
   "metadata": {},
   "outputs": [
    {
     "name": "stdout",
     "output_type": "stream",
     "text": [
      "1\n"
     ]
    }
   ],
   "source": [
    "(#?f/[;+x]@);1"
   ]
  },
  {
   "cell_type": "code",
   "execution_count": 251,
   "id": "44031287-6720-44c0-8f86-34c8223c5587",
   "metadata": {},
   "outputs": [
    {
     "name": "stdout",
     "output_type": "stream",
     "text": [
      "6642\n"
     ]
    }
   ],
   "source": [
    "#?f/[;+x]@1 "
   ]
  },
  {
   "cell_type": "code",
   "execution_count": 227,
   "id": "90f9c905-5f97-4189-a3ae-0af1755515b2",
   "metadata": {},
   "outputs": [
    {
     "name": "stdout",
     "output_type": "stream",
     "text": [
      "1 9\n"
     ]
    }
   ],
   "source": [
    "((!10)@)'1 9"
   ]
  }
 ],
 "metadata": {
  "kernelspec": {
   "display_name": "ngn/k",
   "language": "ngnk",
   "name": "ngnk"
  },
  "language_info": {
   "file_extension": ".k",
   "mimetype": "text/ngnk",
   "name": "ngnk"
  }
 },
 "nbformat": 4,
 "nbformat_minor": 5
}
