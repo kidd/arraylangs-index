{
 "cells": [
  {
   "cell_type": "markdown",
   "id": "624a2b33-d4de-4821-ab95-9ab9f4c6117d",
   "metadata": {
    "tags": []
   },
   "source": [
    "# AOC 2022"
   ]
  },
  {
   "cell_type": "code",
   "execution_count": 220,
   "id": "ba89476b-e902-4dc7-8abf-e1e0ad2ee636",
   "metadata": {},
   "outputs": [
    {
     "name": "stdout",
     "output_type": "stream",
     "text": [
      "'io\n",
      "\n"
     ]
    }
   ],
   "source": [
    "\\cd notebooks"
   ]
  },
  {
   "cell_type": "markdown",
   "id": "453c2df9-abdd-4fe7-9c2d-267b1d8be0bc",
   "metadata": {
    "tags": []
   },
   "source": [
    "# Advent of Code 2022 - 09"
   ]
  },
  {
   "cell_type": "markdown",
   "id": "971a3646-689b-44ad-819f-1e213407554a",
   "metadata": {},
   "source": [
    "URL: https://adventofcode.com/2022/day/9"
   ]
  },
  {
   "cell_type": "markdown",
   "id": "2b81c797-26cf-4ce5-97c1-5706872068cf",
   "metadata": {},
   "source": [
    "We'll study ngn's [solution](https://codeberg.org/ngn/k/src/branch/master/aoc/22/09.k):"
   ]
  },
  {
   "cell_type": "markdown",
   "id": "24d5800f-732a-48bb-9e8e-88f3fafcbd7e",
   "metadata": {},
   "source": [
    "For this problem, there's a sort of simulation to do."
   ]
  },
  {
   "cell_type": "code",
   "execution_count": 10,
   "id": "7766759e-7c5b-49c5-89c7-a9006db4cc97",
   "metadata": {},
   "outputs": [
    {
     "name": "stdout",
     "output_type": "stream",
     "text": [
      "6642\n",
      "2765\n"
     ]
    }
   ],
   "source": [
    "x:+\\'0,'(+,/-:\\=2)@\\:\"DRUL\"?*'(`I$2_')#0:\"i/09\"\n",
    "f:{x+s*~y~s:-1|1&y-:x}\\ /follow\n",
    "`0:$(#?f/[;+x]@)'1 9 /both parts"
   ]
  },
  {
   "cell_type": "markdown",
   "id": "388c0698-4100-4b90-98c4-2daba2136df7",
   "metadata": {},
   "source": [
    "Input lines look like the following"
   ]
  },
  {
   "cell_type": "code",
   "execution_count": 11,
   "id": "0d7ecd28-c196-47fd-b4aa-6de53f9b25fd",
   "metadata": {},
   "outputs": [
    {
     "name": "stdout",
     "output_type": "stream",
     "text": [
      "(\"R 1\"\n",
      " \"U 2\"\n",
      " \"R 1\"\n",
      " \"L 2\"\n",
      " \"D 2\")\n"
     ]
    }
   ],
   "source": [
    "5#0:\"i/09\""
   ]
  },
  {
   "cell_type": "markdown",
   "id": "d0e0b203-ca32-4a8a-ad00-4a1590c70c55",
   "metadata": {},
   "source": [
    "First part of transforming the input uses `filter` with a monad. As we learned previously, `filter` can get a predicate function. Remember that the predicate gets the full list, and it returns the counts that we get from the filter, so we not just return true/false but 0,1,2.. to get replications. For example: "
   ]
  },
  {
   "cell_type": "code",
   "execution_count": 54,
   "id": "d579b61c-db75-4db4-a489-c7c91c435bad",
   "metadata": {},
   "outputs": [
    {
     "name": "stdout",
     "output_type": "stream",
     "text": [
      "1 2 2 3 3 3 4 4 4 4\n"
     ]
    }
   ],
   "source": [
    "{x}#!5"
   ]
  },
  {
   "cell_type": "markdown",
   "id": "f6cbb6fb-4824-4fcd-8a6b-961d5661ef06",
   "metadata": {},
   "source": [
    "In this case, the filter is ```(`I$2_')```, which takes the number, and replicates the line that many times.  After that, we get only the initial letter."
   ]
  },
  {
   "cell_type": "code",
   "execution_count": 77,
   "id": "5aed232d-489f-42ea-8542-fd893e690542",
   "metadata": {},
   "outputs": [
    {
     "name": "stdout",
     "output_type": "stream",
     "text": [
      "\"RUURLLDDURRULLUDDRDLUUDDLLDUUDDLULLDDUULUULRRU\"\n",
      "1 2 2 1 3 3 0 0 2 1 1 2 3 3 2 0 0 1 0 3 2 2 0 0 3 3 0 2 2 0 0 3 2 3 3 0 0 2 2 3 2 2 3 1 1 2\n"
     ]
    }
   ],
   "source": [
    ":i2:*'(`I$2_')#30#0:\"i/09\"\n",
    "\"DRUL\"?i2"
   ]
  },
  {
   "cell_type": "markdown",
   "id": "920643dc-5f06-482f-af15-ae9673c1080d",
   "metadata": {},
   "source": [
    "From the movement list, we convert them to coordinates.\n",
    "\n",
    "`each-left` of `at` from \n",
    "\n",
    "`(+,/-:\\=2)@\\`. Let's unpack this one"
   ]
  },
  {
   "cell_type": "code",
   "execution_count": 80,
   "id": "8fad9366-3baa-48f3-8acf-ace7e04f9c35",
   "metadata": {},
   "outputs": [
    {
     "name": "stdout",
     "output_type": "stream",
     "text": [
      "(1 0\n",
      " 0 1)\n",
      "((1 0;0 1)\n",
      " (-1 0;0 -1))\n",
      "(1 0\n",
      " 0 1\n",
      " -1 0\n",
      " 0 -1)\n",
      "(1 0 -1 0\n",
      " 0 1 0 -1)\n"
     ]
    }
   ],
   "source": [
    "=2\n",
    "-:\\=2\n",
    ",/-:\\=2\n",
    "(+,/-:\\=2)"
   ]
  },
  {
   "cell_type": "code",
   "execution_count": 86,
   "id": "4ea0f4b3-99d1-4be9-a91b-bf456c28657a",
   "metadata": {},
   "outputs": [
    {
     "name": "stdout",
     "output_type": "stream",
     "text": [
      "(0 -1 -1 0 0 0 1 1 -1 0 0 -1 0 0 -1 1 1 0 1 0 -1 -1 1 1 0 0 1 -1 -1 1 1 0 -1 0 0 1 1 -1 -1 0 -1 -1 0 0 0 -1\n",
      " 1 0 0 1 -1 -1 0 0 0 1 1 0 -1 -1 0 0 0 1 0 -1 0 0 0 0 -1 -1 0 0 0 0 0 -1 0 -1 -1 0 0 0 0 -1 0 0 -1 1 1 0)\n"
     ]
    }
   ],
   "source": [
    "(+,/-:\\=2)@\\:\"DRUL\"?*'(`I$2_')#30#0:\"i/09\""
   ]
  },
  {
   "cell_type": "code",
   "execution_count": 21,
   "id": "22928a80-6ea8-457e-8107-b664fbbd88cd",
   "metadata": {},
   "outputs": [],
   "source": [
    "x:+\\'0,'(+,/-:\\=2)@\\:\"DRUL\"?*'(`I$2_')#0:\"i/09\""
   ]
  },
  {
   "cell_type": "markdown",
   "id": "85db81b8-e296-4f1b-ad62-62d8efd6e99d",
   "metadata": {},
   "source": [
    "Let's see the shape of it, to better understand what we did here:"
   ]
  },
  {
   "cell_type": "code",
   "execution_count": 89,
   "id": "560cdd13-9ceb-483b-8ebd-c34428bb898f",
   "metadata": {},
   "outputs": [
    {
     "name": "stdout",
     "output_type": "stream",
     "text": [
      "(0 0 -1 -2 -2 -2 -2 -1 0 -1\n",
      " 0 1 1 1 2 1 0 0 0 0)\n"
     ]
    }
   ],
   "source": [
    "10#'x"
   ]
  },
  {
   "cell_type": "markdown",
   "id": "28647767-ce4b-4007-841c-a4f942a92b71",
   "metadata": {},
   "source": [
    "These are the positions of the Head for each movement. We get to this with a sum over the discrete movements, applied to an initial `0,0` position.\n",
    "\n",
    "The `follow` function does calculate the difference between the head and the tail, then it bounds the diffs to +1 and -1, because at most, the tail can move one position.\n",
    "\n",
    "After applying the bounding box of -1,-1...1,1, we do a test to see if we have to apply any movement or not. We do this by multiplying the movements by 0 or 1, and summing that to the current position of the tail."
   ]
  },
  {
   "cell_type": "code",
   "execution_count": 23,
   "id": "ca351deb-da5b-48a4-8b2d-767c2cd2bd7d",
   "metadata": {},
   "outputs": [],
   "source": [
    "f:{x+s*~y~s:-1|1&y-:x}\\ /follow"
   ]
  },
  {
   "cell_type": "code",
   "execution_count": 8,
   "id": "8973a445-f12f-4721-8b18-ff30e94b5268",
   "metadata": {},
   "outputs": [
    {
     "name": "stdout",
     "output_type": "stream",
     "text": [
      "(1 1\n",
      " 0 0)\n"
     ]
    }
   ],
   "source": [
    "f:{x+s*~y~s:-1|1&y-:x}\\ \n",
    "f[(1 1; -1 -2)] / from 1 1 to -1 -2, the tail moves to 0 0."
   ]
  },
  {
   "cell_type": "markdown",
   "id": "87da5639-a07a-4073-9c2f-7916b92c75ef",
   "metadata": {},
   "source": [
    "Now, the tour de force of this exercise:"
   ]
  },
  {
   "cell_type": "code",
   "execution_count": 39,
   "id": "44031287-6720-44c0-8f86-34c8223c5587",
   "metadata": {},
   "outputs": [
    {
     "name": "stdout",
     "output_type": "stream",
     "text": [
      "6642\n"
     ]
    }
   ],
   "source": [
    "(#?f/[;+x]@)'1 "
   ]
  },
  {
   "cell_type": "markdown",
   "id": "1f3531c0-2408-47bf-9070-34a4068b7876",
   "metadata": {},
   "source": [
    "Intuitively it's clear what it's doing: for both size 1 and 9, count the unique coordinates (`#?`) from the result of applying `follow`.  We're going to see how to get there.\n",
    "\n",
    "\n",
    "`(#?f/[;+x]@)` is a train. Note that the `@` is used to make the whole parethesised chunk a train. `f/[;+x]` is as a `noun`, so we need a verb at the rightmost position of the train to make it really a train. That's why we use `@`. \n",
    "\n",
    "`f/[;+x]` is a projection, or a partially applied function. K parsing binds `f/[]` together, so `@` applies the argument to the whole `f/[;+x]`. The unbound parameter is the first argument to `f/[]`, and `f` being a monad, the first parameter will be the number of iterations.\n",
    "\n",
    "At this point, it might not be obvious why this incantation works, and how the lenght of the rope can be related to the number of times we iterate through `follow`.\n",
    "\n"
   ]
  },
  {
   "cell_type": "markdown",
   "id": "a446d64d-f418-43b1-b13f-8e51f9e1b796",
   "metadata": {},
   "source": [
    "## Combining`/`s and `\\`"
   ]
  },
  {
   "cell_type": "markdown",
   "id": "0f5969ee-6e7a-4d17-8757-fc459b362646",
   "metadata": {},
   "source": [
    "Here are some tests to clear how \\ and / work when combined, and how they behave with monads or dyads.\n",
    "\n",
    "The most basic case is a nested `over` until a fixedpoint is reached."
   ]
  },
  {
   "cell_type": "code",
   "execution_count": 51,
   "id": "644901e0-59a2-4de0-b912-70e5c2f12e92",
   "metadata": {},
   "outputs": [
    {
     "name": "stdout",
     "output_type": "stream",
     "text": [
      "0 1 2 3 4 5 6 7 8 9 10 11 12 13 14 15\n"
     ]
    }
   ],
   "source": [
    "flatten:,// \n",
    "flatten 2 2 2 2#!100"
   ]
  },
  {
   "cell_type": "markdown",
   "id": "69e23282-4165-424b-b665-aae806c6171b",
   "metadata": {},
   "source": [
    "To debug further, we can see the intermediate results by changing the outer `/` to `\\`. This doesn't change the computation. If we want the final result to be the same, we should pick the last item of the list, but that's all"
   ]
  },
  {
   "cell_type": "code",
   "execution_count": 27,
   "id": "42e3614d-325b-42b0-b3f2-54ac3fb210bf",
   "metadata": {},
   "outputs": [
    {
     "name": "stdout",
     "output_type": "stream",
     "text": [
      "((((0 1;2 3);(4 5;6 7));((8 9;10 11);(12 13;14 15)))\n",
      " ((0 1;2 3);(4 5;6 7);(8 9;10 11);(12 13;14 15))\n",
      " (0 1;2 3;4 5;6 7;8 9;10 11;12 13;14 15)\n",
      " 0 1 2 3 4 5 6 7 8 9 10 11 12 13 14 15)\n"
     ]
    }
   ],
   "source": [
    ",/\\2 2 2 2#!100"
   ]
  },
  {
   "cell_type": "markdown",
   "id": "b29da49b-555c-4307-b52d-4e3ed4189e2b",
   "metadata": {},
   "source": [
    "The inner one can't be changed so easily, because that does change what we are computing.   So, we'll use `\\` instead of `/` in our tests here"
   ]
  },
  {
   "cell_type": "code",
   "execution_count": 7,
   "id": "8bcca061-5e47-4b9f-8f99-335b867ad4f4",
   "metadata": {},
   "outputs": [
    {
     "name": "stdout",
     "output_type": "stream",
     "text": [
      "0 1 2 3 4 5 6 7 8 9\n",
      "0 1 2 3 4 5 6 7 8 9\n",
      "0 1 3 6 10 15 21 28 36 45\n",
      "10 11 13 16 20 25 31 38 46 55\n",
      "10 11 13 16 20 25 31 38 46 55\n",
      "0 1 2 3 4 5 6 7 8 9\n"
     ]
    }
   ],
   "source": [
    "m:{x}\n",
    "d:{x+y}\n",
    "l:!10\n",
    "m/l  /monad, 1 iteration till fixedpoint\n",
    "2m/l  /monad, with  iteration count\n",
    "\n",
    "d\\l      /dyad. 1 pass through the list\n",
    "10 d\\l   /dyad with seed. (gets passed as the first `x`)\n",
    "d\\[10;l] /dyad, used in the m-expression form\n",
    "\n",
    "d\\/[0;l]"
   ]
  },
  {
   "cell_type": "markdown",
   "id": "6a15b5d6-edfb-4501-a4ab-fa1198b49397",
   "metadata": {},
   "source": [
    "For `d\\/l`, think that `d\\` makes a monad.  So, to the rightmost `/` we should pass a number of iterations we want to run, or it might run indefinitely until finding a fixedpoint."
   ]
  },
  {
   "cell_type": "code",
   "execution_count": 34,
   "id": "a14532bd-a821-4be0-b312-f1570129ac6b",
   "metadata": {},
   "outputs": [
    {
     "name": "stdout",
     "output_type": "stream",
     "text": [
      "0 1 2 3 4 5 6 7 8 9\n",
      "0 1 3 6 10 15 21 28 36 45\n",
      "(0 1 2 3 4 5 6 7 8 9\n",
      " 0 1 3 6 10 15 21 28 36 45)\n",
      "(0 1 2 3 4 5 6 7 8 9\n",
      " 0 1 3 6 10 15 21 28 36 45\n",
      " 0 1 4 10 20 35 56 84 120 165\n",
      " 0 1 5 15 35 70 126 210 330 495)\n",
      "(0 0\n",
      " 0 1\n",
      " 1 0\n",
      " 1 1)\n",
      "(0 0\n",
      " 0 1\n",
      " 1 1\n",
      " 2 2)\n",
      "((0 0;0 1;1 0;1 1)\n",
      " (0 0;0 1;1 1;2 2))\n",
      "((0 0;0 1;1 0;1 1)\n",
      " (0 0;0 1;1 1;2 2)\n",
      " (0 0;0 1;1 2;3 4)\n",
      " (0 0;0 1;1 3;4 7))\n"
     ]
    }
   ],
   "source": [
    "d\\/[0;l]\n",
    "d\\/[1;l]\n",
    "/ If we change the `\\/` to `\\\\`, we will get a trail of all the partial results \n",
    "d\\\\[1;l] /running sum\n",
    "d\\\\[3;l] /running sum of the running sum of the running sum \n",
    "/ of course, it can get done with nested lists\n",
    ":ll:+!2 2\n",
    "d\\ll\n",
    "d\\\\[1;ll]\n",
    "d\\\\[3;ll]"
   ]
  },
  {
   "cell_type": "code",
   "execution_count": 51,
   "id": "0bbbf0ee-bbf5-4a95-92c0-67a850f834c5",
   "metadata": {},
   "outputs": [
    {
     "name": "stdout",
     "output_type": "stream",
     "text": [
      "(1 1 1 1 1 1 1 1 1 1\n",
      " 1 2 3 4 5 6 7 8 9 10\n",
      " 1 3 6 10 15 21 28 36 45 55\n",
      " 1 4 10 20 35 56 84 120 165 220\n",
      " 1 5 15 35 70 126 210 330 495 715)\n"
     ]
    }
   ],
   "source": [
    "+\\\\[;10#1]4 / all ones, with accumulated running sums"
   ]
  },
  {
   "cell_type": "markdown",
   "id": "2c7beda7-6944-41d4-a93a-ad50f3302621",
   "metadata": {},
   "source": [
    "# Back to the challenge"
   ]
  },
  {
   "cell_type": "markdown",
   "id": "646429ff-5259-4bd1-afb5-837c39aaf32a",
   "metadata": {},
   "source": [
    "With the new acquired knowledge, we see that different rope lengths are solved by iterating over previous results and apply the same `follow` function over it.\n",
    "\n",
    "We can see the results of multiple rope sizes:"
   ]
  },
  {
   "cell_type": "code",
   "execution_count": 52,
   "id": "2b7a4cd5-d6cd-44cc-9733-913c0e22e5c4",
   "metadata": {},
   "outputs": [
    {
     "name": "stdout",
     "output_type": "stream",
     "text": [
      "((0 0;0 1;-1 1;-2 1;-2 2;-2 1;-2 0;-1 0;0 0;-1 0)\n",
      " (0 0;0 0;0 0;-1 1;-1 1;-1 1;-1 1;-1 1;-1 1;-1 1)\n",
      " (0 0;0 0;0 0;0 0;0 0;0 0;0 0;0 0;0 0;0 0)\n",
      " (0 0;0 0;0 0;0 0;0 0;0 0;0 0;0 0;0 0;0 0))\n"
     ]
    }
   ],
   "source": [
    "(f/[;10#+x]@)'0 1 2 3\n"
   ]
  },
  {
   "cell_type": "markdown",
   "id": "cd87800c-c4b1-407b-af43-c539d9f82c38",
   "metadata": {},
   "source": [
    "`d\\/[2;l]` is going to do reduce `d` across `l`. and later, reduce `d` again across the result of the previous iteration.\n",
    "\n",
    "\n",
    "If we see `l` as a function of time, `l` (which is the same as `0d\\l`) is the places where the head goes through. It's like having a rope of size 0.\n",
    "\n",
    "The first iteration of `d\\l` carries the position of the tail of a rope of size 1.\n",
    "The first iteration of `d\\ d\\l` carries the position of the tail of a rope of size 2. Taking the position of the tail of the previous simulation as if it would be the head of another rope of size 1.\n",
    "\n",
    "My head still hurts. "
   ]
  }
 ],
 "metadata": {
  "kernelspec": {
   "display_name": "ngn/k",
   "language": "ngnk",
   "name": "ngnk"
  },
  "language_info": {
   "file_extension": ".k",
   "mimetype": "text/ngnk",
   "name": "ngnk"
  }
 },
 "nbformat": 4,
 "nbformat_minor": 5
}
