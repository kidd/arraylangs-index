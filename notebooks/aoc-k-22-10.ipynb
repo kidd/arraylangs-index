{
 "cells": [
  {
   "cell_type": "markdown",
   "id": "624a2b33-d4de-4821-ab95-9ab9f4c6117d",
   "metadata": {
    "tags": []
   },
   "source": [
    "# AOC 2022"
   ]
  },
  {
   "cell_type": "code",
   "execution_count": 220,
   "id": "ba89476b-e902-4dc7-8abf-e1e0ad2ee636",
   "metadata": {},
   "outputs": [
    {
     "name": "stdout",
     "output_type": "stream",
     "text": [
      "'io\n",
      "\n"
     ]
    }
   ],
   "source": [
    "\\cd notebooks"
   ]
  },
  {
   "cell_type": "markdown",
   "id": "453c2df9-abdd-4fe7-9c2d-267b1d8be0bc",
   "metadata": {
    "tags": []
   },
   "source": [
    "# Advent of Code 2022 - 10"
   ]
  },
  {
   "cell_type": "markdown",
   "id": "971a3646-689b-44ad-819f-1e213407554a",
   "metadata": {},
   "source": [
    "URL: https://adventofcode.com/2022/day/10"
   ]
  },
  {
   "cell_type": "markdown",
   "id": "2b81c797-26cf-4ce5-97c1-5706872068cf",
   "metadata": {},
   "source": [
    "We'll study ngn's [solution](https://codeberg.org/ngn/k/src/branch/master/aoc/22/10.k):"
   ]
  },
  {
   "cell_type": "markdown",
   "id": "24d5800f-732a-48bb-9e8e-88f3fafcbd7e",
   "metadata": {},
   "source": [
    "For this problem, there's a sort of simulation to do."
   ]
  },
  {
   "cell_type": "code",
   "execution_count": 141,
   "id": "7766759e-7c5b-49c5-89c7-a9006db4cc97",
   "metadata": {},
   "outputs": [
    {
     "name": "stdout",
     "output_type": "stream",
     "text": [
      "13820\n",
      "#### #  #  ##  ###  #  #  ##  ###  #  # \n",
      "   # # #  #  # #  # # #  #  # #  # # #  \n",
      "  #  ##   #    #  # ##   #    #  # ##   \n",
      " #   # #  # ## ###  # #  # ## ###  # #  \n",
      "#    # #  #  # # #  # #  #  # # #  # #  \n",
      "#### #  #  ### #  # #  #  ### #  # #  # \n"
     ]
    }
   ],
   "source": [
    "x:+\\1,(^:)_,/+0,,`I$5_'0:\"i/10\"\n",
    "+/i*x@-1+i:20+40*!-40!20+#x  /part1\n",
    "`0:\" #\"6 40#~-1 2'x-(#x)#!40 /part2"
   ]
  },
  {
   "cell_type": "markdown",
   "id": "388c0698-4100-4b90-98c4-2daba2136df7",
   "metadata": {},
   "source": [
    "Input lines look like the following"
   ]
  },
  {
   "cell_type": "code",
   "execution_count": 67,
   "id": "0d7ecd28-c196-47fd-b4aa-6de53f9b25fd",
   "metadata": {},
   "outputs": [
    {
     "name": "stdout",
     "output_type": "stream",
     "text": [
      "(\"addx 1\"\n",
      " \"noop\"\n",
      " \"addx 4\"\n",
      " \"noop\"\n",
      " \"noop\"\n",
      " \"addx 7\"\n",
      " \"noop\"\n",
      " \"noop\"\n",
      " \"noop\"\n",
      " \"addx 3\")\n"
     ]
    }
   ],
   "source": [
    "10#0:\"i/10\""
   ]
  },
  {
   "cell_type": "markdown",
   "id": "36131fd1-c1f3-43ba-a5d7-48bc0b138155",
   "metadata": {},
   "source": [
    "First, we get the inputs, and add some fillers for to account for the number of cycles of each instruction.\n",
    "\n",
    "Overall, we are adding a \"fake\" instruction inbetween each instruction, and then remove the lines assigned to noops. That's a quick way to 1 instruction per `noop`, and 2 per `addx`, so we have the correct number of cycles.\n",
    "\n",
    "The first line, decomposed, reads something like this (remember the right to left nature of k)\n",
    "\n",
    "- for each line\n",
    "- remove first 5 chars\n",
    "- cast to int\n",
    "- add a 0 inbetween each instruction. \n",
    "- transpose and flatten to a single list of numbers (or `0N` for noop lines)\n",
    "- delete the instruction lines corresponding to `noop`. \n",
    "- prepend a 1\n",
    "- sum-over all the lines"
   ]
  },
  {
   "cell_type": "code",
   "execution_count": 69,
   "id": "15822459-36e3-45a4-a986-cd72ac5349c0",
   "metadata": {},
   "outputs": [
    {
     "name": "stdout",
     "output_type": "stream",
     "text": [
      "0 1 0 0N 0 4 0 0N 0 0N 0 7 0 0N 0 0N 0 0N 0 3\n",
      "1 1 2 2 2 6 6 6 6 13 13 13 13 13 16\n"
     ]
    }
   ],
   "source": [
    ",/+0,,`I$5_'10#0:\"i/10\"\n",
    "+\\1,(^:)_,/+0,,`I$5_'10#0:\"i/10\""
   ]
  },
  {
   "cell_type": "code",
   "execution_count": 88,
   "id": "499a1fea-dd4a-423e-a960-6c36ab639769",
   "metadata": {},
   "outputs": [],
   "source": [
    "x:+\\1,(^:)_,/+0,,`I$5_'0:\"i/10\""
   ]
  },
  {
   "cell_type": "markdown",
   "id": "883d3ddc-ad55-441a-b7a1-12812b5a9b13",
   "metadata": {},
   "source": [
    "Now, part 1. we need to get the elements in positions 20th, 60th, 100th, 140th, 180th, and 220th. Also, we have to multiply each one of them by the number 20, 60, 100, 140, 180, and 220. "
   ]
  },
  {
   "cell_type": "code",
   "execution_count": 87,
   "id": "96d010de-767f-4da0-aa6b-441fda19190c",
   "metadata": {},
   "outputs": [
    {
     "name": "stdout",
     "output_type": "stream",
     "text": [
      "11820\n"
     ]
    }
   ],
   "source": [
    "+/i*x@-1+i:20+40*!-40!20+#x  /part1"
   ]
  },
  {
   "cell_type": "code",
   "execution_count": 66,
   "id": "9276916d-e8b5-4e63-ab4e-473a202c4140",
   "metadata": {},
   "outputs": [
    {
     "name": "stdout",
     "output_type": "stream",
     "text": [
      "11820\n"
     ]
    }
   ],
   "source": [
    "+/i*x@-1+i:20+40*!-40!20+#x "
   ]
  },
  {
   "cell_type": "markdown",
   "id": "4a3bddae-8ec8-4b44-93b6-ad9c1974d3b5",
   "metadata": {},
   "source": [
    "## Part 2 "
   ]
  },
  {
   "cell_type": "markdown",
   "id": "ef336b2c-950f-44cf-93b7-909e8785a666",
   "metadata": {},
   "source": [
    "We are unfolding this now, but the general idea is that every cicle we check a different pixel. At that cycle, we have to check which is the value of the register X, and if it's between the cycle number -1 and +1, it means that the pixel has to be lit."
   ]
  },
  {
   "cell_type": "markdown",
   "id": "dc6dc0b5-fef3-494c-a630-96af226dfc2e",
   "metadata": {},
   "source": [
    "To have a \"ruler\" to know which pixel are we looking at, at each point, we will use `reshape` and `int` to create a list of size #x, filled with numbers 0..39,0..39"
   ]
  },
  {
   "cell_type": "code",
   "execution_count": 147,
   "id": "ff36cdd0-d647-405d-a912-3557d2e301de",
   "metadata": {},
   "outputs": [
    {
     "name": "stdout",
     "output_type": "stream",
     "text": [
      "0 1 2 3 4 5 6 7 8 9 10 11 12 13 14 15 16 17 18 19 20 21 22 23 24 25 26 27 28 29 30 31 32 33 34 35 36 37 38 39 0 1 2 3 4 5 6 7 8 9 10 11 12 13 14 15 16 17 18 19 20 21 22 23 24 25 26 27 28 29 30 31 32 33 34 35 36 37 38 39 0 1 2 3 4 5 6 7 8 9 10 11 12 13 14 15 16 17 18 19 20 21 22 23 24 25 26 27 28 29 30 31 32 33 34 35 36 37 38 39 0 1 2 3 4 5 6 7 8 9 10 11 12 13 14 15 16 17 18 19 20 21 22 23 24 25 26 27 28 29 30 31 32 33 34 35 36 37 38 39 0 1 2 3 4 5 6 7 8 9 10 11 12 13 14 15 16 17 18 19 20 21 22 23 24 25 26 27 28 29 30 31 32 33 34 35 36 37 38 39 0 1 2 3 4 5 6 7 8 9 10 11 12 13 14 15 16 17 18 19 20 21 22 23 24 25 26 27 28 29 30 31 32 33 34 35 36 37 38 39 0\n"
     ]
    }
   ],
   "source": [
    "(#x)#!40"
   ]
  },
  {
   "cell_type": "markdown",
   "id": "e93a5233-bf02-4265-a768-0d076dcec12c",
   "metadata": {},
   "source": [
    "ngn uses binary search to check if the number is in the range. Here's an example of `'`"
   ]
  },
  {
   "cell_type": "code",
   "execution_count": 144,
   "id": "e45d5cae-89d5-493f-b60d-9c78a369539e",
   "metadata": {},
   "outputs": [
    {
     "name": "stdout",
     "output_type": "stream",
     "text": [
      "-2 -1 0 1 2 3 4 5 6 7\n",
      "-1 -1 0 0 0 1 1 1 1 1\n"
     ]
    }
   ],
   "source": [
    ":xx:(!10)-2\n",
    "0 3'xx"
   ]
  },
  {
   "cell_type": "markdown",
   "id": "a95f4918-7eda-4a50-b138-0e0ab2dc6a74",
   "metadata": {},
   "source": [
    "So, unifying both, we subtract the pixel position from `x` and use binary search to see if in each cycle, the X register is between x-1 and x+1."
   ]
  },
  {
   "cell_type": "code",
   "execution_count": 155,
   "id": "860f017a-0556-48b8-8624-1927a6b3f885",
   "metadata": {},
   "outputs": [
    {
     "name": "stdout",
     "output_type": "stream",
     "text": [
      "1 1 1 1 0 1 0 0 1 0 0 1 1 0 0 1 1 1 0 0 1 0 0 1 0 0 1 1 0 0 1 1 1 0 0 1 0 0 1 0 0 0 0 1 0 1 0 1 0 0 1 0 0 1 0 1 0 0 1 0 1 0 1 0 0 1 0 0 1 0 1 0 0 1 0 1 0 1 0 0 0 0 1 0 0 1 1 0 0 0 1 0 0 0 0 1 0 0 1 0 1 1 0 0 0 1 0 0 0 0 1 0 0 1 0 1 1 0 0 0 0 1 0 0 0 1 0 1 0 0 1 0 1 1 0 1 1 1 0 0 1 0 1 0 0 1 0 1 1 0 1 1 1 0 0 1 0 1 0 0 1 0 0 0 0 1 0 1 0 0 1 0 0 1 0 1 0 1 0 0 1 0 1 0 0 1 0 0 1 0 1 0 1 0 0 1 0 1 0 0 1 1 1 1 0 1 0 0 1 0 0 1 1 1 0 1 0 0 1 0 1 0 0 1 0 0 1 1 1 0 1 0 0 1 0 1 0 0 1 0 0\n"
     ]
    }
   ],
   "source": [
    "~-1 2'x-(#x)#!40"
   ]
  },
  {
   "cell_type": "markdown",
   "id": "7826ebd1-8520-4479-8e10-86c0440ffded",
   "metadata": {},
   "source": [
    "Reshape that to 6x40"
   ]
  },
  {
   "cell_type": "code",
   "execution_count": 157,
   "id": "3152ef4a-7d1b-47ef-b3a9-ca978bf56ad1",
   "metadata": {},
   "outputs": [
    {
     "name": "stdout",
     "output_type": "stream",
     "text": [
      "(1 1 1 1 0 1 0 0 1 0 0 1 1 0 0 1 1 1 0 0 1 0 0 1 0 0 1 1 0 0 1 1 1 0 0 1 0 0 1 0\n",
      " 0 0 0 1 0 1 0 1 0 0 1 0 0 1 0 1 0 0 1 0 1 0 1 0 0 1 0 0 1 0 1 0 0 1 0 1 0 1 0 0\n",
      " 0 0 1 0 0 1 1 0 0 0 1 0 0 0 0 1 0 0 1 0 1 1 0 0 0 1 0 0 0 0 1 0 0 1 0 1 1 0 0 0\n",
      " 0 1 0 0 0 1 0 1 0 0 1 0 1 1 0 1 1 1 0 0 1 0 1 0 0 1 0 1 1 0 1 1 1 0 0 1 0 1 0 0\n",
      " 1 0 0 0 0 1 0 1 0 0 1 0 0 1 0 1 0 1 0 0 1 0 1 0 0 1 0 0 1 0 1 0 1 0 0 1 0 1 0 0\n",
      " 1 1 1 1 0 1 0 0 1 0 0 1 1 1 0 1 0 0 1 0 1 0 0 1 0 0 1 1 1 0 1 0 0 1 0 1 0 0 1 0)\n"
     ]
    }
   ],
   "source": [
    "6 40#~-1 2'x-(#x)#!40"
   ]
  },
  {
   "cell_type": "markdown",
   "id": "3ff3d289-a4cf-417b-a06e-2b4bec4a7a4c",
   "metadata": {},
   "source": [
    "And replace 0s and 1s for \" \" and \"#\". Here we use just plain indexing on a string \" #\", so 0 will get spaces and 1 will get \"#\"."
   ]
  },
  {
   "cell_type": "code",
   "execution_count": 167,
   "id": "0ac3930a-f0d6-43c7-8ddc-ccc92616527e",
   "metadata": {},
   "outputs": [
    {
     "name": "stdout",
     "output_type": "stream",
     "text": [
      "#### #  #  ##  ###  #  #  ##  ###  #  # \n",
      "   # # #  #  # #  # # #  #  # #  # # #  \n",
      "  #  ##   #    #  # ##   #    #  # ##   \n",
      " #   # #  # ## ###  # #  # ## ###  # #  \n",
      "#    # #  #  # # #  # #  #  # # #  # #  \n",
      "#### #  #  ### #  # #  #  ### #  # #  # \n"
     ]
    }
   ],
   "source": [
    "`0:\" #\"6 40#~-1 2'x-(#x)#!40"
   ]
  }
 ],
 "metadata": {
  "kernelspec": {
   "display_name": "ngn/k",
   "language": "ngnk",
   "name": "ngnk"
  },
  "language_info": {
   "file_extension": ".k",
   "mimetype": "text/ngnk",
   "name": "ngnk"
  }
 },
 "nbformat": 4,
 "nbformat_minor": 5
}
