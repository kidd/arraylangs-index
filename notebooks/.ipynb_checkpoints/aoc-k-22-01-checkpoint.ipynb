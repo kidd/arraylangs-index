{
 "cells": [
  {
   "cell_type": "markdown",
   "id": "624a2b33-d4de-4821-ab95-9ab9f4c6117d",
   "metadata": {
    "tags": []
   },
   "source": [
    "# AOC 2022"
   ]
  },
  {
   "cell_type": "code",
   "execution_count": 21,
   "id": "ba89476b-e902-4dc7-8abf-e1e0ad2ee636",
   "metadata": {},
   "outputs": [
    {
     "name": "stdout",
     "output_type": "stream",
     "text": [
      "'io\n",
      "\n"
     ]
    }
   ],
   "source": [
    "\\cd notebooks"
   ]
  },
  {
   "cell_type": "markdown",
   "id": "453c2df9-abdd-4fe7-9c2d-267b1d8be0bc",
   "metadata": {
    "tags": []
   },
   "source": [
    "## Advent of Code 2022 - 01"
   ]
  },
  {
   "cell_type": "markdown",
   "id": "971a3646-689b-44ad-819f-1e213407554a",
   "metadata": {},
   "source": [
    "URL: https://adventofcode.com/2022/day/1"
   ]
  },
  {
   "cell_type": "markdown",
   "id": "2b81c797-26cf-4ce5-97c1-5706872068cf",
   "metadata": {},
   "source": [
    "We'll study ngn's [solution](https://codeberg.org/ngn/k/src/branch/master/aoc/22/01.k):"
   ]
  },
  {
   "cell_type": "code",
   "execution_count": 4,
   "id": "089e6bc6-38d6-4166-babf-b19ebfe6a752",
   "metadata": {},
   "outputs": [
    {
     "name": "stdout",
     "output_type": "stream",
     "text": [
      "70296\n",
      "205381\n"
     ]
    }
   ],
   "source": [
    "x@:3#>x:+/'1_'(&^x)_x:0N,`I$0:\"i/01\"\n",
    "*x  /part1\n",
    "+/x /part2"
   ]
  },
  {
   "cell_type": "markdown",
   "id": "8875daf0-82ae-4ac8-80eb-3c36d57b2914",
   "metadata": {},
   "source": [
    "We'll go step by step, trying to explain the approach, and some of the primitives, but I'm assuming you're familiar with the right-to-left evaluation of `k`, and you've some knowledge of the primitives."
   ]
  },
  {
   "cell_type": "markdown",
   "id": "4946bc97-0740-4c66-b761-9b49519d318d",
   "metadata": {},
   "source": [
    "First, read the file and cast it to integers.\n",
    "\n",
    "Read `i/01` file (`0:\"i/01\"`) and cast the content to integers (``` `I$```).\n",
    "\n",
    "We might take the first N elements (`30#`) just to truncate the output (but that's not part of the solution)"
   ]
  },
  {
   "cell_type": "code",
   "execution_count": 5,
   "id": "6b5a458d-52f5-4f4e-a08b-c37aaf3fb1fe",
   "metadata": {},
   "outputs": [
    {
     "name": "stdout",
     "output_type": "stream",
     "text": [
      "4323 4004 4070 1780 5899 1912 2796 5743 3008 1703 4870 5048 2485 1204 0N 30180 0N 33734 19662 0N 2402 4395 2703 1562 2407 3393 4311 1314 2729 2225\n"
     ]
    }
   ],
   "source": [
    "30#`I$0:\"i/01\""
   ]
  },
  {
   "cell_type": "markdown",
   "id": "7354c191-fb20-4f45-8530-bc4b23a3cfbc",
   "metadata": {},
   "source": [
    "Some nulls over there. Those are the blank lines. \n",
    "\n",
    "Prepend a null, so each paragraph starts with a `0N`"
   ]
  },
  {
   "cell_type": "code",
   "execution_count": 6,
   "id": "9f399ca1-2c9a-48e7-a730-0e064d330db3",
   "metadata": {},
   "outputs": [
    {
     "name": "stdout",
     "output_type": "stream",
     "text": [
      "0N 4323 4004 4070 1780 5899 1912 2796 5743 3008 1703 4870 5048 2485 1204 0N 30180 0N 33734 19662 0N 2402 4395 2703 1562 2407 3393 4311 1314 2729\n"
     ]
    }
   ],
   "source": [
    "30#0N,`I$0:\"i/01\""
   ]
  },
  {
   "cell_type": "markdown",
   "id": "4012acc9-875b-434d-87b3-9dc11cde4a8f",
   "metadata": {},
   "source": [
    "Assign x to this value"
   ]
  },
  {
   "cell_type": "code",
   "execution_count": 7,
   "id": "fea3d44d-402b-40d3-b0d8-3eb84ee0cc5a",
   "metadata": {},
   "outputs": [],
   "source": [
    "x:0N,`I$0:\"i/01\""
   ]
  },
  {
   "cell_type": "markdown",
   "id": "9d399dbf-47bd-461e-90ee-5b7f2034825c",
   "metadata": {},
   "source": [
    "Next is to split the big list by nulls."
   ]
  },
  {
   "cell_type": "code",
   "execution_count": 8,
   "id": "d0eb6fcf-5293-4fee-a015-b4b77c836be0",
   "metadata": {},
   "outputs": [
    {
     "name": "stdout",
     "output_type": "stream",
     "text": [
      "(0N 4323 4004 4070 1780 5899 1912 2796 5743 3008 1703 4870 5048 2485 1204\n",
      " 0N 30180\n",
      " 0N 33734 19662\n",
      " 0N 2402 4395 2703 1562 2407 3393 4311 1314 2729 2225 4420 4136 2867 1032 2095\n",
      " 0N 7366 3496 6177 1426 4750 2655 3194 4240 4024 3510 2606 2335)\n"
     ]
    }
   ],
   "source": [
    "5#(&^x)_x"
   ]
  },
  {
   "cell_type": "markdown",
   "id": "ae8ebebe-bb09-4eaf-b623-37f8cd59c9c6",
   "metadata": {},
   "source": [
    "Here's the detail of how we get there:\n",
    "\n",
    "l_x is `cut`, where you chunk x in the indices indicated by `l`.\n",
    "\n",
    "First of all, get 1s for `0N`s and 0s for non `0N`."
   ]
  },
  {
   "cell_type": "code",
   "execution_count": 9,
   "id": "75394761-c2c3-4501-a008-55bedc853755",
   "metadata": {
    "tags": []
   },
   "outputs": [
    {
     "name": "stdout",
     "output_type": "stream",
     "text": [
      "1 0 0 0 0 0 0 0 0 0 0 0 0 0 0 1 0 1 0 0 1 0 0 0 0 0 0 0 0 0\n"
     ]
    }
   ],
   "source": [
    "30#^x"
   ]
  },
  {
   "cell_type": "markdown",
   "id": "25cf8432-0bf8-4b16-9eca-ae86b8e3e951",
   "metadata": {},
   "source": [
    "Transform the bitmask to a list of indices where there are the `1`s.  \n",
    "That means that `(&^x)` gives us the indices to use for `cut`ting."
   ]
  },
  {
   "cell_type": "code",
   "execution_count": 13,
   "id": "c5b3d723-ed3d-4687-b8cc-94f3871f5637",
   "metadata": {},
   "outputs": [
    {
     "name": "stdout",
     "output_type": "stream",
     "text": [
      "0 15 17 20 36\n"
     ]
    }
   ],
   "source": [
    "5# &^x"
   ]
  },
  {
   "cell_type": "markdown",
   "id": "6350d3dd-4692-4f3e-88db-bb43db8a3581",
   "metadata": {},
   "source": [
    "And we pass that as cut points to `cut`. "
   ]
  },
  {
   "cell_type": "code",
   "execution_count": 14,
   "id": "fc55dda0-4f6c-4f27-b432-27ab66501b27",
   "metadata": {},
   "outputs": [
    {
     "name": "stdout",
     "output_type": "stream",
     "text": [
      "(0N 4323 4004 4070 1780 5899 1912 2796 5743 3008 1703 4870 5048 2485 1204\n",
      " 0N 30180\n",
      " 0N 33734 19662\n",
      " 0N 2402 4395 2703 1562 2407 3393 4311 1314 2729 2225 4420 4136 2867 1032 2095\n",
      " 0N 7366 3496 6177 1426 4750 2655 3194 4240 4024 3510 2606 2335)\n"
     ]
    }
   ],
   "source": [
    "5# (&^x)_x"
   ]
  },
  {
   "cell_type": "markdown",
   "id": "a7261dc5-ac5a-4caa-ab2d-89fe7321382c",
   "metadata": {},
   "source": [
    "For each of those, drop the first element (the `0N`)"
   ]
  },
  {
   "cell_type": "code",
   "execution_count": 15,
   "id": "cca6d458-8fb8-4d96-95be-6941605f1a32",
   "metadata": {},
   "outputs": [
    {
     "name": "stdout",
     "output_type": "stream",
     "text": [
      "(4323 4004 4070 1780 5899 1912 2796 5743 3008 1703 4870 5048 2485 1204\n",
      " ,30180\n",
      " 33734 19662\n",
      " 2402 4395 2703 1562 2407 3393 4311 1314 2729 2225 4420 4136 2867 1032 2095\n",
      " 7366 3496 6177 1426 4750 2655 3194 4240 4024 3510 2606 2335)\n"
     ]
    }
   ],
   "source": [
    "5# 1_'(&^x)_x"
   ]
  },
  {
   "cell_type": "markdown",
   "id": "c836411b-b037-4b32-81c3-6a7992ee48bc",
   "metadata": {},
   "source": [
    "For each of the paragraphs sum them"
   ]
  },
  {
   "cell_type": "code",
   "execution_count": 16,
   "id": "ae50e315-e831-434a-bfad-a901a9f6b2a2",
   "metadata": {},
   "outputs": [
    {
     "name": "stdout",
     "output_type": "stream",
     "text": [
      "48845 30180 53396 41991 45779\n"
     ]
    }
   ],
   "source": [
    "5# +/'1_'(&^x)_x"
   ]
  },
  {
   "cell_type": "markdown",
   "id": "8a1badab-9e14-495a-9f8f-c353ab9ce9bb",
   "metadata": {},
   "source": [
    "And get the first 3.  This is done with `desc` (`>`) which returns the indices of the descendingly sorted elements. We assign the list to the `xx` variable, so we can reuse it a bit after , indexing by the first 3 elements of the return list of `desc` (`xx@3#>xx:...`)  "
   ]
  },
  {
   "cell_type": "code",
   "execution_count": 178,
   "id": "be2def9f-9f96-49f0-8c0c-0a1d8c916a61",
   "metadata": {},
   "outputs": [
    {
     "name": "stdout",
     "output_type": "stream",
     "text": [
      "70296 68707 66378\n"
     ]
    }
   ],
   "source": [
    "xx@3#>xx:+/'1_'(&^x)_x"
   ]
  },
  {
   "cell_type": "markdown",
   "id": "9f5b5883-09e8-4f97-84ce-7d5e5e0f411f",
   "metadata": {},
   "source": [
    "Part 1 is to get the biggest one, which is the first"
   ]
  },
  {
   "cell_type": "code",
   "execution_count": 179,
   "id": "bc96c9c0-177b-4265-bcf5-73ba53c8ff29",
   "metadata": {},
   "outputs": [
    {
     "name": "stdout",
     "output_type": "stream",
     "text": [
      "48845\n"
     ]
    }
   ],
   "source": [
    "*xx  /part1"
   ]
  },
  {
   "cell_type": "markdown",
   "id": "8b8e89f1-6ddb-4c8b-8ad5-50906d279dcb",
   "metadata": {},
   "source": [
    "Part 2 is the sum of the first 3"
   ]
  },
  {
   "cell_type": "code",
   "execution_count": 86,
   "id": "51a3e275-513e-4d9e-b315-6ebd1d84de72",
   "metadata": {},
   "outputs": [
    {
     "name": "stdout",
     "output_type": "stream",
     "text": [
      "11315840\n"
     ]
    }
   ],
   "source": [
    "+/xx /part2"
   ]
  },
  {
   "cell_type": "markdown",
   "id": "6fb152bc-2496-40c0-b199-f98d670d40ff",
   "metadata": {},
   "source": [
    "## 02"
   ]
  },
  {
   "cell_type": "code",
   "execution_count": null,
   "id": "f4f197ba-4070-4e2c-851f-b40c20842a13",
   "metadata": {},
   "outputs": [],
   "source": []
  }
 ],
 "metadata": {
  "kernelspec": {
   "display_name": "ngn/k",
   "language": "ngnk",
   "name": "ngnk"
  },
  "language_info": {
   "file_extension": ".k",
   "mimetype": "text/ngnk",
   "name": "ngnk"
  }
 },
 "nbformat": 4,
 "nbformat_minor": 5
}
