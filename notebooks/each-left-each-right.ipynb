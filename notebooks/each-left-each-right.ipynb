{
 "cells": [
  {
   "cell_type": "markdown",
   "id": "624a2b33-d4de-4821-ab95-9ab9f4c6117d",
   "metadata": {
    "tags": []
   },
   "source": [
    "# Eachleft-eachright"
   ]
  },
  {
   "cell_type": "code",
   "execution_count": 220,
   "id": "ba89476b-e902-4dc7-8abf-e1e0ad2ee636",
   "metadata": {},
   "outputs": [
    {
     "name": "stdout",
     "output_type": "stream",
     "text": [
      "'io\n",
      "\n"
     ]
    }
   ],
   "source": [
    "\\cd notebooks"
   ]
  },
  {
   "cell_type": "markdown",
   "id": "bc095239-06fc-4b27-a174-e0c3d840c7c2",
   "metadata": {},
   "source": [
    "Ok we're going to follow https://stackoverflow.com/questions/44051035/understanding-how-to-read-each-right-and-each-left-combined-in-kdb"
   ]
  },
  {
   "cell_type": "code",
   "execution_count": 2,
   "id": "9a4ee41e-c5aa-4efe-afc1-8eba28b4a0d1",
   "metadata": {},
   "outputs": [
    {
     "name": "stdout",
     "output_type": "stream",
     "text": [
      "((0 0;1 0;2 0;3 0;4 0;5 0;6 0;7 0;8 0;9 0)\n",
      " (0 1;1 1;2 1;3 1;4 1;5 1;6 1;7 1;8 1;9 1)\n",
      " (0 2;1 2;2 2;3 2;4 2;5 2;6 2;7 2;8 2;9 2)\n",
      " (0 3;1 3;2 3;3 3;4 3;5 3;6 3;7 3;8 3;9 3)\n",
      " (0 4;1 4;2 4;3 4;4 4;5 4;6 4;7 4;8 4;9 4)\n",
      " (0 5;1 5;2 5;3 5;4 5;5 5;6 5;7 5;8 5;9 5)\n",
      " (0 6;1 6;2 6;3 6;4 6;5 6;6 6;7 6;8 6;9 6)\n",
      " (0 7;1 7;2 7;3 7;4 7;5 7;6 7;7 7;8 7;9 7)\n",
      " (0 8;1 8;2 8;3 8;4 8;5 8;6 8;7 8;8 8;9 8)\n",
      " (0 9;1 9;2 9;3 9;4 9;5 9;6 9;7 9;8 9;9 9))\n"
     ]
    }
   ],
   "source": [
    "x,\\:/:x:!10"
   ]
  },
  {
   "cell_type": "code",
   "execution_count": 1,
   "id": "3f760af0-fc97-4290-a77c-fd663f2de89b",
   "metadata": {},
   "outputs": [
    {
     "name": "stdout",
     "output_type": "stream",
     "text": [
      "((0 0;1 0;2 0;3 0;4 0;5 0;6 0;7 0;8 0;9 0)\n",
      " (0 1;1 1;2 1;3 1;4 1;5 1;6 1;7 1;8 1;9 1)\n",
      " (0 2;1 2;2 2;3 2;4 2;5 2;6 2;7 2;8 2;9 2)\n",
      " (0 3;1 3;2 3;3 3;4 3;5 3;6 3;7 3;8 3;9 3)\n",
      " (0 4;1 4;2 4;3 4;4 4;5 4;6 4;7 4;8 4;9 4)\n",
      " (0 5;1 5;2 5;3 5;4 5;5 5;6 5;7 5;8 5;9 5)\n",
      " (0 6;1 6;2 6;3 6;4 6;5 6;6 6;7 6;8 6;9 6)\n",
      " (0 7;1 7;2 7;3 7;4 7;5 7;6 7;7 7;8 7;9 7)\n",
      " (0 8;1 8;2 8;3 8;4 8;5 8;6 8;7 8;8 8;9 8)\n",
      " (0 9;1 9;2 9;3 9;4 9;5 9;6 9;7 9;8 9;9 9))\n"
     ]
    }
   ],
   "source": [
    "x,\\:/:x:!10"
   ]
  },
  {
   "cell_type": "markdown",
   "id": "d2d2992f-b47c-4559-9854-e439417b4426",
   "metadata": {},
   "source": [
    "There's an idiom to match open and closing parens:"
   ]
  },
  {
   "cell_type": "code",
   "execution_count": 2,
   "id": "1fc178a1-2df4-4a78-bf6e-2238ea44cb3d",
   "metadata": {},
   "outputs": [
    {
     "name": "stdout",
     "output_type": "stream",
     "text": [
      "0 1 1 1 1 2 2 2 2 2 2 2 1 0\n"
     ]
    }
   ],
   "source": [
    "+\\-/\"{}\"=\\:\"o{joe{ahools}}\""
   ]
  },
  {
   "cell_type": "markdown",
   "id": "2927fd0f-7cb5-4548-ae20-85a1ae6debd9",
   "metadata": {},
   "source": [
    "I thought about how to, given this result, guess where are the open and where the closing. We have to run both `<` and `>` on each pair of numbers.\n",
    "\n",
    "For that, there has to be something with stencil, and passing each pair to both functions.\n",
    "\n",
    "I visited tacitjk to refresh me on k trains, and found out that:\n",
    "\n",
    "`(fhg) => h/(f;g)@\\`\n",
    "\n",
    "That way, "
   ]
  },
  {
   "cell_type": "code",
   "execution_count": 33,
   "id": "5205bb17-1716-4ea5-84b4-07db0544a7f0",
   "metadata": {},
   "outputs": [
    {
     "name": "stdout",
     "output_type": "stream",
     "text": [
      "(((!0)<;(!0)>)\n",
      " ((!0)<;(!0)>)\n",
      " ((!0)<;(!0)>)\n",
      " ((!0)<;(!0)>)\n",
      " ((!0)<;(!0)>)\n",
      " ((!0)<;(!0)>)\n",
      " ((!0)<;(!0)>)\n",
      " ((!0)<;(!0)>)\n",
      " ((!0)<;(!0)>)\n",
      " ((!0)<;(!0)>)\n",
      " ((!0)<;(!0)>)\n",
      " ((!0)<;(!0)>)\n",
      " ((!0)<;(!0)>)\n",
      " ((!0)<;(!0)>)\n",
      " ((!0)<;(!0)>))\n"
     ]
    }
   ],
   "source": [
    "ff:(,/(<;>)@\\:)\n",
    "\n",
    "0 (ff)':+\\-/\"{}\"=\\:\"o{joe{ahools}}\""
   ]
  }
 ],
 "metadata": {
  "kernelspec": {
   "display_name": "ngn/k",
   "language": "ngnk",
   "name": "ngnk"
  },
  "language_info": {
   "file_extension": ".k",
   "mimetype": "text/ngnk",
   "name": "ngnk"
  }
 },
 "nbformat": 4,
 "nbformat_minor": 5
}
