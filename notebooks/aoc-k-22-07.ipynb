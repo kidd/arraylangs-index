{
 "cells": [
  {
   "cell_type": "markdown",
   "id": "624a2b33-d4de-4821-ab95-9ab9f4c6117d",
   "metadata": {
    "tags": []
   },
   "source": [
    "# AOC 2022"
   ]
  },
  {
   "cell_type": "code",
   "execution_count": 220,
   "id": "ba89476b-e902-4dc7-8abf-e1e0ad2ee636",
   "metadata": {},
   "outputs": [
    {
     "name": "stdout",
     "output_type": "stream",
     "text": [
      "'io\n",
      "\n"
     ]
    }
   ],
   "source": [
    "\\cd notebooks"
   ]
  },
  {
   "cell_type": "markdown",
   "id": "453c2df9-abdd-4fe7-9c2d-267b1d8be0bc",
   "metadata": {
    "tags": []
   },
   "source": [
    "# Advent of Code 2022 - 07"
   ]
  },
  {
   "cell_type": "markdown",
   "id": "971a3646-689b-44ad-819f-1e213407554a",
   "metadata": {},
   "source": [
    "URL: https://adventofcode.com/2022/day/7"
   ]
  },
  {
   "cell_type": "markdown",
   "id": "2b81c797-26cf-4ce5-97c1-5706872068cf",
   "metadata": {},
   "source": [
    "We'll study ngn's [solution](https://codeberg.org/ngn/k/src/branch/master/aoc/22/07.k):"
   ]
  },
  {
   "cell_type": "code",
   "execution_count": 173,
   "id": "35008341-96b7-40e4-8f4d-501c557d8eeb",
   "metadata": {},
   "outputs": [
    {
     "name": "stdout",
     "output_type": "stream",
     "text": [
      "1642503\n",
      "6999588\n"
     ]
    }
   ],
   "source": [
    "x:0:\"i/07\"\n",
    "s:,0 /stack: current sizes of ancestors of current directory\n",
    "t:!0 /total sizes of already visited directories\n",
    "/ {$[\"$ cd ..\"~x;[t,:-1#s;s::-1_s]\n",
    "/   \"$ cd /\" ~x;[t,: 1_s;s:: 1#s]\n",
    "/   \"$ cd \"~5#x;s,:0\n",
    "/   ~\"0:\"'*x;s+:.*\" \"\\x]}'x;\n",
    "\n",
    "{$[\"$ cd ..\"~x;[t,:-1#s;s::-1_s] ; \"$ cd /\" ~x;[t,: 1_s;s:: 1#s];\"$ cd \"~5#x;s,:0;~\"0:\"'*x;s+:.*\" \"\\x]}'x;\n",
    "\n",
    "t,:s\n",
    "+/(1e5>)#t       /part1\n",
    "&/((-4e7+*s)>)_t /part2"
   ]
  },
  {
   "cell_type": "markdown",
   "id": "6e71cd3b-a599-44eb-b5e4-5e13255562e0",
   "metadata": {},
   "source": [
    "The same as in day2, we encounter the issue in jupyter notebooks where multiline statements are not correctly parsed.\n",
    "\n",
    "In this case, there's our first conditional statement ever, that ngn writes in a multiline fashion, but we can't experiment in the repl.\n",
    "\n",
    "This challenge revolves around accumulating sizes of partial paths, with simulated files and directories.\n",
    "\n",
    "First the easy 3 lines: \n",
    "\n",
    "- Read input file\n",
    "- `s` is a list with `0`\n",
    "- `t` is `!0`"
   ]
  },
  {
   "cell_type": "code",
   "execution_count": 7,
   "id": "73af0487-acf8-429f-b665-7ad53db34f2d",
   "metadata": {},
   "outputs": [],
   "source": [
    "x:0:\"i/07\"\n",
    "s:,0 /stack: current sizes of ancestors of current directory\n",
    "t:!0 /total sizes of already visited directories"
   ]
  },
  {
   "cell_type": "markdown",
   "id": "d342906a-744a-4183-803d-23a05b396c5b",
   "metadata": {},
   "source": [
    "Worth mentioning that the solution here relies on one fact about the data, that is not explicit in the challenge, but it's true in all inputs: The directories are only visited once. There won't be `ls`s repeatedly thrown to the same directories.\n",
    "\n",
    "That makes this solution viable, as it blindly pushes results to `t` on each `cd ..` or `cd /`."
   ]
  },
  {
   "cell_type": "markdown",
   "id": "2060b1d7-aad4-415e-a01e-a54f279e32cb",
   "metadata": {},
   "source": [
    "Now the conditional. Conditionals in k behave like Lisp's `cond`: There's an indefinite number of pairs of expressions `$[e1;e2;e3;e4;....e2n]`.\n",
    "\n",
    "`e1` is evaluated, and if true, `e2` is evaluated and the conditional returns the result of `e2` as its result. Else, `e3` is evaluated, and if true `e4` is returned...\n",
    "\n",
    "If the number of expressions is odd, the last one works like a final `else`.\n",
    "\n",
    "Foreach line `'x`, run through the lambda that contains a single cond:\n",
    "If the line looks like a \"cd ..\", evaluate `[t,:-1#s;s::-1_s]`. See that we can evaluate multiple expressions as one by putting them in square brackets.\n",
    "`[t,:-1#s;s::-1_s]` is 2 statements: `t,:-1#s` ammends t to copy the last element of `s` to be the last element of t, and then, ammend s to remove that last element.\n"
   ]
  },
  {
   "cell_type": "code",
   "execution_count": 17,
   "id": "057045ed-fda4-433c-8449-20e833b93d0a",
   "metadata": {},
   "outputs": [
    {
     "name": "stdout",
     "output_type": "stream",
     "text": [
      "0 3\n",
      "1 2 3\n",
      "1 2\n"
     ]
    }
   ],
   "source": [
    "t:,0\n",
    "s:1 2 3\n",
    ":t,:-1#s\n",
    "s\n",
    ":s:-1_s"
   ]
  },
  {
   "cell_type": "markdown",
   "id": "280a773d-a061-4ab0-8370-023405434066",
   "metadata": {},
   "source": [
    "The second condition, `\"$ cd /\" ~x;[t,: 1_s;s:: 1#s]`.\n",
    "If the line is \"cd /\", then push all but the first element of s to the end of t"
   ]
  },
  {
   "cell_type": "code",
   "execution_count": 19,
   "id": "37a01345-18e9-4c54-bca6-b2f6feabd755",
   "metadata": {},
   "outputs": [
    {
     "name": "stdout",
     "output_type": "stream",
     "text": [
      "0 2 3\n",
      "1 2 3\n"
     ]
    }
   ],
   "source": [
    "t:,0\n",
    "s:1 2 3\n",
    ":t,:1_s\n",
    "s"
   ]
  },
  {
   "cell_type": "markdown",
   "id": "4b603084-7d85-43ce-90ab-33c77fb7247e",
   "metadata": {},
   "source": [
    "Third: `\"$ cd \"~5#x;s,:0`. If the input matches `cd something`, put a 0 at the end of s."
   ]
  },
  {
   "cell_type": "markdown",
   "id": "5d3f0ed0-01a6-4ec9-94d7-5f598d082e67",
   "metadata": {},
   "source": [
    "And the last one, that ties things together: `~\"0:\"'*x;s+:.*\" \"\\x`.\n",
    "\n",
    "This one uses the `'` form of `bin`, which will return 0 if the first character of the line is a number, or 1 if it's a letter. It negates the result to only get `true` if the first character is a number."
   ]
  },
  {
   "cell_type": "code",
   "execution_count": 124,
   "id": "3d2d3d3d-da94-4635-b5ce-851c7e95ca03",
   "metadata": {},
   "outputs": [
    {
     "name": "stdout",
     "output_type": "stream",
     "text": [
      "0 0 0 1 1 1\n"
     ]
    }
   ],
   "source": [
    "\"0:\"'*'\"121dsa\""
   ]
  },
  {
   "cell_type": "markdown",
   "id": "d8b09870-e80e-49a1-83cd-0ec9a1fbe0f0",
   "metadata": {},
   "source": [
    "In that case, we add to each element of s `s+:` the `eval` of the first word of the line `*\" \"\\x`."
   ]
  },
  {
   "cell_type": "code",
   "execution_count": null,
   "id": "862bfc41-6b41-4477-85ae-62560120bb36",
   "metadata": {},
   "outputs": [],
   "source": [
    "s+:.*\" \"\\x"
   ]
  },
  {
   "cell_type": "markdown",
   "id": "09268e44-4e58-4240-a7fd-8260085abdba",
   "metadata": {},
   "source": [
    "Then, the solution for part1 is to `filter` the directories smaller than 10e5."
   ]
  },
  {
   "cell_type": "code",
   "execution_count": 140,
   "id": "9ebbb049-9759-4f8c-aeef-c1e2adde357f",
   "metadata": {},
   "outputs": [
    {
     "name": "stdout",
     "output_type": "stream",
     "text": [
      "1182909\n"
     ]
    }
   ],
   "source": [
    "+/(1e5>)#t       /part1"
   ]
  },
  {
   "cell_type": "markdown",
   "id": "a7dd2da3-08e0-4185-be11-c8f3b7654c24",
   "metadata": {},
   "source": [
    "For part 2, we should find the smallest directory that lets us free 40000000"
   ]
  },
  {
   "cell_type": "code",
   "execution_count": 161,
   "id": "12d2f049-307b-4fe4-a579-9b7cdd108aff",
   "metadata": {},
   "outputs": [
    {
     "name": "stdout",
     "output_type": "stream",
     "text": [
      "6999588\n"
     ]
    }
   ],
   "source": [
    "&/((-4e7+*s)>)_t /part2"
   ]
  },
  {
   "cell_type": "markdown",
   "id": "abefd33b-1133-4850-8279-3f4fd0cad5cf",
   "metadata": {},
   "source": [
    "We use `filter-out`, which is the opposite of `filter`. Our filter predicate here is the total used size of our filesystem size (`*s`) minus of 4e7"
   ]
  },
  {
   "cell_type": "code",
   "execution_count": 170,
   "id": "ea7a9909-3dd7-4a6d-92a8-45f89dd065f7",
   "metadata": {},
   "outputs": [
    {
     "name": "stdout",
     "output_type": "stream",
     "text": [
      "46592386\n",
      "-40000000.0\n",
      "6592386.0\n"
     ]
    }
   ],
   "source": [
    "*s /total used size (the size of the root dir)\n",
    "-4e7 / 40000000 needed for the upgrade\n",
    "-4e7+*s / space we need to recover"
   ]
  },
  {
   "cell_type": "code",
   "execution_count": 172,
   "id": "dd22f789-7d48-490c-9d9f-355f4b7e65e7",
   "metadata": {},
   "outputs": [
    {
     "name": "stdout",
     "output_type": "stream",
     "text": [
      "8877344 9893050 17187447 22022022 6999588 7756031 46592386 18070237\n",
      "8877344 9893050 17187447 22022022 6999588 7756031 46592386 18070237\n"
     ]
    }
   ],
   "source": [
    "((-4e7+*s)>)_t  /filter out the numbers that are less than this\n",
    "((-4e7+*s)<)#t  /same, but using filter"
   ]
  },
  {
   "cell_type": "markdown",
   "id": "846fcd8f-a654-4c4e-981b-7f338a4d8b7c",
   "metadata": {},
   "source": [
    "We take the minimum with `&/`, giving us the final solution for part 2"
   ]
  }
 ],
 "metadata": {
  "kernelspec": {
   "display_name": "ngn/k",
   "language": "ngnk",
   "name": "ngnk"
  },
  "language_info": {
   "file_extension": ".k",
   "mimetype": "text/ngnk",
   "name": "ngnk"
  }
 },
 "nbformat": 4,
 "nbformat_minor": 5
}
