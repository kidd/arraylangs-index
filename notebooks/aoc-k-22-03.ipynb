{
 "cells": [
  {
   "cell_type": "markdown",
   "id": "624a2b33-d4de-4821-ab95-9ab9f4c6117d",
   "metadata": {
    "tags": []
   },
   "source": [
    "# AOC 2022"
   ]
  },
  {
   "cell_type": "code",
   "execution_count": 207,
   "id": "ba89476b-e902-4dc7-8abf-e1e0ad2ee636",
   "metadata": {},
   "outputs": [
    {
     "name": "stdout",
     "output_type": "stream",
     "text": [
      "'io\n",
      "\n"
     ]
    }
   ],
   "source": [
    "\\cd notebooks"
   ]
  },
  {
   "cell_type": "markdown",
   "id": "453c2df9-abdd-4fe7-9c2d-267b1d8be0bc",
   "metadata": {
    "tags": []
   },
   "source": [
    "# Advent of Code 2022 - 03"
   ]
  },
  {
   "cell_type": "markdown",
   "id": "971a3646-689b-44ad-819f-1e213407554a",
   "metadata": {},
   "source": [
    "URL: https://adventofcode.com/2022/day/3"
   ]
  },
  {
   "cell_type": "markdown",
   "id": "2b81c797-26cf-4ce5-97c1-5706872068cf",
   "metadata": {},
   "source": [
    "We'll study ngn's [solution](https://codeberg.org/ngn/k/src/branch/master/aoc/22/03.k):"
   ]
  },
  {
   "cell_type": "code",
   "execution_count": 208,
   "id": "35008341-96b7-40e4-8f4d-501c557d8eeb",
   "metadata": {},
   "outputs": [
    {
     "name": "stdout",
     "output_type": "stream",
     "text": [
      "7845\n",
      "2790\n"
     ]
    }
   ],
   "source": [
    "x:58!-96+0:\"i/03\"\n",
    "f:+/(*>&/@[&53;;:;1]')'\n",
    "f 2 0N#/:x /part1\n",
    "f 0N 3#x   /part2"
   ]
  },
  {
   "cell_type": "markdown",
   "id": "4946bc97-0740-4c66-b761-9b49519d318d",
   "metadata": {},
   "source": [
    "We first read the input. Read the list of strings, and subtract 96 (\"a\") to each character. Uppercase letters will be negative, and lowercase positive:"
   ]
  },
  {
   "cell_type": "code",
   "execution_count": 258,
   "id": "6e32a1c7-4a9d-457c-838a-66bf0f528d36",
   "metadata": {},
   "outputs": [
    {
     "name": "stdout",
     "output_type": "stream",
     "text": [
      "-31 -30 -29 -8 -7 -6 1 2 3 24 25 26\n"
     ]
    }
   ],
   "source": [
    "-96+\"ABCXYZabcxyz\""
   ]
  },
  {
   "cell_type": "code",
   "execution_count": 253,
   "id": "1445a066-4f8b-40ae-9207-e5e6ee6e3a2e",
   "metadata": {},
   "outputs": [
    {
     "name": "stdout",
     "output_type": "stream",
     "text": [
      "\"ABCXYZabcxyz\"\n",
      "65 66 67 88 89 90 97 98 99 120 121 122\n",
      "-31 -30 -29 -8 -7 -6 1 2 3 24 25 26\n"
     ]
    }
   ],
   "source": [
    ":y:\"ABCXYZabcxyz\"\n",
    "0+y\n",
    ":y:-96+y"
   ]
  },
  {
   "cell_type": "markdown",
   "id": "5cb8382f-1a61-4f71-bae3-f524a6a6cfa9",
   "metadata": {},
   "source": [
    "At this point, it's worth remembering that the modulus of a negative number is always positive, and it's (to make it easy to understand) the first positive (or 0) you get if you keep adding the divident to the base. As explained [here](https://math.stackexchange.com/questions/2179579/how-can-i-find-a-mod-with-negative-number), you can think that if you work on modulo `n`, adding `n` or subtracting `n` leaves you in the same place (modulo `n`).\n",
    "\n",
    "The effect it has here, is that if we do modulo 58 to all the list, the positive numbers will stay the same, and the negative numbers will get +58, placing them at the right amount that we want for our priorities. WOW. :)"
   ]
  },
  {
   "cell_type": "code",
   "execution_count": 254,
   "id": "b03f7e1b-4291-487b-835d-56ee8ac7f088",
   "metadata": {},
   "outputs": [
    {
     "name": "stdout",
     "output_type": "stream",
     "text": [
      "27 28 29 50 51 52 1 2 3 24 25 26\n"
     ]
    }
   ],
   "source": [
    "58!y"
   ]
  },
  {
   "cell_type": "code",
   "execution_count": 257,
   "id": "73ff00c1-d930-4e73-92a7-55715ab9bbd6",
   "metadata": {},
   "outputs": [
    {
     "name": "stdout",
     "output_type": "stream",
     "text": [
      "27 28 29 50 51 52 1 2 3 24 25 26\n"
     ]
    }
   ],
   "source": [
    "58!-96+\"ABCXYZabcxyz\""
   ]
  },
  {
   "cell_type": "markdown",
   "id": "ba8b840e-0114-40de-9756-f29e8a5e442f",
   "metadata": {},
   "source": [
    "`!` is `mod`, so we do 58 mod each one of the values"
   ]
  },
  {
   "cell_type": "code",
   "execution_count": 46,
   "id": "7ff8a115-c047-4e8c-97d5-e4f6b0cec6b9",
   "metadata": {},
   "outputs": [],
   "source": [
    "x:58!-96+0:\"i/03\""
   ]
  },
  {
   "cell_type": "markdown",
   "id": "1ff1cbae-61d3-47cc-8be5-6e4be3f0ca62",
   "metadata": {},
   "source": [
    "Now for the fun part `f:+/(*>&/@[&53;;:;1]')'`\n",
    "\n",
    "Define a function `f`. This is a tacit function, where we don't mention the parameter it gets, but it's just applied on the rightmost place.\n",
    "\n",
    "So, `'`, `each`, and the `'` inside the parenthesised train mean that we're diving 2 levels down, so we're going to apply the rest of the train to things that look like  `**x`"
   ]
  },
  {
   "cell_type": "code",
   "execution_count": 135,
   "id": "105d5a35-d9f0-49df-b0eb-02707d0eb4f7",
   "metadata": {},
   "outputs": [
    {
     "name": "stdout",
     "output_type": "stream",
     "text": [
      "42\n"
     ]
    }
   ],
   "source": [
    "**x"
   ]
  },
  {
   "cell_type": "markdown",
   "id": "f5695f0d-a347-4644-aea8-46eb23b98ab9",
   "metadata": {},
   "source": [
    "So, we call `@[&53;;:;1]` separately for each one.  Let's look at the tetradic `@[...]` `Amend Item` first:"
   ]
  },
  {
   "cell_type": "markdown",
   "id": "1271b05a-f594-4b17-a2d5-9ba356df68b1",
   "metadata": {},
   "source": [
    "**Amend Item (@)**\n",
    "\n",
    "`@[d;i;f;y]` is roughly equivalent to `d[i]=f(d[i],y[i])`.  \n",
    "If `y` is an atom, it will conform it to `i`. \n",
    "If `y` is null, `f` is a monad.\n",
    "Think that `i` can be a list, so this call updates a bunch of values in `d`."
   ]
  },
  {
   "cell_type": "code",
   "execution_count": 125,
   "id": "005c6960-c2f0-41d0-8b9b-9cca711cb8b7",
   "metadata": {},
   "outputs": [
    {
     "name": "stdout",
     "output_type": "stream",
     "text": [
      "1 0 0\n",
      "1 1 0\n",
      "1 2 0\n"
     ]
    }
   ],
   "source": [
    "@[0 0 0;0;:;1]\n",
    "@[0 0 0;0 1;:;1]\n",
    "@[0 0 0;0 1;:;1 2]"
   ]
  },
  {
   "cell_type": "markdown",
   "id": "47901652-3b56-4e66-b656-8250312c3840",
   "metadata": {},
   "source": [
    "As a first argument, `&53` creates a list of 53 zeros via `where`."
   ]
  },
  {
   "cell_type": "code",
   "execution_count": 109,
   "id": "90845e6d-dfb0-42f5-8484-5927a5eac92b",
   "metadata": {},
   "outputs": [
    {
     "name": "stdout",
     "output_type": "stream",
     "text": [
      "0 0 0 0 0 0 0 0 0 0 0 0 0 0 0 0 0 0 0 0 0 0 0 0 0 0 0 0 0 0 0 0 0 0 0 0 0 0 0 0 0 0 0 0 0 0 0 0 0 0 0 0 0\n"
     ]
    }
   ],
   "source": [
    "&53"
   ]
  },
  {
   "cell_type": "markdown",
   "id": "8d19477e-fe12-427c-8861-93b53c6bd1b5",
   "metadata": {
    "tags": []
   },
   "source": [
    "**Where (&)**\n",
    "\n",
    "enerates as many repetitions of the numbers for each index:\n"
   ]
  },
  {
   "cell_type": "code",
   "execution_count": 116,
   "id": "2e24a640-e553-47d7-a089-28038794a43e",
   "metadata": {},
   "outputs": [
    {
     "name": "stdout",
     "output_type": "stream",
     "text": [
      "1 1 1 1 2 3 3 3\n"
     ]
    }
   ],
   "source": [
    "& 0 4 1 3"
   ]
  },
  {
   "cell_type": "markdown",
   "id": "7323171b-d64f-4cf4-a9ef-7641edac75b0",
   "metadata": {},
   "source": [
    "Here, we're using a projection, so the second parameter is empty, waiting for it to be filled when called.\n",
    "\n",
    "First let's see what does it look like to call it with a few params"
   ]
  },
  {
   "cell_type": "code",
   "execution_count": 131,
   "id": "d203e7f4-5d52-474a-8b7e-c0467dc1dacf",
   "metadata": {},
   "outputs": [
    {
     "name": "stdout",
     "output_type": "stream",
     "text": [
      "0 1 0 0 0 0 0 0 0 0 0 0 0 0 0 0 0 0 0 0 0 0 0 0 0 0 0 0 0 0 0 0 0 0 0 0 0 0 0 0 0 0 0 0 0 0 0 0 0 0 0 0 0\n"
     ]
    }
   ],
   "source": [
    "(@[&53;;:;1]') 1 "
   ]
  },
  {
   "cell_type": "code",
   "execution_count": 132,
   "id": "e0f4316e-962d-4cd0-90ea-306f7d2930b0",
   "metadata": {},
   "outputs": [
    {
     "name": "stdout",
     "output_type": "stream",
     "text": [
      "(0 1 0 0 0 0 0 0 0 0 0 0 0 0 0 0 0 0 0 0 0 0 0 0 0 0 0 0 0 0 0 0 0 0 0 0 0 0 0 0 0 0 0 0 0 0 0 0 0 0 0 0 0\n",
      " 0 0 1 0 0 0 0 0 0 0 0 0 0 0 0 0 0 0 0 0 0 0 0 0 0 0 0 0 0 0 0 0 0 0 0 0 0 0 0 0 0 0 0 0 0 0 0 0 0 0 0 0 0)\n"
     ]
    }
   ],
   "source": [
    "(@[&53;;:;1]') 1 2"
   ]
  },
  {
   "cell_type": "code",
   "execution_count": 154,
   "id": "760a26dc-7798-4aeb-b0c7-a2b71cd456e4",
   "metadata": {},
   "outputs": [
    {
     "name": "stdout",
     "output_type": "stream",
     "text": [
      "0 0 0 0 0 0 0 0 0 0 0 0 0 0 0 0 0 0 0 0 0 0 0 0 0 0 0 0 0 0 0 0 0 0 0 0 0 0 0 0 0 0 0 0 0 0 0 0 0 0 0 0 0\n"
     ]
    }
   ],
   "source": [
    "(&/@[&53;;:;1]') 1 2"
   ]
  },
  {
   "cell_type": "code",
   "execution_count": 155,
   "id": "f4231037-a056-498f-9475-e6341e146b79",
   "metadata": {},
   "outputs": [
    {
     "name": "stdout",
     "output_type": "stream",
     "text": [
      "0 0 1 0 0 0 0 0 0 0 0 0 0 0 0 0 0 0 0 0 0 0 0 0 0 0 0 0 0 0 0 0 0 0 0 0 0 0 0 0 0 0 0 0 0 0 0 0 0 0 0 0 0\n"
     ]
    }
   ],
   "source": [
    "(&/@[&53;;:;1]') 2 2"
   ]
  },
  {
   "cell_type": "markdown",
   "id": "8d90005e-5bb6-4312-a194-0ac8d5ecfb2d",
   "metadata": {},
   "source": [
    "See? We're getting the `min` of the reduction of all lists, so we know if there's an index that is in all lists that we passed in. \n",
    "\n",
    "Hopefully you see where are we going now :)"
   ]
  },
  {
   "cell_type": "code",
   "execution_count": 157,
   "id": "e447d3d4-dc30-4906-9976-b1936c14709c",
   "metadata": {},
   "outputs": [
    {
     "name": "stdout",
     "output_type": "stream",
     "text": [
      "2 0 1 3 4 5 6 7 8 9 10 11 12 13 14 15 16 17 18 19 20 21 22 23 24 25 26 27 28 29 30 31 32 33 34 35 36 37 38 39 40 41 42 43 44 45 46 47 48 49 50 51 52\n"
     ]
    }
   ],
   "source": [
    "(>&/@[&53;;:;1]') 2 2"
   ]
  },
  {
   "cell_type": "markdown",
   "id": "251e82e5-f954-42ac-a9d0-68a4d32547be",
   "metadata": {},
   "source": [
    "We just grated the elements in descending order, and now we get the first one.\n",
    "\n",
    "Because if you realize, the grade here gives us the index, which is the actual number, because we placed the 1s in the index of each number. :mindblown:"
   ]
  },
  {
   "cell_type": "code",
   "execution_count": 160,
   "id": "c8cd7717-c50d-48c7-aa73-4aa7152bfa77",
   "metadata": {},
   "outputs": [
    {
     "name": "stdout",
     "output_type": "stream",
     "text": [
      "2\n"
     ]
    }
   ],
   "source": [
    "(*>&/@[&53;;:;1]') 2 2"
   ]
  },
  {
   "cell_type": "markdown",
   "id": "3700cb91-6c4c-4de7-b75f-f10051029c17",
   "metadata": {},
   "source": [
    "If we look at `f`, it sums over the results of the applications of the different lines, that's where the extra `each` at the end of the function matches the `+/` at the beginning."
   ]
  },
  {
   "cell_type": "code",
   "execution_count": 200,
   "id": "d8b09240-613b-45c4-a1c2-b4fa14986fa0",
   "metadata": {},
   "outputs": [
    {
     "name": "stdout",
     "output_type": "stream",
     "text": [
      "5\n"
     ]
    }
   ],
   "source": [
    "+/(*>&/@[&53;;:;1]')' (2 2; 3 3; 1 2)"
   ]
  },
  {
   "cell_type": "markdown",
   "id": "2fa46c6d-fb68-48fd-b23a-b2155760528e",
   "metadata": {},
   "source": [
    "Now, ready for part1"
   ]
  },
  {
   "cell_type": "code",
   "execution_count": 163,
   "id": "fc5ad789-cea9-4bf6-b221-3b0185f4f965",
   "metadata": {},
   "outputs": [
    {
     "name": "stdout",
     "output_type": "stream",
     "text": [
      "7875\n"
     ]
    }
   ],
   "source": [
    "f 2 0N#/:x /part1"
   ]
  },
  {
   "cell_type": "markdown",
   "id": "ed08db70-984b-44a0-a14c-0eb7072ee14f",
   "metadata": {},
   "source": [
    "So, what happened there?\n",
    "`each-left x`, meaning for each line of the input, reshape it to 2 rows, of however many items are needed "
   ]
  },
  {
   "cell_type": "code",
   "execution_count": 183,
   "id": "427b8024-4e9a-487f-87c0-5cf782b9ad56",
   "metadata": {},
   "outputs": [
    {
     "name": "stdout",
     "output_type": "stream",
     "text": [
      "(0 1 2 3\n",
      " 4 5 6 7)\n"
     ]
    }
   ],
   "source": [
    "2 0N#!8"
   ]
  },
  {
   "cell_type": "code",
   "execution_count": 203,
   "id": "38db362e-a03d-4f11-95f5-f7674fc7df55",
   "metadata": {},
   "outputs": [],
   "source": [
    "f:+/(*>&/@[&53;;:;1]')'"
   ]
  },
  {
   "cell_type": "code",
   "execution_count": 205,
   "id": "60990ed9-c753-4137-8ec8-6a22169e3c89",
   "metadata": {},
   "outputs": [
    {
     "name": "stdout",
     "output_type": "stream",
     "text": [
      "7875\n"
     ]
    }
   ],
   "source": [
    "f 2 0N#/:x"
   ]
  },
  {
   "cell_type": "markdown",
   "id": "60d0f005-e528-4a85-8858-a34773287cdf",
   "metadata": {},
   "source": [
    "Wow, that was quite something, right? Now for part 2.\n",
    "\n",
    "Part 2 is a reshuffling of the same algorithm, but using groups of 3 lines, and looking for the common element that is in all 3"
   ]
  },
  {
   "cell_type": "code",
   "execution_count": 216,
   "id": "2e1c6fa3-30a0-414d-8e88-55e9b6a416c5",
   "metadata": {},
   "outputs": [
    {
     "name": "stdout",
     "output_type": "stream",
     "text": [
      "2790\n"
     ]
    }
   ],
   "source": [
    "f 0N 3#x"
   ]
  }
 ],
 "metadata": {
  "kernelspec": {
   "display_name": "ngn/k",
   "language": "ngnk",
   "name": "ngnk"
  },
  "language_info": {
   "file_extension": ".k",
   "mimetype": "text/ngnk",
   "name": "ngnk"
  }
 },
 "nbformat": 4,
 "nbformat_minor": 5
}
