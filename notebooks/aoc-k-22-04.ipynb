{
 "cells": [
  {
   "cell_type": "markdown",
   "id": "624a2b33-d4de-4821-ab95-9ab9f4c6117d",
   "metadata": {
    "tags": []
   },
   "source": [
    "# AOC 2022"
   ]
  },
  {
   "cell_type": "code",
   "execution_count": 537,
   "id": "ba89476b-e902-4dc7-8abf-e1e0ad2ee636",
   "metadata": {},
   "outputs": [
    {
     "name": "stdout",
     "output_type": "stream",
     "text": [
      "'io\n",
      "\n"
     ]
    }
   ],
   "source": [
    "\\cd notebooks"
   ]
  },
  {
   "cell_type": "markdown",
   "id": "453c2df9-abdd-4fe7-9c2d-267b1d8be0bc",
   "metadata": {
    "tags": []
   },
   "source": [
    "# Advent of Code 2022 - 04"
   ]
  },
  {
   "cell_type": "markdown",
   "id": "971a3646-689b-44ad-819f-1e213407554a",
   "metadata": {},
   "source": [
    "URL: https://adventofcode.com/2022/day/4"
   ]
  },
  {
   "cell_type": "markdown",
   "id": "2b81c797-26cf-4ce5-97c1-5706872068cf",
   "metadata": {},
   "source": [
    "We'll study ngn's [solution](https://codeberg.org/ngn/k/src/branch/master/aoc/22/04.k):"
   ]
  },
  {
   "cell_type": "code",
   "execution_count": 538,
   "id": "e24004f4-e81b-4e3e-aa79-6684bd3b0a4a",
   "metadata": {},
   "outputs": [
    {
     "name": "stdout",
     "output_type": "stream",
     "text": [
      "538\n",
      "792\n"
     ]
    }
   ],
   "source": [
    "`0:$(+/1>*/-/)'1{|y}\\\\`I$+'\"-\"\\''+\",\"\\'0:\"i/04\" /both parts"
   ]
  },
  {
   "cell_type": "markdown",
   "id": "5b1f141c-1ac8-4d55-be82-ce6bd7d779c3",
   "metadata": {},
   "source": [
    "This one is \"simple\". Catch full overlaps of 2 ranges.\n",
    "As always, first, the input:"
   ]
  },
  {
   "cell_type": "code",
   "execution_count": 551,
   "id": "a169edce-9bcb-4477-bf63-258707565062",
   "metadata": {},
   "outputs": [
    {
     "name": "stdout",
     "output_type": "stream",
     "text": [
      "(\"5-96,6-99\"\n",
      " \"29-97,80-97\"\n",
      " \"3-87,3-4\"\n",
      " \"12-12,6-12\"\n",
      " \"64-65,24-66\"\n",
      " \"52-54,1-53\"\n",
      " \"86-89,85-88\"\n",
      " \"37-69,38-38\"\n",
      " \"81-96,47-75\"\n",
      " \"1-13,18-44\")\n"
     ]
    }
   ],
   "source": [
    "10#x:0:\"i/04\" "
   ]
  },
  {
   "cell_type": "markdown",
   "id": "e2b1fd7d-7f17-4a58-8a5d-9c1814810b63",
   "metadata": {},
   "source": [
    "Split each line by comma.  The nice mnemonic I use to distinguish `\\` split and `/` join, is mapping it to scan `\\` vs over `/`. The backslash, leans backward, and leaves trails of the computation.\n",
    "\n",
    "So, backslash, like scan, and like split produces many results.\n",
    "\n",
    "On the other hand, forward slash is \"moving forward\", and it doesn't need to keep intermediate results, so it returns a single result (like join `/`, which also returns one result)."
   ]
  },
  {
   "cell_type": "code",
   "execution_count": 540,
   "id": "b5346211-0576-4ce9-8a2f-c4a9b34d45c2",
   "metadata": {},
   "outputs": [
    {
     "name": "stdout",
     "output_type": "stream",
     "text": [
      "((\"5-96\";\"6-99\")\n",
      " (\"29-97\";\"80-97\")\n",
      " (\"3-87\";\"3-4\")\n",
      " (\"12-12\";\"6-12\")\n",
      " (\"64-65\";\"24-66\")\n",
      " (\"52-54\";\"1-53\")\n",
      " (\"86-89\";\"85-88\")\n",
      " (\"37-69\";\"38-38\")\n",
      " (\"81-96\";\"47-75\")\n",
      " (\"1-13\";\"18-44\"))\n"
     ]
    }
   ],
   "source": [
    "10#\",\"\\'x"
   ]
  },
  {
   "cell_type": "markdown",
   "id": "8d56f153-6051-407d-8455-46a940bc437f",
   "metadata": {},
   "source": [
    "Flip (`+`) the table, so we get all first pairs in the first row and the second in the second.\n",
    "Foreach string, do another split by \"-\".\n",
    "\n",
    "And foreach of them, flip again"
   ]
  },
  {
   "cell_type": "code",
   "execution_count": 561,
   "id": "090f52fc-f65b-49c6-8d0f-c8e1c27760bd",
   "metadata": {},
   "outputs": [],
   "source": [
    "xx:`I$+'\"-\"\\''+\",\"\\'x"
   ]
  },
  {
   "cell_type": "markdown",
   "id": "8b502468-71e9-469b-a066-1ecbe9e1da1d",
   "metadata": {},
   "source": [
    "This partial result is a nested list with the shape:"
   ]
  },
  {
   "cell_type": "code",
   "execution_count": 562,
   "id": "61bab2d7-9380-452f-be43-711ab0995691",
   "metadata": {},
   "outputs": [
    {
     "name": "stdout",
     "output_type": "stream",
     "text": [
      "((5 29 3 12 64 52 86 37 81 1;96 97 87 12 65 54 89 69 96 13)\n",
      " (6 80 3 6 24 1 85 38 47 18;99 97 4 12 66 53 88 38 75 44))\n"
     ]
    }
   ],
   "source": [
    ":xxx:(10#)''xx"
   ]
  },
  {
   "cell_type": "markdown",
   "id": "836ba991-e528-444b-897c-2fccd2e2953d",
   "metadata": {},
   "source": [
    "I was a bit puzzled by the following double scan but first Let's figure out the simplest possible solution to the problem, and we'll figure out the double scan later.\n",
    "\n",
    "For a range to be fully contained in another range, there are only 3 possibilities:\n",
    "- first range is strictly bigger on both sides\n",
    "- second range is strictly bigger on both sides\n",
    "- they share one limit.\n",
    "\n",
    "\n",
    "Here, ngn relies on the fact that if range `a` (a1-a2) is overflows `b` (b1-b2) in both ends:\n",
    "`a1-b1>0  and a2-b2<0`. \n",
    "\n",
    "If b would be larger, `a1-b1<0  and a2-b2>0`. The property that holds in both is that one is positive and the other negative. So multiplying them, should give us a negative number.\n",
    "\n",
    "The case of sharing a limit is funny, because if you share one of the ends, it means that you fully overlap, no matter if `a` is bigger or `b`. It counts as an overlap.\n",
    "\n",
    "That's why `(1>*/-/)` over the ranges will signal all fully overlapping ranges. If `1>` means that either the multiplication is negative (meaning full strict overlap) or 0 (at least 1 side matches). \n",
    "\n",
    "Here are some intermediate results to help with the calculations:"
   ]
  },
  {
   "cell_type": "code",
   "execution_count": 555,
   "id": "2eb545ca-8bb5-4cee-a5ce-6e3bd7749b3b",
   "metadata": {},
   "outputs": [
    {
     "name": "stdout",
     "output_type": "stream",
     "text": [
      "((5 29 3 12 64 52 86 37 81 1;96 97 87 12 65 54 89 69 96 13)\n",
      " (6 80 3 6 24 1 85 38 47 18;99 97 4 12 66 53 88 38 75 44))\n",
      "(-1 -51 0 6 40 51 1 -1 34 -17\n",
      " -3 0 83 0 -1 1 1 31 21 -31)\n",
      "3 0 0 0 -40 51 1 -31 714 527\n",
      "0 1 1 1 1 0 0 1 0 0\n"
     ]
    }
   ],
   "source": [
    "xxx\n",
    "(-/)xxx\n",
    "(*/-/)xxx\n",
    "(1>*/-/)xxx"
   ]
  },
  {
   "cell_type": "code",
   "execution_count": 544,
   "id": "c45ede17-bb1b-4fe6-93f8-ddaca6ee2ffd",
   "metadata": {},
   "outputs": [
    {
     "name": "stdout",
     "output_type": "stream",
     "text": [
      "538\n"
     ]
    }
   ],
   "source": [
    "(+/1>*/-/)xx"
   ]
  },
  {
   "cell_type": "markdown",
   "id": "d709d416-0f1c-4887-a03e-f49ba73dd257",
   "metadata": {},
   "source": [
    "Second part is to count the pairs of ranges that overlap at all. Here, the property that the solution uses is the following:\n",
    "\n",
    "- ( a1-b2 * a2-b1 ) < 1   -> overlap\n",
    "\n",
    "This means that the formula is very similar, but instead of comparing a's with a's and b's with b's, we do the subtraction in a crossed way.\n",
    "\n",
    "```\n",
    "a1....a2\n",
    "   b1.....b2\n",
    "```"
   ]
  },
  {
   "cell_type": "markdown",
   "id": "4780c68e-61af-4403-9a8e-96130efb51b4",
   "metadata": {},
   "source": [
    "K-wise, the trick is to swap b1 and b2 columns, and repeat the same operation. \n",
    "\n",
    "\n",
    "And here, the cherry on top: `n d\\\\l`.\n",
    "\n",
    "To make it more \"fun\", here ngn uses this reverse-scan trick, that also got me thinking for a while.\n",
    "\n",
    "It's a nice opportunity to talk in depth about this `1{|y}\\\\` pattern:\n",
    "\n",
    "First let's look at `{|y}\\` in isolation:\n",
    "\n",
    "It follows `d\\l`\n",
    "\n",
    "In scan dyad, the return value will have the same length as the list `l`. In case the list has 2 elements, the result will be:\n",
    "`(l@0 ; l@0 d l@1 )`.\n",
    "\n",
    "In this particular case, ngn wants to apply a function to the second element (`l@1`)"
   ]
  },
  {
   "cell_type": "code",
   "execution_count": 556,
   "id": "89509440-00a3-4694-8ed0-2397033bf36a",
   "metadata": {},
   "outputs": [
    {
     "name": "stdout",
     "output_type": "stream",
     "text": [
      "(0 1 2 3 4\n",
      " 9 8 7 6 5)\n"
     ]
    }
   ],
   "source": [
    "{|y}\\2 5#!20"
   ]
  },
  {
   "cell_type": "markdown",
   "id": "d28218bd-cfc2-43fb-921a-8ed02fdbdb07",
   "metadata": {},
   "source": [
    "If instead of being a dyad, `f` is a monad, the function is applied to the full `l`. not in an elemet by element basis. So\n",
    "\n",
    "`n m\\l` is:\n",
    "\n",
    "`(l; f l; f f l; ....)` n times.\n",
    "\n",
    "Now is the moment where both patterns are combined:\n",
    "\n",
    "`n d\\\\l` can be seen as `n m\\l` with m=`d\\`.\n",
    "\n",
    "`n d\\\\l` return value has the same lenght as `l`, the first which is the original `l`, and the second gets m applied to it.  \n",
    "\n",
    "In this case, `m` is `\\d`, which returns the same number of elements of its parameter (so, of the original `l`), with the first element being the original one (`l@0`, and the second one being `l@0 d l@1`. In this case, d is `{|y}`.\n",
    "\n",
    "Datawise, 1{|y}\\\\(a;b) -> `((a;b);(a;|b))`\n",
    "\n",
    "\n"
   ]
  },
  {
   "cell_type": "code",
   "execution_count": 571,
   "id": "b14953ca-d9ba-4f0a-bb0d-ff4f1e6d1703",
   "metadata": {},
   "outputs": [
    {
     "name": "stdout",
     "output_type": "stream",
     "text": [
      "(((0 1 2 3 4;5 6 7 8 9);(10 11 12 13 14;15 16 17 18 19))\n",
      " ((0 1 2 3 4;5 6 7 8 9);(15 16 17 18 19;10 11 12 13 14)))\n"
     ]
    }
   ],
   "source": [
    "{|y}\\\\2 2 5#!20  /simplified with `int`s"
   ]
  },
  {
   "cell_type": "code",
   "execution_count": 572,
   "id": "5428f674-61b6-4a5a-a129-5e62efe46201",
   "metadata": {},
   "outputs": [
    {
     "name": "stdout",
     "output_type": "stream",
     "text": [
      "(((5 29 3 12 64 52 86 37 81 1;96 97 87 12 65 54 89 69 96 13);(6 80 3 6 24 1 85 38 47 18;99 97 4 12 66 53 88 38 75 44))\n",
      " ((5 29 3 12 64 52 86 37 81 1;96 97 87 12 65 54 89 69 96 13);(99 97 4 12 66 53 88 38 75 44;6 80 3 6 24 1 85 38 47 18)))\n"
     ]
    }
   ],
   "source": [
    "1{|y}\\\\xxx   /sample with our real data"
   ]
  },
  {
   "cell_type": "code",
   "execution_count": 581,
   "id": "2e19c729-1c6c-4bb8-951f-c03635e36ae4",
   "metadata": {},
   "outputs": [
    {
     "name": "stdout",
     "output_type": "stream",
     "text": [
      "538\n",
      "792\n"
     ]
    }
   ],
   "source": [
    "`0:$(+/1>*/-/)'1{|y}\\\\`I$+'\"-\"\\''+\",\"\\'0:\"i/04\" /both parts"
   ]
  }
 ],
 "metadata": {
  "kernelspec": {
   "display_name": "ngn/k",
   "language": "ngnk",
   "name": "ngnk"
  },
  "language_info": {
   "file_extension": ".k",
   "mimetype": "text/ngnk",
   "name": "ngnk"
  }
 },
 "nbformat": 4,
 "nbformat_minor": 5
}
