{
 "cells": [
  {
   "cell_type": "markdown",
   "id": "624a2b33-d4de-4821-ab95-9ab9f4c6117d",
   "metadata": {
    "tags": []
   },
   "source": [
    "# AOC 2022"
   ]
  },
  {
   "cell_type": "code",
   "execution_count": 220,
   "id": "ba89476b-e902-4dc7-8abf-e1e0ad2ee636",
   "metadata": {},
   "outputs": [
    {
     "name": "stdout",
     "output_type": "stream",
     "text": [
      "'io\n",
      "\n"
     ]
    }
   ],
   "source": [
    "\\cd notebooks"
   ]
  },
  {
   "cell_type": "markdown",
   "id": "453c2df9-abdd-4fe7-9c2d-267b1d8be0bc",
   "metadata": {
    "tags": []
   },
   "source": [
    "# Interleave"
   ]
  },
  {
   "cell_type": "markdown",
   "id": "897557fc-34d3-4d9f-b5ae-91451e172ad8",
   "metadata": {},
   "source": [
    "https://codegolf.stackexchange.com/questions/102496/interleave-strings/251308#251308"
   ]
  },
  {
   "cell_type": "code",
   "execution_count": 9,
   "id": "bc4d5892-234f-4a15-9326-14a90e00ac3c",
   "metadata": {},
   "outputs": [
    {
     "name": "stdout",
     "output_type": "stream",
     "text": [
      "\"aA1bB2cC3dD4\"\n"
     ]
    }
   ],
   "source": [
    "f:<!/,/'(!#:)'\\\n",
    "t:(\"abcd\";\"ABCD\" ; \"1234\")\n",
    "f t"
   ]
  },
  {
   "cell_type": "markdown",
   "id": "b4de69aa-acfb-406c-af8a-4bfe558344f6",
   "metadata": {},
   "source": [
    "The whole \"sentence\" is:\n",
    "Associate each string with a `int` list of the same size (`iota` in apl) and later, sort the chars by the numbers we associated.\n",
    "\n",
    "This makes all first letters go together, followed by the seconds ...\n",
    "In apl, it's very similar to perfect shuffle https://www.jsoftware.com/papers/50/  & http://www.math.bas.bg/bantchev/place/apl.html ."
   ]
  },
  {
   "cell_type": "markdown",
   "id": "bfbc458b-8ea4-443b-86ba-96aa4065af69",
   "metadata": {},
   "source": [
    "In this implementation, we use a train to emulate a fork (tacitjk).\n",
    "\n",
    "- `\\` Is used to keep the original table and associate the result of the train.\n",
    "- For each one of the strings `'` create a list of `Int`s of the same size as the string. `(!#:)`. Remember we use `:` to force the monadic version of `#`."
   ]
  },
  {
   "cell_type": "code",
   "execution_count": 13,
   "id": "a886c78c-8b7b-4e2a-b3b5-e20b4b5c5ff4",
   "metadata": {},
   "outputs": [
    {
     "name": "stdout",
     "output_type": "stream",
     "text": [
      "((\"abcd\";\"ABCD\";\"1234\")\n",
      " (0 1 2 3;0 1 2 3;0 1 2 3))\n"
     ]
    }
   ],
   "source": [
    " (!#:)'\\ t"
   ]
  },
  {
   "cell_type": "markdown",
   "id": "aa29fafc-ff1d-4696-9cd2-7b4c5b8e0dc4",
   "metadata": {},
   "source": [
    "Next thing, for each of the two top level elements, concatenate the elements inside. We achieve this with `,/`."
   ]
  },
  {
   "cell_type": "code",
   "execution_count": 16,
   "id": "99ee75f6-26e9-4d72-9d41-d044f2d1fb6c",
   "metadata": {},
   "outputs": [
    {
     "name": "stdout",
     "output_type": "stream",
     "text": [
      "(\"abcdABCD1234\"\n",
      " 0 1 2 3 0 1 2 3 0 1 2 3)\n"
     ]
    }
   ],
   "source": [
    ",/'(!#:)'\\ t"
   ]
  },
  {
   "cell_type": "markdown",
   "id": "0651f336-21f9-4ece-9c01-814291c9b2a4",
   "metadata": {},
   "source": [
    "Then, create a dictionary using the first element as keys and the second as values. There's another nice use of `/`, where, if the list we're reducing over has only 2 elements, `f/a1 a2` is the same as `a1 f a2`"
   ]
  },
  {
   "cell_type": "code",
   "execution_count": 17,
   "id": "a977acde-cb9c-443e-865d-39a15df18905",
   "metadata": {},
   "outputs": [
    {
     "name": "stdout",
     "output_type": "stream",
     "text": [
      "\"abcdABCD1234\"!0 1 2 3 0 1 2 3 0 1 2 3\n"
     ]
    }
   ],
   "source": [
    "!/,/'(!#:)'\\ t"
   ]
  },
  {
   "cell_type": "markdown",
   "id": "f1f64372-9a9c-4e60-806e-15012314c4ca",
   "metadata": {},
   "source": [
    "Weird, that in K, building a dictionary doesn't make the keys unique, so it's not really a dictionary, but a table, sort of.\n",
    "\n",
    "Anyway, last step:\n",
    "grade ascending. The return value is the keys, sorted by the values."
   ]
  },
  {
   "cell_type": "code",
   "execution_count": 19,
   "id": "30776e23-ac31-4c97-aa0c-74823ee6d6ba",
   "metadata": {},
   "outputs": [
    {
     "name": "stdout",
     "output_type": "stream",
     "text": [
      "\"aA1bB2cC3dD4\"\n"
     ]
    }
   ],
   "source": [
    "<!/,/'(!#:)'\\ t"
   ]
  }
 ],
 "metadata": {
  "kernelspec": {
   "display_name": "ngn/k",
   "language": "ngnk",
   "name": "ngnk"
  },
  "language_info": {
   "file_extension": ".k",
   "mimetype": "text/ngnk",
   "name": "ngnk"
  }
 },
 "nbformat": 4,
 "nbformat_minor": 5
}
