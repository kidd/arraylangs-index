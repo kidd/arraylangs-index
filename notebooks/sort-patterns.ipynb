{
 "cells": [
  {
   "cell_type": "markdown",
   "id": "624a2b33-d4de-4821-ab95-9ab9f4c6117d",
   "metadata": {
    "tags": []
   },
   "source": [
    "# Sort patterns"
   ]
  },
  {
   "cell_type": "markdown",
   "id": "4df5294c-8af0-464a-8db3-16b94256fe43",
   "metadata": {},
   "source": [
    "Sorting is a bit special in array languages because we first get the indices of the array to sort the array by, and then index by them"
   ]
  },
  {
   "cell_type": "code",
   "execution_count": 9,
   "id": "d491c01f-737e-4a76-ae5b-0a13f79c7966",
   "metadata": {},
   "outputs": [
    {
     "name": "stdout",
     "output_type": "stream",
     "text": [
      "1 2 2 2 2 2 3 4 7 9\n"
     ]
    }
   ],
   "source": [
    "x@<:x:10?10"
   ]
  },
  {
   "cell_type": "code",
   "execution_count": 50,
   "id": "d98bff39-4c9c-4e2e-a96e-4a64091bc4a2",
   "metadata": {},
   "outputs": [
    {
     "name": "stdout",
     "output_type": "stream",
     "text": [
      "\"dddddddddaaabbbcc\"\n"
     ]
    }
   ],
   "source": [
    "x:\"abcaabcdddbdddddd\"\n",
    "&(>xx)#xx:#'=x"
   ]
  }
 ],
 "metadata": {
  "kernelspec": {
   "display_name": "ngn/k",
   "language": "ngnk",
   "name": "ngnk"
  },
  "language_info": {
   "file_extension": ".k",
   "mimetype": "text/ngnk",
   "name": "ngnk"
  }
 },
 "nbformat": 4,
 "nbformat_minor": 5
}
