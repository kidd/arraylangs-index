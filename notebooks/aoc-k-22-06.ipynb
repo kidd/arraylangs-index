{
 "cells": [
  {
   "cell_type": "markdown",
   "id": "624a2b33-d4de-4821-ab95-9ab9f4c6117d",
   "metadata": {
    "tags": []
   },
   "source": [
    "# AOC 2022"
   ]
  },
  {
   "cell_type": "code",
   "execution_count": 220,
   "id": "ba89476b-e902-4dc7-8abf-e1e0ad2ee636",
   "metadata": {},
   "outputs": [
    {
     "name": "stdout",
     "output_type": "stream",
     "text": [
      "'io\n",
      "\n"
     ]
    }
   ],
   "source": [
    "\\cd notebooks"
   ]
  },
  {
   "cell_type": "markdown",
   "id": "453c2df9-abdd-4fe7-9c2d-267b1d8be0bc",
   "metadata": {
    "tags": []
   },
   "source": [
    "# Advent of Code 2022 - 06"
   ]
  },
  {
   "cell_type": "markdown",
   "id": "971a3646-689b-44ad-819f-1e213407554a",
   "metadata": {},
   "source": [
    "URL: https://adventofcode.com/2022/day/6"
   ]
  },
  {
   "cell_type": "markdown",
   "id": "2b81c797-26cf-4ce5-97c1-5706872068cf",
   "metadata": {},
   "source": [
    "We'll study ngn's [solution](https://codeberg.org/ngn/k/src/branch/master/aoc/22/06.k):"
   ]
  },
  {
   "cell_type": "code",
   "execution_count": 3,
   "id": "35008341-96b7-40e4-8f4d-501c557d8eeb",
   "metadata": {},
   "outputs": [
    {
     "name": "stdout",
     "output_type": "stream",
     "text": [
      "1544\n",
      "2145\n"
     ]
    }
   ],
   "source": [
    "a:*0:\"i/06\"\n",
    "f:{x+*>x(x=#?:)':a}\n",
    "f 4  /part1\n",
    "f 14 /part2"
   ]
  },
  {
   "cell_type": "markdown",
   "id": "47c71451-f682-4317-8d34-9637125c8057",
   "metadata": {},
   "source": [
    "This one is quick and simple:"
   ]
  },
  {
   "cell_type": "code",
   "execution_count": 4,
   "id": "344ccb9c-ffef-4150-a26f-36e45028a6e6",
   "metadata": {},
   "outputs": [],
   "source": [
    "a:*0:\"i/06\" / get the first line"
   ]
  },
  {
   "cell_type": "code",
   "execution_count": 5,
   "id": "007085f1-f5df-4fda-8993-212369fbea68",
   "metadata": {},
   "outputs": [],
   "source": [
    "f:{x+*>x(x=#?:)':a} / First index"
   ]
  },
  {
   "cell_type": "markdown",
   "id": "eec51806-358e-43ab-8042-a4f11782788a",
   "metadata": {},
   "source": [
    "Let's read this previous line:\n",
    "- Add x to (`x+`)\n",
    "- Index of the max (`*>`) of\n",
    "- Stencil of x, (that means, in groups by x)\n",
    "- by \"are all elements in the group different?\" (`x=#?:`). Not that this is a comparison of x with the shape of the unique of the chunk"
   ]
  },
  {
   "cell_type": "markdown",
   "id": "338edd58-fd37-4566-b09d-87c8af367b75",
   "metadata": {},
   "source": [
    "Part 1 looks for groups of 4, and part 2 looks for groups of 14.\n",
    "\n",
    "Done!"
   ]
  }
 ],
 "metadata": {
  "kernelspec": {
   "display_name": "ngn/k",
   "language": "ngnk",
   "name": "ngnk"
  },
  "language_info": {
   "file_extension": ".k",
   "mimetype": "text/ngnk",
   "name": "ngnk"
  }
 },
 "nbformat": 4,
 "nbformat_minor": 5
}
