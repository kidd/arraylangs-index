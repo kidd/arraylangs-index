{
 "cells": [
  {
   "cell_type": "markdown",
   "id": "624a2b33-d4de-4821-ab95-9ab9f4c6117d",
   "metadata": {
    "tags": []
   },
   "source": [
    "# AOC 2022"
   ]
  },
  {
   "cell_type": "code",
   "execution_count": 220,
   "id": "ba89476b-e902-4dc7-8abf-e1e0ad2ee636",
   "metadata": {},
   "outputs": [
    {
     "name": "stdout",
     "output_type": "stream",
     "text": [
      "'io\n",
      "\n"
     ]
    }
   ],
   "source": [
    "\\cd notebooks"
   ]
  },
  {
   "cell_type": "markdown",
   "id": "453c2df9-abdd-4fe7-9c2d-267b1d8be0bc",
   "metadata": {
    "tags": []
   },
   "source": [
    "# Advent of Code 2022 - 11"
   ]
  },
  {
   "cell_type": "markdown",
   "id": "971a3646-689b-44ad-819f-1e213407554a",
   "metadata": {},
   "source": [
    "URL: https://adventofcode.com/2022/day/11"
   ]
  },
  {
   "cell_type": "markdown",
   "id": "2b81c797-26cf-4ce5-97c1-5706872068cf",
   "metadata": {},
   "source": [
    "We'll study ngn's [solution](https://codeberg.org/ngn/k/src/branch/master/aoc/22/11.k):"
   ]
  },
  {
   "cell_type": "code",
   "execution_count": 2,
   "id": "3419ea3d-66eb-4f8e-be2e-eb4146554027",
   "metadata": {},
   "outputs": [
    {
     "name": "stdout",
     "output_type": "stream",
     "text": [
      "57838\n",
      "15050382231\n"
     ]
    }
   ],
   "source": [
    "(a;O;d;t;f):+{(`I$\", \"\\*|\": \"\\x 1;{.\"{[old]\",x,\"}\"}6_*|\": \"\\x 2),(.*|\" \"\\)'3#3_x}'0N 7#0:\"i/11\"\n",
    "/(items;operation;divBy;throwIfTrue;throwIfFalse)\n",
    "M:{w:m!O[x]'v x;v[x]:!0;#v[(f x;t x)@~d[x]!w],:w} /monkey x inspects available items\n",
    "g:{v::a;*/r@2#>r:+/{M'!#v}'!x} /product of top2 after x rounds\n",
    "m:-3;g 20     /part1\n",
    "m:*/d;g 10000 /part2"
   ]
  },
  {
   "cell_type": "code",
   "execution_count": 37,
   "id": "ca0d9d05-518f-440f-9301-c5827afe7ebc",
   "metadata": {},
   "outputs": [],
   "source": [
    "(a;O;d;t;f):+{(`I$\", \"\\*|\": \"\\x 1;{.\"{[old]\",x,\"}\"}6_*|\": \"\\x 2),(.*|\" \"\\)'3#3_x}'0N 7#0:\"i/11\"\n"
   ]
  },
  {
   "cell_type": "code",
   "execution_count": 32,
   "id": "085a0324-3796-458a-bc45-b1293c0cc4fb",
   "metadata": {},
   "outputs": [
    {
     "name": "stdout",
     "output_type": "stream",
     "text": [
      "((77 69 76 77 50 58;75 70 82 83 96 64 62;,53;85 64 93 64 99;61 92 71;79 73 50 90;50 89;83 56 64 58 93 91 56 65)\n",
      " ({[old]old * 11};{[old]old + 8};{[old]old * 3};{[old]old + 4};{[old]old * old};{[old]old + 2};{[old]old + 3};{[old]old + 5})\n",
      " 5 17 2 7 3 11 13 19\n",
      " 1 5 0 7 2 4 4 1\n",
      " 5 6 7 2 3 6 3 0)\n"
     ]
    }
   ],
   "source": [
    "+{(`I$\", \"\\*|\": \"\\x 1;{.\"{[old]\",x,\"}\"}6_*|\": \"\\x 2),(.*|\" \"\\)'3#3_x}'0N 7#0:\"i/11\"\n"
   ]
  }
 ],
 "metadata": {
  "kernelspec": {
   "display_name": "ngn/k",
   "language": "ngnk",
   "name": "ngnk"
  },
  "language_info": {
   "file_extension": ".k",
   "mimetype": "text/ngnk",
   "name": "ngnk"
  }
 },
 "nbformat": 4,
 "nbformat_minor": 5
}
