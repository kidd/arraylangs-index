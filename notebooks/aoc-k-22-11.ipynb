{
 "cells": [
  {
   "cell_type": "markdown",
   "id": "624a2b33-d4de-4821-ab95-9ab9f4c6117d",
   "metadata": {
    "tags": []
   },
   "source": [
    "# AOC 2022"
   ]
  },
  {
   "cell_type": "code",
   "execution_count": 220,
   "id": "ba89476b-e902-4dc7-8abf-e1e0ad2ee636",
   "metadata": {},
   "outputs": [
    {
     "name": "stdout",
     "output_type": "stream",
     "text": [
      "'io\n",
      "\n"
     ]
    }
   ],
   "source": [
    "\\cd notebooks"
   ]
  },
  {
   "cell_type": "markdown",
   "id": "453c2df9-abdd-4fe7-9c2d-267b1d8be0bc",
   "metadata": {
    "tags": []
   },
   "source": [
    "# Advent of Code 2022 - 11"
   ]
  },
  {
   "cell_type": "markdown",
   "id": "971a3646-689b-44ad-819f-1e213407554a",
   "metadata": {},
   "source": [
    "URL: https://adventofcode.com/2022/day/11"
   ]
  },
  {
   "cell_type": "markdown",
   "id": "2b81c797-26cf-4ce5-97c1-5706872068cf",
   "metadata": {},
   "source": [
    "We'll study ngn's [solution](https://codeberg.org/ngn/k/src/branch/master/aoc/22/11.k):"
   ]
  },
  {
   "cell_type": "code",
   "execution_count": 150,
   "id": "3419ea3d-66eb-4f8e-be2e-eb4146554027",
   "metadata": {},
   "outputs": [
    {
     "name": "stdout",
     "output_type": "stream",
     "text": [
      "57838\n",
      "15050382231\n"
     ]
    }
   ],
   "source": [
    "(a;O;d;t;f):+{(`I$\", \"\\*|\": \"\\x 1;{.\"{[old]\",x,\"}\"}6_*|\": \"\\x 2),(.*|\" \"\\)'3#3_x}'0N 7#0:\"i/11\"\n",
    "/(items;operation;divBy;throwIfTrue;throwIfFalse)\n",
    "M:{w:m!O[x]'v x;v[x]:!0;#v[(f x;t x)@~d[x]!w],:w} /monkey x inspects available items\n",
    "g:{v::a;*/r@2#>r:+/{M'!#v}'!x} /product of top2 after x rounds\n",
    "m:-3;g 20     /part1\n",
    "m:*/d;g 10000 /part2"
   ]
  },
  {
   "cell_type": "code",
   "execution_count": 37,
   "id": "ca0d9d05-518f-440f-9301-c5827afe7ebc",
   "metadata": {},
   "outputs": [],
   "source": [
    "(a;O;d;t;f):+{(`I$\", \"\\*|\": \"\\x 1;{.\"{[old]\",x,\"}\"}6_*|\": \"\\x 2),(.*|\" \"\\)'3#3_x}'0N 7#0:\"i/11\"\n"
   ]
  },
  {
   "cell_type": "code",
   "execution_count": 38,
   "id": "085a0324-3796-458a-bc45-b1293c0cc4fb",
   "metadata": {},
   "outputs": [
    {
     "name": "stdout",
     "output_type": "stream",
     "text": [
      "((77 69 76 77 50 58;75 70 82 83 96 64 62;,53;85 64 93 64 99;61 92 71;79 73 50 90;50 89;83 56 64 58 93 91 56 65)\n",
      " ({[old]old * 11};{[old]old + 8};{[old]old * 3};{[old]old + 4};{[old]old * old};{[old]old + 2};{[old]old + 3};{[old]old + 5})\n",
      " 5 17 2 7 3 11 13 19\n",
      " 1 5 0 7 2 4 4 1\n",
      " 5 6 7 2 3 6 3 0)\n"
     ]
    }
   ],
   "source": [
    "+{(`I$\", \"\\*|\": \"\\x 1;{.\"{[old]\",x,\"}\"}6_*|\": \"\\x 2),(.*|\" \"\\)'3#3_x}'0N 7#0:\"i/11\"\n"
   ]
  },
  {
   "cell_type": "markdown",
   "id": "fdcbe5b5-4909-45de-b4aa-6ebdbd4d1141",
   "metadata": {},
   "source": [
    "We have everything prepared, lists of items, ops, divBy, ifTrue, ifFalses.\n",
    "part1 runs 20 iterations of g.\n",
    "\n",
    "`g`, runs the 20 iterations of each one of the monkeys doing things. Let's see:"
   ]
  },
  {
   "cell_type": "code",
   "execution_count": 148,
   "id": "1e065b94-a57e-493a-8eb4-afde4f31f314",
   "metadata": {},
   "outputs": [],
   "source": [
    "g:{v::a;*/r@2#>r:+/{M'!#v}'!x} /product of top2 after x rounds"
   ]
  },
  {
   "cell_type": "markdown",
   "id": "86890079-880f-4716-aad6-2de78ee72fb1",
   "metadata": {},
   "source": [
    "Something we hadn't seen yet is a function with multiple expressions.\n",
    "Even if each expression is evaluated right-to-left, if a function has many expressions, the expressions go left-to-right. It's not as strange, if you think that you could split that into two lines instead of `;`.\n",
    "\n",
    "- First, we assign `a` to the global `v` (`::`).\n",
    "- Then, we do the second expression, which\n",
    "- iterates as many times as the parameter that gets passed (`'!x`)\n",
    "- Evaluates `M` for each 0..#v (which is `a`). Don't worry about `M` now\n",
    "- sum-over the result, and assign to `r`\n",
    "- get the 2 biggest ones `r@2#>r`\n",
    "- times-over the two monkeys\n",
    "\n",
    "With this, it's clear that `M` is for Monkey."
   ]
  },
  {
   "cell_type": "code",
   "execution_count": 47,
   "id": "5e6fd00f-84ca-4cdf-b868-fba99aa9e547",
   "metadata": {},
   "outputs": [],
   "source": [
    "M:{w:m!O[x]'v x;v[x]:!0;#v[(f x;t x)@~d[x]!w],:w} /monkey x inspects available items"
   ]
  },
  {
   "cell_type": "markdown",
   "id": "e75ad838-e66f-4960-af4c-3e4808a317fc",
   "metadata": {},
   "source": [
    "Again, a multiexpression function.  Expressions are `w:m!O[x]'v x`, `v[x]:!0`, and `#v[(f x;t x)@~d[x]!w],:w`\n",
    "\n",
    "A few things to note:\n",
    "\n",
    "- This function will be called with 0..#v as parameter, refering to the monkey at hand. So it'll be called once per monkey turn.\n",
    "- remember that we assigned to global `v`? There has to be a reason for it... Probably we're going to mutate it, right?\n",
    "- The function is `M`onkey, and the `x` argument is the monkey number. Think about it when seeing `x` around here. It usually indexes on our data\n",
    "\n",
    "First expression is already \n",
    "\n",
    "\n"
   ]
  },
  {
   "cell_type": "code",
   "execution_count": 140,
   "id": "94957e7c-2867-49ac-bd0c-0085517d7b59",
   "metadata": {},
   "outputs": [
    {
     "name": "stdout",
     "output_type": "stream",
     "text": [
      "{:w:m!O[x]'v x}\n"
     ]
    }
   ],
   "source": [
    "{:w:m!O[x]'v x}"
   ]
  },
  {
   "cell_type": "markdown",
   "id": "457d9591-15b0-4dce-9b1b-8d99c893993d",
   "metadata": {},
   "source": [
    "O is the fns for each monkey. so `-3!O[x]'v x` evaluates the monkey operation to the different objects the monkey has. And does the `div 3` for each one of the results."
   ]
  },
  {
   "cell_type": "code",
   "execution_count": 142,
   "id": "6b79d335-0b88-4518-b138-0631ee1da5b1",
   "metadata": {},
   "outputs": [
    {
     "name": "stdout",
     "output_type": "stream",
     "text": [
      "({[old]old * 11}\n",
      " {[old]old + 8}\n",
      " {[old]old * 3}\n",
      " {[old]old + 4}\n",
      " {[old]old * old}\n",
      " {[old]old + 2}\n",
      " {[old]old + 3}\n",
      " {[old]old + 5})\n",
      "-3\n",
      "14985190 96587590 102958240 81994990 95001280 63492880 730180 17304628\n"
     ]
    }
   ],
   "source": [
    "O\n",
    "m:-3\n",
    "m\n",
    "O[0]'v 0"
   ]
  },
  {
   "cell_type": "code",
   "execution_count": 143,
   "id": "5f8d3c80-e8db-4a6f-85f1-61d62f030718",
   "metadata": {},
   "outputs": [],
   "source": [
    "v[x]:!0 /resets monkey inventory of objects "
   ]
  },
  {
   "cell_type": "markdown",
   "id": "74828524-ce02-4c53-8ebb-13378a0e6327",
   "metadata": {},
   "source": [
    "And now, the tour de force: `#v[(f x;t x)@~d[x]!w],:w`\n",
    "\n",
    "- This looks like an amend item `v[i],:w` followed by `count`.\n",
    "- `d[x]!w` takes the divideBy of the Monkey, and divides the item worriness by it.\n",
    "- `~` makes it a 0 or 1\n",
    "- which we apply (`@`) to either return `f x` or `t x`. that result tells us to which monkey we are sending that object.\n",
    "- that's where the amend item comes into play: `v[destination],:w`\n",
    "- size of that monkey's inventory\n",
    "\n"
   ]
  }
 ],
 "metadata": {
  "kernelspec": {
   "display_name": "ngn/k",
   "language": "ngnk",
   "name": "ngnk"
  },
  "language_info": {
   "file_extension": ".k",
   "mimetype": "text/ngnk",
   "name": "ngnk"
  }
 },
 "nbformat": 4,
 "nbformat_minor": 5
}
