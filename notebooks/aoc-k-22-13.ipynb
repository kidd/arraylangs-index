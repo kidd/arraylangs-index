{
 "cells": [
  {
   "cell_type": "markdown",
   "id": "624a2b33-d4de-4821-ab95-9ab9f4c6117d",
   "metadata": {
    "tags": []
   },
   "source": [
    "# AOC 2022"
   ]
  },
  {
   "cell_type": "code",
   "execution_count": 17,
   "id": "ba89476b-e902-4dc7-8abf-e1e0ad2ee636",
   "metadata": {},
   "outputs": [
    {
     "name": "stdout",
     "output_type": "stream",
     "text": [
      "'io\n",
      "\n"
     ]
    }
   ],
   "source": [
    "\\cd notebooks"
   ]
  },
  {
   "cell_type": "markdown",
   "id": "453c2df9-abdd-4fe7-9c2d-267b1d8be0bc",
   "metadata": {
    "tags": []
   },
   "source": [
    "# Advent of Code 2022 - 13"
   ]
  },
  {
   "cell_type": "markdown",
   "id": "971a3646-689b-44ad-819f-1e213407554a",
   "metadata": {},
   "source": [
    "URL: https://adventofcode.com/2022/day/13"
   ]
  },
  {
   "cell_type": "markdown",
   "id": "2b81c797-26cf-4ce5-97c1-5706872068cf",
   "metadata": {},
   "source": [
    "We'll study ngn's [solution](https://codeberg.org/ngn/k/src/branch/master/aoc/22/13.k):"
   ]
  },
  {
   "cell_type": "code",
   "execution_count": 65,
   "id": "71b1ab55-f725-433e-9317-4373ab5a79be",
   "metadata": {},
   "outputs": [],
   "source": [
    "x:_`j?''2#'0N 3#0:\"i/13\"\n",
    "\n",
    "// c:{a:(x~*x;y~*y)\n",
    "//    $[&/a;(x>y)-x<y\n",
    "//      &/~a;0^*(~:)_o'/((&/n)#'(x;y)),'n:(#x;#y)\n",
    "//      o.(!0),/:(x;y)]}\n",
    "// +/1+&0>c/'x                 /part1\n",
    "// */1 2+/'0<(,,2;,,6)c/:\\:,/x /part2"
   ]
  },
  {
   "cell_type": "markdown",
   "id": "e2ae863c-13d9-4596-8b92-2d1597c0c720",
   "metadata": {},
   "source": [
    "This problem shouldn't be very difficult: We have to check which ones of the pairs of json arrays are \"sorted\", according to a set of rules provided by the exercise.\n",
    "\n",
    "First, read the input:\n",
    "\n",
    "- Read the file\n",
    "- reshape to rows of 3 \"columns\". That effectively joins lines in groups of 3\n",
    "- For each group of 3 lines, resize to 2. That means, remove the ending blank line\n",
    "- For each group, for each element, parse json ``` `j? ```\n",
    "- _ no idea"
   ]
  },
  {
   "cell_type": "code",
   "execution_count": 58,
   "id": "975775f7-4e30-401a-9db6-073d516c3655",
   "metadata": {},
   "outputs": [
    {
     "name": "stdout",
     "output_type": "stream",
     "text": [
      "1\n"
     ]
    }
   ],
   "source": [
    "1~*(1;2)"
   ]
  },
  {
   "cell_type": "code",
   "execution_count": null,
   "id": "49668600-dfa3-4dfd-968c-dca5242e8f0c",
   "metadata": {},
   "outputs": [
    {
     "name": "stdout",
     "output_type": "stream",
     "text": [
      "(\"[[5],[1,[[0]]],[],[3,[[9,1],[3,4,10],8,3],6]]\"\n",
      " \"[[],[[6,8],4]]\"\n",
      " \"\")\n",
      ",\"\"\n"
     ]
    }
   ],
   "source": [
    "3#0:\"i/13\" /from this\n",
    "1#x        /to this"
   ]
  },
  {
   "cell_type": "markdown",
   "id": "0b6ad42b-9f37-43c3-bfb0-44cc0fef4183",
   "metadata": {
    "tags": []
   },
   "source": [
    "Now, the fun part\n",
    "```\n",
    "c:{a:(x~*x;y~*y)\n",
    "   $[&/a;(x>y)-x<y\n",
    "     &/~a;0^*(~:)_o'/((&/n)#'(x;y)),'n:(#x;#y)\n",
    "     o.(!0),/:(x;y)]}\n",
    "```\n",
    "\n",
    "- `a` becomes the tuple `x;y`, that we'll use for the conditional."
   ]
  },
  {
   "cell_type": "markdown",
   "id": "6fcf1ec3-7bf8-4b04-be71-89e9452ffbd8",
   "metadata": {
    "tags": []
   },
   "source": [
    "- If both x and y are the same as their first element, that means that they are atoms or single element lists\n",
    "- That means that, in this case, the min `&/a` will be 1, so the result of `c` is the result of `(x>y)-x<y`."
   ]
  },
  {
   "cell_type": "code",
   "execution_count": 91,
   "id": "e6d7f136-e558-4087-bfb8-da6c84b335bb",
   "metadata": {},
   "outputs": [
    {
     "name": "stdout",
     "output_type": "stream",
     "text": [
      "1\n",
      "0\n",
      "1\n",
      "1\n",
      "1\n"
     ]
    }
   ],
   "source": [
    "1~*1\n",
    "(1 2)~*(1 2)\n",
    "1~*(1)\n",
    "(1)~*(1)\n",
    "((1))~*(1 2)"
   ]
  },
  {
   "cell_type": "markdown",
   "id": "ee5f3566-6056-4d63-8ee4-c2468f454b0b",
   "metadata": {
    "tags": []
   },
   "source": [
    "- `(x>y)-x<y` returns -1 if x<y, 0 if x=y , 1 if x>y "
   ]
  },
  {
   "cell_type": "code",
   "execution_count": 87,
   "id": "c82045b7-827e-42f3-863a-c44e53e0f1e9",
   "metadata": {},
   "outputs": [
    {
     "name": "stdout",
     "output_type": "stream",
     "text": [
      "-1 0 1\n"
     ]
    }
   ],
   "source": [
    "{(x>y)-x<y}[0 1 2;2 1 0]"
   ]
  },
  {
   "cell_type": "markdown",
   "id": "f8c89ba6-39a6-4cfb-ad74-25bbfd421958",
   "metadata": {},
   "source": [
    "- When the min `&/~a` will be 1 means that all of the elements of `a` are 0. They all were lists with more than 1 element\n",
    "\n",
    "`&/~a;0^*(~:)_o'/((&/n)#'(x;y)),'n:(#x;#y)`\n",
    "\n",
    "\n",
    "There's some recursivity here, because we have to drill into the nested structure. In K, the current function is accessible via `o`\n",
    "Even without looking in detail, we see that there's some enumeration of the elements of `x` and `y` (`n:(#x;#y)`, and we can assume that somehow, the recursive function will pair the elements and call recursively. That would be reasonable.\n",
    "\n",
    "Let's examine the first part: `((&/n)#'(x;y)),'n:(#x;#y)`.\n",
    "\n",
    "This reshapes both arguments to the size of the smallest.\n",
    "- `n:(#x;#y)`. `n` is the list of the 2 sizes\n",
    "- `(&/n)#` Reshape to the min of `n`"
   ]
  },
  {
   "cell_type": "code",
   "execution_count": 100,
   "id": "d93dca2b-6588-4d0f-9cfc-f8bb7271c2f1",
   "metadata": {},
   "outputs": [
    {
     "name": "stdout",
     "output_type": "stream",
     "text": [
      "(9 8 7 6 5\n",
      " 0 1 2 3 4)\n"
     ]
    }
   ],
   "source": [
    "{(&/n)#'(x;y),'n:(#x;#y)}[|!10;!5]"
   ]
  },
  {
   "cell_type": "code",
   "execution_count": null,
   "id": "c5fbc650-b307-4fea-aca8-50e4d5bf59c7",
   "metadata": {},
   "outputs": [],
   "source": []
  }
 ],
 "metadata": {
  "kernelspec": {
   "display_name": "ngn/k",
   "language": "ngnk",
   "name": "ngnk"
  },
  "language_info": {
   "file_extension": ".k",
   "mimetype": "text/ngnk",
   "name": "ngnk"
  }
 },
 "nbformat": 4,
 "nbformat_minor": 5
}
