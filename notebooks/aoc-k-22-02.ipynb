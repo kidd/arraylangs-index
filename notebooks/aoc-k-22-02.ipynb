{
 "cells": [
  {
   "cell_type": "markdown",
   "id": "624a2b33-d4de-4821-ab95-9ab9f4c6117d",
   "metadata": {
    "tags": []
   },
   "source": [
    "# AOC 2022"
   ]
  },
  {
   "cell_type": "code",
   "execution_count": 2,
   "id": "ba89476b-e902-4dc7-8abf-e1e0ad2ee636",
   "metadata": {},
   "outputs": [
    {
     "name": "stdout",
     "output_type": "stream",
     "text": [
      "'io\n",
      "\n"
     ]
    }
   ],
   "source": [
    "\\cd notebooks"
   ]
  },
  {
   "cell_type": "markdown",
   "id": "453c2df9-abdd-4fe7-9c2d-267b1d8be0bc",
   "metadata": {
    "tags": []
   },
   "source": [
    "# Advent of Code 2022 - 02"
   ]
  },
  {
   "cell_type": "markdown",
   "id": "971a3646-689b-44ad-819f-1e213407554a",
   "metadata": {},
   "source": [
    "URL: https://adventofcode.com/2022/day/2"
   ]
  },
  {
   "cell_type": "markdown",
   "id": "2b81c797-26cf-4ce5-97c1-5706872068cf",
   "metadata": {},
   "source": [
    "We'll study ngn's [solution](https://codeberg.org/ngn/k/src/branch/master/aoc/22/02.k):"
   ]
  },
  {
   "cell_type": "code",
   "execution_count": 99,
   "id": "35008341-96b7-40e4-8f4d-501c557d8eeb",
   "metadata": {},
   "outputs": [
    {
     "name": "stdout",
     "output_type": "stream",
     "text": [
      "13484\n",
      "13433\n"
     ]
    }
   ],
   "source": [
    "x:3/-\"AX\"-(+0:\"i/02\")_1\n",
    "\n",
    "/   X   Y   Z\n",
    "/t:(1+3;2+6;3+0;  /A\n",
    "/   1+0;2+3;3+6;  /B\n",
    "/   1+6;2+0;3+3) /C\n",
    "t:(1+3;2+6;3+0; 1+0;2+3;3+6;  1+6;2+0;3+3) \n",
    "+/t x /part1\n",
    "\n",
    "/   X   Y   Z\n",
    "/t:(3+0;1+3;2+6;  /A\n",
    "/   1+0;2+3;3+6;  /B\n",
    "/   2+0;3+3;1+6) /C\n",
    "t:(3+0;1+3;2+6; 1+0;2+3;3+6; 2+0;3+3;1+6) \n",
    "\n",
    "+/t x /part2"
   ]
  },
  {
   "cell_type": "markdown",
   "id": "8875daf0-82ae-4ac8-80eb-3c36d57b2914",
   "metadata": {},
   "source": [
    "There seems to be a bug in ngn_k jupyter engine, that it doesn't accept multiline statements, so I'll run everything in one line, but I'm keeping the nicely formatted code block because it makes it easier to understand the code"
   ]
  },
  {
   "cell_type": "markdown",
   "id": "4946bc97-0740-4c66-b761-9b49519d318d",
   "metadata": {},
   "source": [
    "We first read the input file, transpose it and clean the second line (`_1` seems to be an ngn-k-ism)"
   ]
  },
  {
   "cell_type": "code",
   "execution_count": 66,
   "id": "7ff8a115-c047-4e8c-97d5-e4f6b0cec6b9",
   "metadata": {},
   "outputs": [],
   "source": [
    "x:(+0:\"i/02\")_1"
   ]
  },
  {
   "cell_type": "markdown",
   "id": "4c54eaf8-5f4b-4e3a-9b6a-471f74d730a1",
   "metadata": {},
   "source": [
    "Subtract \"A\" from the firt and \"X\" from the second row."
   ]
  },
  {
   "cell_type": "code",
   "execution_count": 72,
   "id": "18c44c3c-72a0-42d3-aedf-c7b027ec49b2",
   "metadata": {},
   "outputs": [],
   "source": [
    "x:\"AX\"-x"
   ]
  },
  {
   "cell_type": "markdown",
   "id": "77cb5a67-fefd-46ac-9b68-d4768da7b2ea",
   "metadata": {},
   "source": [
    "This is worth explaining: Here, element-by-element applies first, and later broadcasting happens. \n",
    "When \"unrolled\", `\"AX\"-x` is applied elementwise:\n",
    "\n",
    "```\n",
    "\"A\"-x@0\n",
    "\"X\"-x@1\n",
    "```\n",
    "\n",
    "For each one of those, `atom f list` replicates `atom` till `list's` length "
   ]
  },
  {
   "cell_type": "markdown",
   "id": "84684039-dd76-41c9-9bab-4d95279358fa",
   "metadata": {},
   "source": [
    "As all the values now are negative, because we subtracted the lowest of the letters, we negate them all again with `-`"
   ]
  },
  {
   "cell_type": "markdown",
   "id": "25296ce5-00d1-4fce-a62e-352f5082002c",
   "metadata": {},
   "source": [
    "Now, the `3/` part.  In `K`,l/l is `encode. Combine digits y in a base x into a single value.`. In this case, we'll encode the different numbers to base 3. It's doing some kind of pointer arithmetic, so we are going to multiply our opponent's choice by 3 (advancing through rows in the nicely formatted code) and then add the value of our choice (advancing through columns),"
   ]
  },
  {
   "cell_type": "markdown",
   "id": "ce852a3b-e57e-47a9-8e85-86e1dff78731",
   "metadata": {
    "tags": []
   },
   "source": [
    "Here's a few examples of `encode`, to learn more bout it"
   ]
  },
  {
   "cell_type": "code",
   "execution_count": null,
   "id": "f76c394d-ba59-426b-8492-c9e864ecf3c3",
   "metadata": {},
   "outputs": [
    {
     "name": "stdout",
     "output_type": "stream",
     "text": [
      "5\n",
      "6\n",
      "6\n",
      "5\n",
      "9\n"
     ]
    }
   ],
   "source": [
    "2/1 0 1     / 101 in binary to decimal\n",
    "2/1 0 2     / numbers above the encoding base work fine, they add 1\n",
    "2/1 1 0     / multiple ways of saying 7\n",
    "2 2 2/1 0 1 / encode broadcasts an atom into a list, but if you pass a list, that's ok too\n",
    "2 4 2/1 0 1 / not all digits have to be the same. "
   ]
  },
  {
   "cell_type": "markdown",
   "id": "cc462363-5071-4251-bcc7-9897386ee1c2",
   "metadata": {},
   "source": [
    "Back from the digression, here's the computed indices of the game simulations."
   ]
  },
  {
   "cell_type": "code",
   "execution_count": 101,
   "id": "6b5a458d-52f5-4f4e-a08b-c37aaf3fb1fe",
   "metadata": {},
   "outputs": [],
   "source": [
    "x:3/-\"AX\"-(+0:\"i/02\")_1"
   ]
  },
  {
   "cell_type": "markdown",
   "id": "e03009d3-29e3-4c18-a991-86ee232c64bc",
   "metadata": {},
   "source": [
    "Then, solving both problems is quite easy, just having to index through the table, and summing the results. Just notice how we access multple elements of the table by just writing `t x`.  That will return a result per each lookup, and then we only have to sum-over."
   ]
  },
  {
   "cell_type": "code",
   "execution_count": 122,
   "id": "6b6b91de-b268-4c0a-9a4c-bdf9dea0f2f9",
   "metadata": {},
   "outputs": [
    {
     "name": "stdout",
     "output_type": "stream",
     "text": [
      "13433\n"
     ]
    }
   ],
   "source": [
    "+/t x /part1"
   ]
  },
  {
   "cell_type": "markdown",
   "id": "c39530ac-d56b-4e42-9721-fd812f6e7b6c",
   "metadata": {},
   "source": [
    "Part 2 is very similar, just using a different scoring table"
   ]
  }
 ],
 "metadata": {
  "kernelspec": {
   "display_name": "ngn/k",
   "language": "ngnk",
   "name": "ngnk"
  },
  "language_info": {
   "file_extension": ".k",
   "mimetype": "text/ngnk",
   "name": "ngnk"
  }
 },
 "nbformat": 4,
 "nbformat_minor": 5
}
